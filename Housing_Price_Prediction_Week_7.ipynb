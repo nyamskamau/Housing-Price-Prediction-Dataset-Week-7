{
  "nbformat": 4,
  "nbformat_minor": 0,
  "metadata": {
    "colab": {
      "name": "Independent Project Week 7",
      "provenance": [],
      "collapsed_sections": [
        "3HSOTcVnUt5c",
        "qq-dBzXJV9es",
        "tcp7O09xITtT",
        "zrxziPTFMbjz",
        "eU6_pTtQZZpj"
      ],
      "authorship_tag": "ABX9TyNkSKt/CYwaDZdzYDA6ejKK",
      "include_colab_link": true
    },
    "kernelspec": {
      "name": "python3",
      "display_name": "Python 3"
    }
  },
  "cells": [
    {
      "cell_type": "markdown",
      "metadata": {
        "id": "view-in-github",
        "colab_type": "text"
      },
      "source": [
        "<a href=\"https://colab.research.google.com/github/nyamskamau/Housing-Price-Prediction-Dataset-Week-7/blob/main/Housing_Price_Prediction_Week_7.ipynb\" target=\"_parent\"><img src=\"https://colab.research.google.com/assets/colab-badge.svg\" alt=\"Open In Colab\"/></a>"
      ]
    },
    {
      "cell_type": "markdown",
      "metadata": {
        "id": "d4DtZIxvWiwd"
      },
      "source": [
        "# **Independent Project - Week 7** "
      ]
    },
    {
      "cell_type": "markdown",
      "metadata": {
        "id": "nh1TnoAVNDtT"
      },
      "source": [
        "> **1. Defining the Question**\n",
        "* Hass Consulting Company , a real estste company , would like to investigate the factors that affect housing prices using the given information on real estate properties that was collected over some months.\n",
        "* The company would then like to predict the sale price of Houses upon being provided with the predictor variables.\n"
      ]
    },
    {
      "cell_type": "markdown",
      "metadata": {
        "id": "sEAoA9ViN1zv"
      },
      "source": [
        "> **2. Metric for Success**\n",
        "* The metric for success for this analysis for the company  would be to determine the exact features that influence the price of a house and to predict the sale prices.\n",
        "* Ideally as a researcher while building my model, the metric of success will be measured by the Coefficient of Determination.\n",
        "I would like to obtain an r2_score of 0.80 or above while evaluating the performance of my model."
      ]
    },
    {
      "cell_type": "markdown",
      "metadata": {
        "id": "z5-6h_m4N1wh"
      },
      "source": [
        "> **3. Experimental Design Taken**\n",
        "* This first step of this analysis will be loading the dataset , the appropriate libraries and  then taking the necessary steps to clean the data.\n",
        "* Next I will carry out Univariate and Bivariate data analysis while dealing with the outliers found within my dataset,\n",
        "* Finally I will build several models:\n",
        "    * Multiple Linear Regression\n",
        "    * Quantile Regression\n",
        "    * Ridge Regression\n",
        "    * Lasso Regression\n",
        "    * Elastic Net Regression\n",
        "* And evaluate their performance on the dataset at hand and then provide  observations and recommendations on the suitability of each of the tested models on their appropriateness of solving the given problem. "
      ]
    },
    {
      "cell_type": "markdown",
      "metadata": {
        "id": "_YIyvJ-UN1rM"
      },
      "source": [
        "> **4. Exploring the Dataset**\n",
        "* The Dataset given has 20 columns , with the dependent variable being the Price of the house and the other variables being the features.\n",
        "* The descriptions for these columns is provided below."
      ]
    },
    {
      "cell_type": "markdown",
      "metadata": {
        "id": "Sghrds7iOLvE"
      },
      "source": [
        "> **5. The appropriateness of the available data to answer the given question**\n",
        "* Given the objectives of my analysis the Data available is appropriate."
      ]
    },
    {
      "cell_type": "markdown",
      "metadata": {
        "id": "o9-26TQrUpg6"
      },
      "source": [
        "## **1**. **Loading The Data**"
      ]
    },
    {
      "cell_type": "markdown",
      "metadata": {
        "id": "3HSOTcVnUt5c"
      },
      "source": [
        "### **1.1.Loading the Dataset and the Appropriate Libraries**"
      ]
    },
    {
      "cell_type": "markdown",
      "metadata": {
        "id": "0CEWE8yMU3yW"
      },
      "source": [
        "> * The first step I undertook in this analysis was loading the dataset onto my notebook and importing the libraries.\n",
        "* Next I previewed the dataset and obtained information on the datatypes of the columns given and gave a detailed description of all the columns given in the dataset.\n"
      ]
    },
    {
      "cell_type": "code",
      "metadata": {
        "id": "60tc2mEewA0N"
      },
      "source": [
        "import pandas as pd\n",
        "import numpy as np\n",
        "import matplotlib.pyplot as plt\n",
        "import seaborn as sns\n",
        "from sklearn.linear_model import LinearRegression\n",
        "from sklearn.metrics import mean_squared_error\n",
        "from sklearn.preprocessing import StandardScaler\n",
        "from sklearn.model_selection import train_test_split\n",
        "from sklearn.linear_model import Ridge\n",
        "from sklearn.linear_model import ElasticNet\n",
        "from sklearn.linear_model import Lasso\n",
        "from sklearn import linear_model"
      ],
      "execution_count": null,
      "outputs": []
    },
    {
      "cell_type": "code",
      "metadata": {
        "id": "IrHNzK88MZGj"
      },
      "source": [
        "df = pd.read_csv('Housedata.csv')"
      ],
      "execution_count": null,
      "outputs": []
    },
    {
      "cell_type": "code",
      "metadata": {
        "colab": {
          "base_uri": "https://localhost:8080/"
        },
        "id": "7nFt4S_gXJt5",
        "outputId": "734aad2e-6b03-4987-f9b4-8dc45d9f90dd"
      },
      "source": [
        "df.shape"
      ],
      "execution_count": null,
      "outputs": [
        {
          "output_type": "execute_result",
          "data": {
            "text/plain": [
              "(21613, 20)"
            ]
          },
          "metadata": {
            "tags": []
          },
          "execution_count": 226
        }
      ]
    },
    {
      "cell_type": "code",
      "metadata": {
        "colab": {
          "base_uri": "https://localhost:8080/"
        },
        "id": "82pd_89VOrzR",
        "outputId": "df727a3c-479a-48bb-cfa4-ef55378ed784"
      },
      "source": [
        "df.info()"
      ],
      "execution_count": null,
      "outputs": [
        {
          "output_type": "stream",
          "text": [
            "<class 'pandas.core.frame.DataFrame'>\n",
            "RangeIndex: 21613 entries, 0 to 21612\n",
            "Data columns (total 20 columns):\n",
            " #   Column         Non-Null Count  Dtype  \n",
            "---  ------         --------------  -----  \n",
            " 0   id             21613 non-null  int64  \n",
            " 1   price          21613 non-null  float64\n",
            " 2   bedrooms       21613 non-null  int64  \n",
            " 3   bathrooms      21613 non-null  float64\n",
            " 4   sqft_living    21613 non-null  int64  \n",
            " 5   sqft_lot       21613 non-null  int64  \n",
            " 6   floors         21613 non-null  float64\n",
            " 7   waterfront     21613 non-null  int64  \n",
            " 8   view           21613 non-null  int64  \n",
            " 9   condition      21613 non-null  int64  \n",
            " 10  grade          21613 non-null  int64  \n",
            " 11  sqft_above     21613 non-null  int64  \n",
            " 12  sqft_basement  21613 non-null  int64  \n",
            " 13  yr_built       21613 non-null  int64  \n",
            " 14  yr_renovated   21613 non-null  int64  \n",
            " 15  zipcode        21613 non-null  int64  \n",
            " 16  lat            21613 non-null  float64\n",
            " 17  long           21613 non-null  float64\n",
            " 18  sqft_living15  21613 non-null  int64  \n",
            " 19  sqft_lot15     21613 non-null  int64  \n",
            "dtypes: float64(5), int64(15)\n",
            "memory usage: 3.3 MB\n"
          ],
          "name": "stdout"
        }
      ]
    },
    {
      "cell_type": "code",
      "metadata": {
        "colab": {
          "base_uri": "https://localhost:8080/"
        },
        "id": "PShJWxpKmO5d",
        "outputId": "a51bf5d5-8d8f-4c8e-db1f-e8e62c61e0bb"
      },
      "source": [
        "df.head()"
      ],
      "execution_count": null,
      "outputs": [
        {
          "output_type": "execute_result",
          "data": {
            "text/html": [
              "<div>\n",
              "<style scoped>\n",
              "    .dataframe tbody tr th:only-of-type {\n",
              "        vertical-align: middle;\n",
              "    }\n",
              "\n",
              "    .dataframe tbody tr th {\n",
              "        vertical-align: top;\n",
              "    }\n",
              "\n",
              "    .dataframe thead th {\n",
              "        text-align: right;\n",
              "    }\n",
              "</style>\n",
              "<table border=\"1\" class=\"dataframe\">\n",
              "  <thead>\n",
              "    <tr style=\"text-align: right;\">\n",
              "      <th></th>\n",
              "      <th>id</th>\n",
              "      <th>price</th>\n",
              "      <th>bedrooms</th>\n",
              "      <th>bathrooms</th>\n",
              "      <th>sqft_living</th>\n",
              "      <th>sqft_lot</th>\n",
              "      <th>floors</th>\n",
              "      <th>waterfront</th>\n",
              "      <th>view</th>\n",
              "      <th>condition</th>\n",
              "      <th>grade</th>\n",
              "      <th>sqft_above</th>\n",
              "      <th>sqft_basement</th>\n",
              "      <th>yr_built</th>\n",
              "      <th>yr_renovated</th>\n",
              "      <th>zipcode</th>\n",
              "      <th>lat</th>\n",
              "      <th>long</th>\n",
              "      <th>sqft_living15</th>\n",
              "      <th>sqft_lot15</th>\n",
              "    </tr>\n",
              "  </thead>\n",
              "  <tbody>\n",
              "    <tr>\n",
              "      <th>0</th>\n",
              "      <td>7129300520</td>\n",
              "      <td>221900.00000</td>\n",
              "      <td>3</td>\n",
              "      <td>1.00000</td>\n",
              "      <td>1180</td>\n",
              "      <td>5650</td>\n",
              "      <td>1.00000</td>\n",
              "      <td>0</td>\n",
              "      <td>0</td>\n",
              "      <td>3</td>\n",
              "      <td>7</td>\n",
              "      <td>1180</td>\n",
              "      <td>0</td>\n",
              "      <td>1955</td>\n",
              "      <td>0</td>\n",
              "      <td>98178</td>\n",
              "      <td>47.51120</td>\n",
              "      <td>-122.25700</td>\n",
              "      <td>1340</td>\n",
              "      <td>5650</td>\n",
              "    </tr>\n",
              "    <tr>\n",
              "      <th>1</th>\n",
              "      <td>6414100192</td>\n",
              "      <td>538000.00000</td>\n",
              "      <td>3</td>\n",
              "      <td>2.25000</td>\n",
              "      <td>2570</td>\n",
              "      <td>7242</td>\n",
              "      <td>2.00000</td>\n",
              "      <td>0</td>\n",
              "      <td>0</td>\n",
              "      <td>3</td>\n",
              "      <td>7</td>\n",
              "      <td>2170</td>\n",
              "      <td>400</td>\n",
              "      <td>1951</td>\n",
              "      <td>1991</td>\n",
              "      <td>98125</td>\n",
              "      <td>47.72100</td>\n",
              "      <td>-122.31900</td>\n",
              "      <td>1690</td>\n",
              "      <td>7639</td>\n",
              "    </tr>\n",
              "    <tr>\n",
              "      <th>2</th>\n",
              "      <td>5631500400</td>\n",
              "      <td>180000.00000</td>\n",
              "      <td>2</td>\n",
              "      <td>1.00000</td>\n",
              "      <td>770</td>\n",
              "      <td>10000</td>\n",
              "      <td>1.00000</td>\n",
              "      <td>0</td>\n",
              "      <td>0</td>\n",
              "      <td>3</td>\n",
              "      <td>6</td>\n",
              "      <td>770</td>\n",
              "      <td>0</td>\n",
              "      <td>1933</td>\n",
              "      <td>0</td>\n",
              "      <td>98028</td>\n",
              "      <td>47.73790</td>\n",
              "      <td>-122.23300</td>\n",
              "      <td>2720</td>\n",
              "      <td>8062</td>\n",
              "    </tr>\n",
              "    <tr>\n",
              "      <th>3</th>\n",
              "      <td>2487200875</td>\n",
              "      <td>604000.00000</td>\n",
              "      <td>4</td>\n",
              "      <td>3.00000</td>\n",
              "      <td>1960</td>\n",
              "      <td>5000</td>\n",
              "      <td>1.00000</td>\n",
              "      <td>0</td>\n",
              "      <td>0</td>\n",
              "      <td>5</td>\n",
              "      <td>7</td>\n",
              "      <td>1050</td>\n",
              "      <td>910</td>\n",
              "      <td>1965</td>\n",
              "      <td>0</td>\n",
              "      <td>98136</td>\n",
              "      <td>47.52080</td>\n",
              "      <td>-122.39300</td>\n",
              "      <td>1360</td>\n",
              "      <td>5000</td>\n",
              "    </tr>\n",
              "    <tr>\n",
              "      <th>4</th>\n",
              "      <td>1954400510</td>\n",
              "      <td>510000.00000</td>\n",
              "      <td>3</td>\n",
              "      <td>2.00000</td>\n",
              "      <td>1680</td>\n",
              "      <td>8080</td>\n",
              "      <td>1.00000</td>\n",
              "      <td>0</td>\n",
              "      <td>0</td>\n",
              "      <td>3</td>\n",
              "      <td>8</td>\n",
              "      <td>1680</td>\n",
              "      <td>0</td>\n",
              "      <td>1987</td>\n",
              "      <td>0</td>\n",
              "      <td>98074</td>\n",
              "      <td>47.61680</td>\n",
              "      <td>-122.04500</td>\n",
              "      <td>1800</td>\n",
              "      <td>7503</td>\n",
              "    </tr>\n",
              "  </tbody>\n",
              "</table>\n",
              "</div>"
            ],
            "text/plain": [
              "           id        price  bedrooms  ...       long  sqft_living15  sqft_lot15\n",
              "0  7129300520 221900.00000         3  ... -122.25700           1340        5650\n",
              "1  6414100192 538000.00000         3  ... -122.31900           1690        7639\n",
              "2  5631500400 180000.00000         2  ... -122.23300           2720        8062\n",
              "3  2487200875 604000.00000         4  ... -122.39300           1360        5000\n",
              "4  1954400510 510000.00000         3  ... -122.04500           1800        7503\n",
              "\n",
              "[5 rows x 20 columns]"
            ]
          },
          "metadata": {
            "tags": []
          },
          "execution_count": 228
        }
      ]
    },
    {
      "cell_type": "code",
      "metadata": {
        "colab": {
          "base_uri": "https://localhost:8080/"
        },
        "id": "22KoFftgmRiF",
        "outputId": "6286518a-cf0e-4955-bb49-2f6f4a088c64"
      },
      "source": [
        "df.tail()"
      ],
      "execution_count": null,
      "outputs": [
        {
          "output_type": "execute_result",
          "data": {
            "text/html": [
              "<div>\n",
              "<style scoped>\n",
              "    .dataframe tbody tr th:only-of-type {\n",
              "        vertical-align: middle;\n",
              "    }\n",
              "\n",
              "    .dataframe tbody tr th {\n",
              "        vertical-align: top;\n",
              "    }\n",
              "\n",
              "    .dataframe thead th {\n",
              "        text-align: right;\n",
              "    }\n",
              "</style>\n",
              "<table border=\"1\" class=\"dataframe\">\n",
              "  <thead>\n",
              "    <tr style=\"text-align: right;\">\n",
              "      <th></th>\n",
              "      <th>id</th>\n",
              "      <th>price</th>\n",
              "      <th>bedrooms</th>\n",
              "      <th>bathrooms</th>\n",
              "      <th>sqft_living</th>\n",
              "      <th>sqft_lot</th>\n",
              "      <th>floors</th>\n",
              "      <th>waterfront</th>\n",
              "      <th>view</th>\n",
              "      <th>condition</th>\n",
              "      <th>grade</th>\n",
              "      <th>sqft_above</th>\n",
              "      <th>sqft_basement</th>\n",
              "      <th>yr_built</th>\n",
              "      <th>yr_renovated</th>\n",
              "      <th>zipcode</th>\n",
              "      <th>lat</th>\n",
              "      <th>long</th>\n",
              "      <th>sqft_living15</th>\n",
              "      <th>sqft_lot15</th>\n",
              "    </tr>\n",
              "  </thead>\n",
              "  <tbody>\n",
              "    <tr>\n",
              "      <th>21608</th>\n",
              "      <td>263000018</td>\n",
              "      <td>360000.00000</td>\n",
              "      <td>3</td>\n",
              "      <td>2.50000</td>\n",
              "      <td>1530</td>\n",
              "      <td>1131</td>\n",
              "      <td>3.00000</td>\n",
              "      <td>0</td>\n",
              "      <td>0</td>\n",
              "      <td>3</td>\n",
              "      <td>8</td>\n",
              "      <td>1530</td>\n",
              "      <td>0</td>\n",
              "      <td>2009</td>\n",
              "      <td>0</td>\n",
              "      <td>98103</td>\n",
              "      <td>47.69930</td>\n",
              "      <td>-122.34600</td>\n",
              "      <td>1530</td>\n",
              "      <td>1509</td>\n",
              "    </tr>\n",
              "    <tr>\n",
              "      <th>21609</th>\n",
              "      <td>6600060120</td>\n",
              "      <td>400000.00000</td>\n",
              "      <td>4</td>\n",
              "      <td>2.50000</td>\n",
              "      <td>2310</td>\n",
              "      <td>5813</td>\n",
              "      <td>2.00000</td>\n",
              "      <td>0</td>\n",
              "      <td>0</td>\n",
              "      <td>3</td>\n",
              "      <td>8</td>\n",
              "      <td>2310</td>\n",
              "      <td>0</td>\n",
              "      <td>2014</td>\n",
              "      <td>0</td>\n",
              "      <td>98146</td>\n",
              "      <td>47.51070</td>\n",
              "      <td>-122.36200</td>\n",
              "      <td>1830</td>\n",
              "      <td>7200</td>\n",
              "    </tr>\n",
              "    <tr>\n",
              "      <th>21610</th>\n",
              "      <td>1523300141</td>\n",
              "      <td>402101.00000</td>\n",
              "      <td>2</td>\n",
              "      <td>0.75000</td>\n",
              "      <td>1020</td>\n",
              "      <td>1350</td>\n",
              "      <td>2.00000</td>\n",
              "      <td>0</td>\n",
              "      <td>0</td>\n",
              "      <td>3</td>\n",
              "      <td>7</td>\n",
              "      <td>1020</td>\n",
              "      <td>0</td>\n",
              "      <td>2009</td>\n",
              "      <td>0</td>\n",
              "      <td>98144</td>\n",
              "      <td>47.59440</td>\n",
              "      <td>-122.29900</td>\n",
              "      <td>1020</td>\n",
              "      <td>2007</td>\n",
              "    </tr>\n",
              "    <tr>\n",
              "      <th>21611</th>\n",
              "      <td>291310100</td>\n",
              "      <td>400000.00000</td>\n",
              "      <td>3</td>\n",
              "      <td>2.50000</td>\n",
              "      <td>1600</td>\n",
              "      <td>2388</td>\n",
              "      <td>2.00000</td>\n",
              "      <td>0</td>\n",
              "      <td>0</td>\n",
              "      <td>3</td>\n",
              "      <td>8</td>\n",
              "      <td>1600</td>\n",
              "      <td>0</td>\n",
              "      <td>2004</td>\n",
              "      <td>0</td>\n",
              "      <td>98027</td>\n",
              "      <td>47.53450</td>\n",
              "      <td>-122.06900</td>\n",
              "      <td>1410</td>\n",
              "      <td>1287</td>\n",
              "    </tr>\n",
              "    <tr>\n",
              "      <th>21612</th>\n",
              "      <td>1523300157</td>\n",
              "      <td>325000.00000</td>\n",
              "      <td>2</td>\n",
              "      <td>0.75000</td>\n",
              "      <td>1020</td>\n",
              "      <td>1076</td>\n",
              "      <td>2.00000</td>\n",
              "      <td>0</td>\n",
              "      <td>0</td>\n",
              "      <td>3</td>\n",
              "      <td>7</td>\n",
              "      <td>1020</td>\n",
              "      <td>0</td>\n",
              "      <td>2008</td>\n",
              "      <td>0</td>\n",
              "      <td>98144</td>\n",
              "      <td>47.59410</td>\n",
              "      <td>-122.29900</td>\n",
              "      <td>1020</td>\n",
              "      <td>1357</td>\n",
              "    </tr>\n",
              "  </tbody>\n",
              "</table>\n",
              "</div>"
            ],
            "text/plain": [
              "               id        price  bedrooms  ...       long  sqft_living15  sqft_lot15\n",
              "21608   263000018 360000.00000         3  ... -122.34600           1530        1509\n",
              "21609  6600060120 400000.00000         4  ... -122.36200           1830        7200\n",
              "21610  1523300141 402101.00000         2  ... -122.29900           1020        2007\n",
              "21611   291310100 400000.00000         3  ... -122.06900           1410        1287\n",
              "21612  1523300157 325000.00000         2  ... -122.29900           1020        1357\n",
              "\n",
              "[5 rows x 20 columns]"
            ]
          },
          "metadata": {
            "tags": []
          },
          "execution_count": 229
        }
      ]
    },
    {
      "cell_type": "markdown",
      "metadata": {
        "id": "6fVG1mcLOyLR"
      },
      "source": [
        "The desciptions of the columns found in the Dataset were: \n",
        "\n",
        ">* Id \n",
        ">* price  - Price of the house\n",
        ">* bedrooms - Number of Bedrooms\n",
        ">* bathrooms - Number of Bathrooms\n",
        ">* sqft_living - Square feet area of living area\n",
        ">* sqft_lot  - Square feet area of parking Layout\n",
        ">* floors - Number of Floors\n",
        ">* waterfront - Whether waterfront is there or not\n",
        ">* view - Number of Views\n",
        ">* grade - Grades\n",
        ">* sqft_above - Square feet of the area above the basement.\n",
        ">* sqft_basement - Square feet area of the basement\n",
        ">* yr_built - Year the house is built\n",
        ">* yr_renovated - Year the house is renovated\n",
        ">* zipcode - zipcode os the house\n",
        ">* lat : Latitude of the house\n",
        ">* lon : Longitude of the house\n",
        ">* sqft_living15\n",
        ">* sqft_lot15"
      ]
    },
    {
      "cell_type": "markdown",
      "metadata": {
        "id": "qq-dBzXJV9es"
      },
      "source": [
        "### **1.2.Data Cleaning**"
      ]
    },
    {
      "cell_type": "markdown",
      "metadata": {
        "id": "hVnDr24UWGej"
      },
      "source": [
        "The next step I undertook was cleaning the dataset and checking the appropriateness of the columns given in the analysis."
      ]
    },
    {
      "cell_type": "markdown",
      "metadata": {
        "id": "PiDDyREeF-oU"
      },
      "source": [
        "#### 1.2.1.Validity\n",
        "\n",
        ">* I checked for the relevance of the columns given in the dataset in my analysis.\n",
        ">*  As majority of the houses in the dataset did not have a Waterfront I also dropped this column from my dataset.\n",
        ">* Similarly majority of the houses had not been renovated and hence this column was also dropped."
      ]
    },
    {
      "cell_type": "code",
      "metadata": {
        "colab": {
          "base_uri": "https://localhost:8080/"
        },
        "id": "3g4080HBG5A2",
        "outputId": "6154c6c5-5747-4831-9f3e-b17fb6c8b9b4"
      },
      "source": [
        "df.waterfront.value_counts()"
      ],
      "execution_count": null,
      "outputs": [
        {
          "output_type": "execute_result",
          "data": {
            "text/plain": [
              "0    21450\n",
              "1      163\n",
              "Name: waterfront, dtype: int64"
            ]
          },
          "metadata": {
            "tags": []
          },
          "execution_count": 230
        }
      ]
    },
    {
      "cell_type": "code",
      "metadata": {
        "colab": {
          "base_uri": "https://localhost:8080/"
        },
        "id": "ImDR1hzQH3f0",
        "outputId": "e4b081cd-d0be-438d-bc93-57dbda4133bb"
      },
      "source": [
        "df.yr_renovated.value_counts()"
      ],
      "execution_count": null,
      "outputs": [
        {
          "output_type": "execute_result",
          "data": {
            "text/plain": [
              "0       20699\n",
              "2014       91\n",
              "2013       37\n",
              "2003       36\n",
              "2000       35\n",
              "        ...  \n",
              "1934        1\n",
              "1959        1\n",
              "1951        1\n",
              "1948        1\n",
              "1944        1\n",
              "Name: yr_renovated, Length: 70, dtype: int64"
            ]
          },
          "metadata": {
            "tags": []
          },
          "execution_count": 231
        }
      ]
    },
    {
      "cell_type": "code",
      "metadata": {
        "id": "MBZC0vaRGeFX"
      },
      "source": [
        "df.drop(['id','yr_renovated'],axis=1,inplace=True)"
      ],
      "execution_count": null,
      "outputs": []
    },
    {
      "cell_type": "markdown",
      "metadata": {
        "id": "tcp7O09xITtT"
      },
      "source": [
        "####1.2.2.Accuracy\n",
        "\n",
        ">* Checking that the data in the columns was correct.\n",
        ">* In the bedrooms column some entries were recorded as having zero bedrooms.\n",
        " "
      ]
    },
    {
      "cell_type": "code",
      "metadata": {
        "colab": {
          "base_uri": "https://localhost:8080/"
        },
        "id": "Ic_23_pZIvRI",
        "outputId": "f51607a3-2279-4d5a-bdf3-7e4c6a1dab67"
      },
      "source": [
        "df.bedrooms.value_counts()"
      ],
      "execution_count": null,
      "outputs": [
        {
          "output_type": "execute_result",
          "data": {
            "text/plain": [
              "3     9824\n",
              "4     6882\n",
              "2     2760\n",
              "5     1601\n",
              "6      272\n",
              "1      199\n",
              "7       38\n",
              "8       13\n",
              "0       13\n",
              "9        6\n",
              "10       3\n",
              "11       1\n",
              "33       1\n",
              "Name: bedrooms, dtype: int64"
            ]
          },
          "metadata": {
            "tags": []
          },
          "execution_count": 233
        }
      ]
    },
    {
      "cell_type": "code",
      "metadata": {
        "colab": {
          "base_uri": "https://localhost:8080/"
        },
        "id": "aU9KeWNFJV85",
        "outputId": "1bae7cce-28cd-4f21-9694-8e509d36c139"
      },
      "source": [
        "df.bathrooms.value_counts()"
      ],
      "execution_count": null,
      "outputs": [
        {
          "output_type": "execute_result",
          "data": {
            "text/plain": [
              "2.50000    5380\n",
              "1.00000    3852\n",
              "1.75000    3048\n",
              "2.25000    2047\n",
              "2.00000    1930\n",
              "1.50000    1446\n",
              "2.75000    1185\n",
              "3.00000     753\n",
              "3.50000     731\n",
              "3.25000     589\n",
              "3.75000     155\n",
              "4.00000     136\n",
              "4.50000     100\n",
              "4.25000      79\n",
              "0.75000      72\n",
              "4.75000      23\n",
              "5.00000      21\n",
              "5.25000      13\n",
              "0.00000      10\n",
              "5.50000      10\n",
              "1.25000       9\n",
              "6.00000       6\n",
              "0.50000       4\n",
              "5.75000       4\n",
              "8.00000       2\n",
              "6.25000       2\n",
              "6.50000       2\n",
              "6.75000       2\n",
              "7.50000       1\n",
              "7.75000       1\n",
              "Name: bathrooms, dtype: int64"
            ]
          },
          "metadata": {
            "tags": []
          },
          "execution_count": 234
        }
      ]
    },
    {
      "cell_type": "markdown",
      "metadata": {
        "id": "CMaMyh4LKzGq"
      },
      "source": [
        "#### 1.2.3.Completeness\n",
        ">* I then checked whether there were any missing values in the Dataset."
      ]
    },
    {
      "cell_type": "code",
      "metadata": {
        "colab": {
          "base_uri": "https://localhost:8080/"
        },
        "id": "EetvdshkXICn",
        "outputId": "1ddb8fd7-605b-4454-f001-3c174906a73e"
      },
      "source": [
        "df.isnull().sum().sum()"
      ],
      "execution_count": null,
      "outputs": [
        {
          "output_type": "execute_result",
          "data": {
            "text/plain": [
              "0"
            ]
          },
          "metadata": {
            "tags": []
          },
          "execution_count": 235
        }
      ]
    },
    {
      "cell_type": "markdown",
      "metadata": {
        "id": "_Yi_5ClrLeAG"
      },
      "source": [
        "#### 1.2.4.Consistency\n",
        ">* I checked for duplicated entries in the dataset.\n",
        "Seeing as there were three I opted to dropped these from the dataset."
      ]
    },
    {
      "cell_type": "code",
      "metadata": {
        "colab": {
          "base_uri": "https://localhost:8080/"
        },
        "id": "vU78GNsnXC0i",
        "outputId": "9a3c96d5-20af-4f09-92ad-91c14b3038c0"
      },
      "source": [
        "df.duplicated().sum()"
      ],
      "execution_count": null,
      "outputs": [
        {
          "output_type": "execute_result",
          "data": {
            "text/plain": [
              "5"
            ]
          },
          "metadata": {
            "tags": []
          },
          "execution_count": 236
        }
      ]
    },
    {
      "cell_type": "code",
      "metadata": {
        "id": "UUiIp4ZfXTK3"
      },
      "source": [
        "df.drop_duplicates(inplace=True)"
      ],
      "execution_count": null,
      "outputs": []
    },
    {
      "cell_type": "code",
      "metadata": {
        "colab": {
          "base_uri": "https://localhost:8080/"
        },
        "id": "KdmyXTcSXYrR",
        "outputId": "8646a708-b419-49f5-fc13-d5242eb6ba7b"
      },
      "source": [
        "df.duplicated().sum()"
      ],
      "execution_count": null,
      "outputs": [
        {
          "output_type": "execute_result",
          "data": {
            "text/plain": [
              "0"
            ]
          },
          "metadata": {
            "tags": []
          },
          "execution_count": 238
        }
      ]
    },
    {
      "cell_type": "markdown",
      "metadata": {
        "id": "lHopaAVaL-jr"
      },
      "source": [
        "#### 1.2.5.Uniformity.\n",
        "\n",
        ">* Seeing as the columns were all named correctly , and of the right data type I proceeded to carry out EDA."
      ]
    },
    {
      "cell_type": "markdown",
      "metadata": {
        "id": "ToabIMgGZIGi"
      },
      "source": [
        "## **2.Exploratory Data Analysis**"
      ]
    },
    {
      "cell_type": "markdown",
      "metadata": {
        "id": "zrxziPTFMbjz"
      },
      "source": [
        "###2.1.Univariate Analysis."
      ]
    },
    {
      "cell_type": "markdown",
      "metadata": {
        "id": "HucfMIL6NPW8"
      },
      "source": [
        "> The Price Variable"
      ]
    },
    {
      "cell_type": "code",
      "metadata": {
        "id": "mNzkPsIec2bK"
      },
      "source": [
        "pd.options.display.float_format = '{:.5f}'.format"
      ],
      "execution_count": null,
      "outputs": []
    },
    {
      "cell_type": "markdown",
      "metadata": {
        "id": "ZrfsI3zHRNfe"
      },
      "source": [
        ">* Obtaining the mean, mode ,median and range for the column"
      ]
    },
    {
      "cell_type": "code",
      "metadata": {
        "colab": {
          "base_uri": "https://localhost:8080/"
        },
        "id": "gEUFWNFCf0wN",
        "outputId": "b232db2d-ebf2-4fe8-8abf-680e0a11b6b5"
      },
      "source": [
        "df['price'].describe()"
      ],
      "execution_count": null,
      "outputs": [
        {
          "output_type": "execute_result",
          "data": {
            "text/plain": [
              "count     21608.00000\n",
              "mean     540192.40781\n",
              "std      367399.63434\n",
              "min       75000.00000\n",
              "25%      321837.50000\n",
              "50%      450000.00000\n",
              "75%      645000.00000\n",
              "max     7700000.00000\n",
              "Name: price, dtype: float64"
            ]
          },
          "metadata": {
            "tags": []
          },
          "execution_count": 240
        }
      ]
    },
    {
      "cell_type": "code",
      "metadata": {
        "colab": {
          "base_uri": "https://localhost:8080/"
        },
        "id": "NfqdJiwQP666",
        "outputId": "f9f1d8ad-fc88-4d4a-c602-ab5148c14348"
      },
      "source": [
        "a=df['price'].max()\n",
        "b=df['price'].min()\n",
        "range = a-b\n",
        "range"
      ],
      "execution_count": null,
      "outputs": [
        {
          "output_type": "execute_result",
          "data": {
            "text/plain": [
              "7625000.0"
            ]
          },
          "metadata": {
            "tags": []
          },
          "execution_count": 241
        }
      ]
    },
    {
      "cell_type": "markdown",
      "metadata": {
        "id": "0OfV6T2KREYy"
      },
      "source": [
        ">* Plotting a boxplot and histogram for the column "
      ]
    },
    {
      "cell_type": "code",
      "metadata": {
        "colab": {
          "base_uri": "https://localhost:8080/"
        },
        "id": "UEyIAveMgTxj",
        "outputId": "ae73ca5f-7beb-49a2-844c-3fde8994caac"
      },
      "source": [
        "df1 =df['price']\n",
        "plt.hist(df1, bins=30, histtype='bar', rwidth=2)\n",
        "\n",
        "plt.xlabel('Price')\n",
        "plt.ylabel('Number')\n",
        "plt.title('Histogram showing Price of Houses') \n",
        "plt.show()\n"
      ],
      "execution_count": null,
      "outputs": [
        {
          "output_type": "display_data",
          "data": {
            "image/png": "[encoded data removed]",
            "text/plain": [
              "<Figure size 432x288 with 1 Axes>"
            ]
          },
          "metadata": {
            "tags": [],
            "needs_background": "light"
          }
        }
      ]
    },
    {
      "cell_type": "code",
      "metadata": {
        "colab": {
          "base_uri": "https://localhost:8080/"
        },
        "id": "S5AwaDGelYEv",
        "outputId": "0248843c-e349-46cf-cda7-86e9b69b74ed"
      },
      "source": [
        "plt.scatter(df.price,df.index)"
      ],
      "execution_count": null,
      "outputs": [
        {
          "output_type": "execute_result",
          "data": {
            "text/plain": [
              "<matplotlib.collections.PathCollection at 0x7fcc5d6421d0>"
            ]
          },
          "metadata": {
            "tags": []
          },
          "execution_count": 243
        },
        {
          "output_type": "display_data",
          "data": {
            "image/png": "[encoded data removed]",
            "text/plain": [
              "<Figure size 432x288 with 1 Axes>"
            ]
          },
          "metadata": {
            "tags": [],
            "needs_background": "light"
          }
        }
      ]
    },
    {
      "cell_type": "code",
      "metadata": {
        "colab": {
          "base_uri": "https://localhost:8080/"
        },
        "id": "BiuD2mg5QU1G",
        "outputId": "a84347f2-d5e4-42f8-a25a-4f0cee207884"
      },
      "source": [
        "df.boxplot('price')"
      ],
      "execution_count": null,
      "outputs": [
        {
          "output_type": "execute_result",
          "data": {
            "text/plain": [
              "<matplotlib.axes._subplots.AxesSubplot at 0x7fcc5d7d8d68>"
            ]
          },
          "metadata": {
            "tags": []
          },
          "execution_count": 244
        },
        {
          "output_type": "display_data",
          "data": {
            "image/png": "[encoded data removed]",
            "text/plain": [
              "<Figure size 432x288 with 1 Axes>"
            ]
          },
          "metadata": {
            "tags": [],
            "needs_background": "light"
          }
        }
      ]
    },
    {
      "cell_type": "markdown",
      "metadata": {
        "id": "fCfkYFk3Q_Q5"
      },
      "source": [
        ">* Checking for outliers in the column."
      ]
    },
    {
      "cell_type": "code",
      "metadata": {
        "colab": {
          "base_uri": "https://localhost:8080/"
        },
        "id": "hqq3yZI9-lIi",
        "outputId": "1432ddf9-e09e-4d04-c9c1-f96e2d7d7a17"
      },
      "source": [
        "Q1 = df[['price']].quantile(0.25)\n",
        "Q3 = df[['price']].quantile(0.75)\n",
        "IQR = Q3 - Q1\n",
        "((df[['price']]<(Q1 - 1.5*IQR))|(df[['price']]>(Q3 + 1.5 *IQR))).value_counts()"
      ],
      "execution_count": null,
      "outputs": [
        {
          "output_type": "execute_result",
          "data": {
            "text/plain": [
              "price\n",
              "False    20449\n",
              "True      1159\n",
              "dtype: int64"
            ]
          },
          "metadata": {
            "tags": []
          },
          "execution_count": 245
        }
      ]
    },
    {
      "cell_type": "markdown",
      "metadata": {
        "id": "fkDAvO-DNz5u"
      },
      "source": [
        ">* The mean price of the houses was  540,82 while the minimum price 75,000 and the maximum price was 7,700,000.\n",
        ">* The range of the variable is 7,625,000 which is very high.\n",
        ">* The column also had a number of outliers which I opted not to drop here, given that they would be used in Building the models."
      ]
    },
    {
      "cell_type": "markdown",
      "metadata": {
        "id": "xHDD6W58SZO2"
      },
      "source": [
        "Grade Variable."
      ]
    },
    {
      "cell_type": "code",
      "metadata": {
        "colab": {
          "base_uri": "https://localhost:8080/"
        },
        "id": "_sqHMJVRjx3l",
        "outputId": "018b996d-fbfd-4617-918d-2089d5c96f58"
      },
      "source": [
        "df.grade.describe()"
      ],
      "execution_count": null,
      "outputs": [
        {
          "output_type": "execute_result",
          "data": {
            "text/plain": [
              "count   21608.00000\n",
              "mean        7.65665\n",
              "std         1.17548\n",
              "min         1.00000\n",
              "25%         7.00000\n",
              "50%         7.00000\n",
              "75%         8.00000\n",
              "max        13.00000\n",
              "Name: grade, dtype: float64"
            ]
          },
          "metadata": {
            "tags": []
          },
          "execution_count": 246
        }
      ]
    },
    {
      "cell_type": "code",
      "metadata": {
        "colab": {
          "base_uri": "https://localhost:8080/"
        },
        "id": "o-BNq2ImStMp",
        "outputId": "d3f52363-146b-4d1c-a05f-46f3fc0fd405"
      },
      "source": [
        "labels=df.grade.unique()\n",
        "plt.bar(labels , df['grade'].value_counts())\n",
        "plt.ylabel(\"Number\")\n",
        "plt.xlabel(\"Grade\")\n",
        "plt.title(\"Graph showing the Number of Houses per Grade\")\n",
        "plt.show()"
      ],
      "execution_count": null,
      "outputs": [
        {
          "output_type": "display_data",
          "data": {
            "image/png": "[encoded data removed]",
            "text/plain": [
              "<Figure size 432x288 with 1 Axes>"
            ]
          },
          "metadata": {
            "tags": [],
            "needs_background": "light"
          }
        }
      ]
    },
    {
      "cell_type": "markdown",
      "metadata": {
        "id": "1k55ZAO9Tbhz"
      },
      "source": [
        ">* Majority of the Houses were given a grade of 7 whereas these grades ranged from 1-13."
      ]
    },
    {
      "cell_type": "markdown",
      "metadata": {
        "id": "3aRe3FjdT-eB"
      },
      "source": [
        "View Variable"
      ]
    },
    {
      "cell_type": "code",
      "metadata": {
        "colab": {
          "base_uri": "https://localhost:8080/"
        },
        "id": "jmnC3OQhUDFE",
        "outputId": "db5cb499-546d-4deb-a61e-3cfb20d6c976"
      },
      "source": [
        "df.view.describe()"
      ],
      "execution_count": null,
      "outputs": [
        {
          "output_type": "execute_result",
          "data": {
            "text/plain": [
              "count   21608.00000\n",
              "mean        0.23422\n",
              "std         0.76617\n",
              "min         0.00000\n",
              "25%         0.00000\n",
              "50%         0.00000\n",
              "75%         0.00000\n",
              "max         4.00000\n",
              "Name: view, dtype: float64"
            ]
          },
          "metadata": {
            "tags": []
          },
          "execution_count": 248
        }
      ]
    },
    {
      "cell_type": "code",
      "metadata": {
        "colab": {
          "base_uri": "https://localhost:8080/"
        },
        "id": "v8WY6MoVUKv0",
        "outputId": "5ea27521-8438-4de3-dec1-82ef10c3d65c"
      },
      "source": [
        "labels=df.view.unique()\n",
        "plt.bar(labels , df['view'].value_counts())\n",
        "plt.ylabel(\"Number\")\n",
        "plt.xlabel(\"View\")\n",
        "plt.title(\"Graph showing the Number of View a House has.\")\n",
        "plt.show()"
      ],
      "execution_count": null,
      "outputs": [
        {
          "output_type": "display_data",
          "data": {
            "image/png": "[encoded data removed]",
            "text/plain": [
              "<Figure size 432x288 with 1 Axes>"
            ]
          },
          "metadata": {
            "tags": [],
            "needs_background": "light"
          }
        }
      ]
    },
    {
      "cell_type": "code",
      "metadata": {
        "colab": {
          "base_uri": "https://localhost:8080/"
        },
        "id": "lTXHSDJPlgMT",
        "outputId": "f51ee658-a9e5-4066-89f9-6eed162622dd"
      },
      "source": [
        "df.view.value_counts()"
      ],
      "execution_count": null,
      "outputs": [
        {
          "output_type": "execute_result",
          "data": {
            "text/plain": [
              "0    19485\n",
              "2      963\n",
              "3      509\n",
              "1      332\n",
              "4      319\n",
              "Name: view, dtype: int64"
            ]
          },
          "metadata": {
            "tags": []
          },
          "execution_count": 250
        }
      ]
    },
    {
      "cell_type": "code",
      "metadata": {
        "id": "gewaoj5205bi"
      },
      "source": [
        "df.view.replace({2:1,\n",
        "                 3:1,\n",
        "                 4:1},inplace=True)"
      ],
      "execution_count": null,
      "outputs": []
    },
    {
      "cell_type": "markdown",
      "metadata": {
        "id": "Isr-p513UhGu"
      },
      "source": [
        ">* Majority of the Houses did not have a View "
      ]
    },
    {
      "cell_type": "markdown",
      "metadata": {
        "id": "frVqDcXsijxB"
      },
      "source": [
        "The Location Factor."
      ]
    },
    {
      "cell_type": "markdown",
      "metadata": {
        "id": "RuBDeZblio5F"
      },
      "source": [
        ">* The dataset has  Latitude , Longitude and Zipcode Columns.   These columns help us identify the location of the Houses.\n",
        ">* Rather than adding them to my dataset as features , I opted to first find the respective Cities, using Zipcodes and factor these in as my location variable.\n",
        ">* Therefore I found the Cities within which the Houses were located then encoded them and used these as my Feature.\n"
      ]
    },
    {
      "cell_type": "code",
      "metadata": {
        "id": "F3WwLkmegmY3",
        "colab": {
          "base_uri": "https://localhost:8080/"
        },
        "outputId": "1c8c0224-5280-41d5-b26d-36ba66c4677e"
      },
      "source": [
        "!pip install uszipcode\n"
      ],
      "execution_count": null,
      "outputs": [
        {
          "output_type": "stream",
          "text": [
            "Requirement already satisfied: uszipcode in /usr/local/lib/python3.6/dist-packages (0.2.4)\n",
            "Requirement already satisfied: attrs in /usr/local/lib/python3.6/dist-packages (from uszipcode) (20.2.0)\n",
            "Requirement already satisfied: sqlalchemy in /usr/local/lib/python3.6/dist-packages (from uszipcode) (1.3.20)\n",
            "Requirement already satisfied: requests in /usr/local/lib/python3.6/dist-packages (from uszipcode) (2.23.0)\n",
            "Requirement already satisfied: pathlib-mate in /usr/local/lib/python3.6/dist-packages (from uszipcode) (1.0.0)\n",
            "Requirement already satisfied: certifi>=2017.4.17 in /usr/local/lib/python3.6/dist-packages (from requests->uszipcode) (2020.6.20)\n",
            "Requirement already satisfied: urllib3!=1.25.0,!=1.25.1,<1.26,>=1.21.1 in /usr/local/lib/python3.6/dist-packages (from requests->uszipcode) (1.24.3)\n",
            "Requirement already satisfied: idna<3,>=2.5 in /usr/local/lib/python3.6/dist-packages (from requests->uszipcode) (2.10)\n",
            "Requirement already satisfied: chardet<4,>=3.0.2 in /usr/local/lib/python3.6/dist-packages (from requests->uszipcode) (3.0.4)\n",
            "Requirement already satisfied: six in /usr/local/lib/python3.6/dist-packages (from pathlib-mate->uszipcode) (1.15.0)\n",
            "Requirement already satisfied: autopep8 in /usr/local/lib/python3.6/dist-packages (from pathlib-mate->uszipcode) (1.5.4)\n",
            "Requirement already satisfied: pycodestyle>=2.6.0 in /usr/local/lib/python3.6/dist-packages (from autopep8->pathlib-mate->uszipcode) (2.6.0)\n",
            "Requirement already satisfied: toml in /usr/local/lib/python3.6/dist-packages (from autopep8->pathlib-mate->uszipcode) (0.10.2)\n"
          ],
          "name": "stdout"
        }
      ]
    },
    {
      "cell_type": "code",
      "metadata": {
        "id": "IL_vPBRjjhrx"
      },
      "source": [
        "from uszipcode import SearchEngine, SimpleZipcode, Zipcode\n",
        "search = SearchEngine()\n",
        "\n",
        "def zco(x):\n",
        "    city = search.by_zipcode(x).major_city\n",
        "    return city if city else 'None'\n",
        "\n",
        "df['metro'] = df['zipcode'].apply(zco)"
      ],
      "execution_count": null,
      "outputs": []
    },
    {
      "cell_type": "code",
      "metadata": {
        "id": "PXqA0mZNmiMs"
      },
      "source": [
        "df.drop(['lat','long','zipcode'],axis=1,inplace=True)"
      ],
      "execution_count": null,
      "outputs": []
    },
    {
      "cell_type": "code",
      "metadata": {
        "colab": {
          "base_uri": "https://localhost:8080/"
        },
        "id": "Rvr375JqU7mJ",
        "outputId": "4ad8d5bb-0e39-4f58-ee2d-8e1c2be5ab19"
      },
      "source": [
        "labels=df.metro.unique()\n",
        "plt.barh(labels , df['metro'].value_counts())\n",
        "plt.ylabel(\"City\")\n",
        "plt.xlabel(\"NUmber\")\n",
        "plt.title(\"Graph showing the Number of Houses per City\")\n",
        "plt.show()"
      ],
      "execution_count": null,
      "outputs": [
        {
          "output_type": "display_data",
          "data": {
            "image/png": "[encoded data removed]",
            "text/plain": [
              "<Figure size 432x288 with 1 Axes>"
            ]
          },
          "metadata": {
            "tags": [],
            "needs_background": "light"
          }
        }
      ]
    },
    {
      "cell_type": "markdown",
      "metadata": {
        "id": "-tgfXbsnVOvI"
      },
      "source": [
        ">* Majority of the Houses within the dataset were in the Seattle area."
      ]
    },
    {
      "cell_type": "markdown",
      "metadata": {
        "id": "v-_TnH-bVbNt"
      },
      "source": [
        "The bedrooms variable"
      ]
    },
    {
      "cell_type": "code",
      "metadata": {
        "colab": {
          "base_uri": "https://localhost:8080/"
        },
        "id": "3x4h3C9QArNC",
        "outputId": "da6559f8-4270-4f4e-b25c-9fc2717447fd"
      },
      "source": [
        "df.bedrooms.describe()"
      ],
      "execution_count": null,
      "outputs": [
        {
          "output_type": "execute_result",
          "data": {
            "text/plain": [
              "count   21608.00000\n",
              "mean        3.37093\n",
              "std         0.93010\n",
              "min         0.00000\n",
              "25%         3.00000\n",
              "50%         3.00000\n",
              "75%         4.00000\n",
              "max        33.00000\n",
              "Name: bedrooms, dtype: float64"
            ]
          },
          "metadata": {
            "tags": []
          },
          "execution_count": 256
        }
      ]
    },
    {
      "cell_type": "code",
      "metadata": {
        "id": "Tm0OssAqhpxC"
      },
      "source": [
        "df.drop(df[df.bedrooms == 33].index, inplace=True)"
      ],
      "execution_count": null,
      "outputs": []
    },
    {
      "cell_type": "code",
      "metadata": {
        "colab": {
          "base_uri": "https://localhost:8080/"
        },
        "id": "VZYu8vsXiCxw",
        "outputId": "62effd1c-7424-468d-b135-9f1dee53487c"
      },
      "source": [
        "df"
      ],
      "execution_count": null,
      "outputs": [
        {
          "output_type": "execute_result",
          "data": {
            "text/html": [
              "<div>\n",
              "<style scoped>\n",
              "    .dataframe tbody tr th:only-of-type {\n",
              "        vertical-align: middle;\n",
              "    }\n",
              "\n",
              "    .dataframe tbody tr th {\n",
              "        vertical-align: top;\n",
              "    }\n",
              "\n",
              "    .dataframe thead th {\n",
              "        text-align: right;\n",
              "    }\n",
              "</style>\n",
              "<table border=\"1\" class=\"dataframe\">\n",
              "  <thead>\n",
              "    <tr style=\"text-align: right;\">\n",
              "      <th></th>\n",
              "      <th>price</th>\n",
              "      <th>bedrooms</th>\n",
              "      <th>bathrooms</th>\n",
              "      <th>sqft_living</th>\n",
              "      <th>sqft_lot</th>\n",
              "      <th>floors</th>\n",
              "      <th>waterfront</th>\n",
              "      <th>view</th>\n",
              "      <th>condition</th>\n",
              "      <th>grade</th>\n",
              "      <th>sqft_above</th>\n",
              "      <th>sqft_basement</th>\n",
              "      <th>yr_built</th>\n",
              "      <th>sqft_living15</th>\n",
              "      <th>sqft_lot15</th>\n",
              "      <th>metro</th>\n",
              "    </tr>\n",
              "  </thead>\n",
              "  <tbody>\n",
              "    <tr>\n",
              "      <th>0</th>\n",
              "      <td>221900.00000</td>\n",
              "      <td>3</td>\n",
              "      <td>1.00000</td>\n",
              "      <td>1180</td>\n",
              "      <td>5650</td>\n",
              "      <td>1.00000</td>\n",
              "      <td>0</td>\n",
              "      <td>0</td>\n",
              "      <td>3</td>\n",
              "      <td>7</td>\n",
              "      <td>1180</td>\n",
              "      <td>0</td>\n",
              "      <td>1955</td>\n",
              "      <td>1340</td>\n",
              "      <td>5650</td>\n",
              "      <td>Seattle</td>\n",
              "    </tr>\n",
              "    <tr>\n",
              "      <th>1</th>\n",
              "      <td>538000.00000</td>\n",
              "      <td>3</td>\n",
              "      <td>2.25000</td>\n",
              "      <td>2570</td>\n",
              "      <td>7242</td>\n",
              "      <td>2.00000</td>\n",
              "      <td>0</td>\n",
              "      <td>0</td>\n",
              "      <td>3</td>\n",
              "      <td>7</td>\n",
              "      <td>2170</td>\n",
              "      <td>400</td>\n",
              "      <td>1951</td>\n",
              "      <td>1690</td>\n",
              "      <td>7639</td>\n",
              "      <td>Seattle</td>\n",
              "    </tr>\n",
              "    <tr>\n",
              "      <th>2</th>\n",
              "      <td>180000.00000</td>\n",
              "      <td>2</td>\n",
              "      <td>1.00000</td>\n",
              "      <td>770</td>\n",
              "      <td>10000</td>\n",
              "      <td>1.00000</td>\n",
              "      <td>0</td>\n",
              "      <td>0</td>\n",
              "      <td>3</td>\n",
              "      <td>6</td>\n",
              "      <td>770</td>\n",
              "      <td>0</td>\n",
              "      <td>1933</td>\n",
              "      <td>2720</td>\n",
              "      <td>8062</td>\n",
              "      <td>Kenmore</td>\n",
              "    </tr>\n",
              "    <tr>\n",
              "      <th>3</th>\n",
              "      <td>604000.00000</td>\n",
              "      <td>4</td>\n",
              "      <td>3.00000</td>\n",
              "      <td>1960</td>\n",
              "      <td>5000</td>\n",
              "      <td>1.00000</td>\n",
              "      <td>0</td>\n",
              "      <td>0</td>\n",
              "      <td>5</td>\n",
              "      <td>7</td>\n",
              "      <td>1050</td>\n",
              "      <td>910</td>\n",
              "      <td>1965</td>\n",
              "      <td>1360</td>\n",
              "      <td>5000</td>\n",
              "      <td>Seattle</td>\n",
              "    </tr>\n",
              "    <tr>\n",
              "      <th>4</th>\n",
              "      <td>510000.00000</td>\n",
              "      <td>3</td>\n",
              "      <td>2.00000</td>\n",
              "      <td>1680</td>\n",
              "      <td>8080</td>\n",
              "      <td>1.00000</td>\n",
              "      <td>0</td>\n",
              "      <td>0</td>\n",
              "      <td>3</td>\n",
              "      <td>8</td>\n",
              "      <td>1680</td>\n",
              "      <td>0</td>\n",
              "      <td>1987</td>\n",
              "      <td>1800</td>\n",
              "      <td>7503</td>\n",
              "      <td>Sammamish</td>\n",
              "    </tr>\n",
              "    <tr>\n",
              "      <th>...</th>\n",
              "      <td>...</td>\n",
              "      <td>...</td>\n",
              "      <td>...</td>\n",
              "      <td>...</td>\n",
              "      <td>...</td>\n",
              "      <td>...</td>\n",
              "      <td>...</td>\n",
              "      <td>...</td>\n",
              "      <td>...</td>\n",
              "      <td>...</td>\n",
              "      <td>...</td>\n",
              "      <td>...</td>\n",
              "      <td>...</td>\n",
              "      <td>...</td>\n",
              "      <td>...</td>\n",
              "      <td>...</td>\n",
              "    </tr>\n",
              "    <tr>\n",
              "      <th>21608</th>\n",
              "      <td>360000.00000</td>\n",
              "      <td>3</td>\n",
              "      <td>2.50000</td>\n",
              "      <td>1530</td>\n",
              "      <td>1131</td>\n",
              "      <td>3.00000</td>\n",
              "      <td>0</td>\n",
              "      <td>0</td>\n",
              "      <td>3</td>\n",
              "      <td>8</td>\n",
              "      <td>1530</td>\n",
              "      <td>0</td>\n",
              "      <td>2009</td>\n",
              "      <td>1530</td>\n",
              "      <td>1509</td>\n",
              "      <td>Seattle</td>\n",
              "    </tr>\n",
              "    <tr>\n",
              "      <th>21609</th>\n",
              "      <td>400000.00000</td>\n",
              "      <td>4</td>\n",
              "      <td>2.50000</td>\n",
              "      <td>2310</td>\n",
              "      <td>5813</td>\n",
              "      <td>2.00000</td>\n",
              "      <td>0</td>\n",
              "      <td>0</td>\n",
              "      <td>3</td>\n",
              "      <td>8</td>\n",
              "      <td>2310</td>\n",
              "      <td>0</td>\n",
              "      <td>2014</td>\n",
              "      <td>1830</td>\n",
              "      <td>7200</td>\n",
              "      <td>Seattle</td>\n",
              "    </tr>\n",
              "    <tr>\n",
              "      <th>21610</th>\n",
              "      <td>402101.00000</td>\n",
              "      <td>2</td>\n",
              "      <td>0.75000</td>\n",
              "      <td>1020</td>\n",
              "      <td>1350</td>\n",
              "      <td>2.00000</td>\n",
              "      <td>0</td>\n",
              "      <td>0</td>\n",
              "      <td>3</td>\n",
              "      <td>7</td>\n",
              "      <td>1020</td>\n",
              "      <td>0</td>\n",
              "      <td>2009</td>\n",
              "      <td>1020</td>\n",
              "      <td>2007</td>\n",
              "      <td>Seattle</td>\n",
              "    </tr>\n",
              "    <tr>\n",
              "      <th>21611</th>\n",
              "      <td>400000.00000</td>\n",
              "      <td>3</td>\n",
              "      <td>2.50000</td>\n",
              "      <td>1600</td>\n",
              "      <td>2388</td>\n",
              "      <td>2.00000</td>\n",
              "      <td>0</td>\n",
              "      <td>0</td>\n",
              "      <td>3</td>\n",
              "      <td>8</td>\n",
              "      <td>1600</td>\n",
              "      <td>0</td>\n",
              "      <td>2004</td>\n",
              "      <td>1410</td>\n",
              "      <td>1287</td>\n",
              "      <td>Issaquah</td>\n",
              "    </tr>\n",
              "    <tr>\n",
              "      <th>21612</th>\n",
              "      <td>325000.00000</td>\n",
              "      <td>2</td>\n",
              "      <td>0.75000</td>\n",
              "      <td>1020</td>\n",
              "      <td>1076</td>\n",
              "      <td>2.00000</td>\n",
              "      <td>0</td>\n",
              "      <td>0</td>\n",
              "      <td>3</td>\n",
              "      <td>7</td>\n",
              "      <td>1020</td>\n",
              "      <td>0</td>\n",
              "      <td>2008</td>\n",
              "      <td>1020</td>\n",
              "      <td>1357</td>\n",
              "      <td>Seattle</td>\n",
              "    </tr>\n",
              "  </tbody>\n",
              "</table>\n",
              "<p>21607 rows × 16 columns</p>\n",
              "</div>"
            ],
            "text/plain": [
              "             price  bedrooms  bathrooms  ...  sqft_living15  sqft_lot15      metro\n",
              "0     221900.00000         3    1.00000  ...           1340        5650    Seattle\n",
              "1     538000.00000         3    2.25000  ...           1690        7639    Seattle\n",
              "2     180000.00000         2    1.00000  ...           2720        8062    Kenmore\n",
              "3     604000.00000         4    3.00000  ...           1360        5000    Seattle\n",
              "4     510000.00000         3    2.00000  ...           1800        7503  Sammamish\n",
              "...            ...       ...        ...  ...            ...         ...        ...\n",
              "21608 360000.00000         3    2.50000  ...           1530        1509    Seattle\n",
              "21609 400000.00000         4    2.50000  ...           1830        7200    Seattle\n",
              "21610 402101.00000         2    0.75000  ...           1020        2007    Seattle\n",
              "21611 400000.00000         3    2.50000  ...           1410        1287   Issaquah\n",
              "21612 325000.00000         2    0.75000  ...           1020        1357    Seattle\n",
              "\n",
              "[21607 rows x 16 columns]"
            ]
          },
          "metadata": {
            "tags": []
          },
          "execution_count": 258
        }
      ]
    },
    {
      "cell_type": "code",
      "metadata": {
        "colab": {
          "base_uri": "https://localhost:8080/"
        },
        "id": "3PLi00o_V2sv",
        "outputId": "c71cd66e-a1d5-4835-a5ce-2b666bf095a6"
      },
      "source": [
        "plt.scatter(df.bedrooms,df.index)"
      ],
      "execution_count": null,
      "outputs": [
        {
          "output_type": "execute_result",
          "data": {
            "text/plain": [
              "<matplotlib.collections.PathCollection at 0x7fcc62a03a20>"
            ]
          },
          "metadata": {
            "tags": []
          },
          "execution_count": 259
        },
        {
          "output_type": "display_data",
          "data": {
            "image/png": "[encoded data removed]",
            "text/plain": [
              "<Figure size 432x288 with 1 Axes>"
            ]
          },
          "metadata": {
            "tags": [],
            "needs_background": "light"
          }
        }
      ]
    },
    {
      "cell_type": "markdown",
      "metadata": {
        "id": "HjKoA_DcWY-s"
      },
      "source": [
        ">* Majority of the Houses had bedrooms ranging between two and five.\n",
        "There was an extreme outlier with one house having 33 bedrooms"
      ]
    },
    {
      "cell_type": "markdown",
      "metadata": {
        "id": "FNggIWLWXNek"
      },
      "source": [
        "The Bathrooms Variable"
      ]
    },
    {
      "cell_type": "code",
      "metadata": {
        "colab": {
          "base_uri": "https://localhost:8080/"
        },
        "id": "CYIC-TWDXRGA",
        "outputId": "4571fdc3-2396-42c4-9bd3-0afea1f7fd31"
      },
      "source": [
        "df.bathrooms.describe()"
      ],
      "execution_count": null,
      "outputs": [
        {
          "output_type": "execute_result",
          "data": {
            "text/plain": [
              "count   21607.00000\n",
              "mean        2.11475\n",
              "std         0.77025\n",
              "min         0.00000\n",
              "25%         1.75000\n",
              "50%         2.25000\n",
              "75%         2.50000\n",
              "max         8.00000\n",
              "Name: bathrooms, dtype: float64"
            ]
          },
          "metadata": {
            "tags": []
          },
          "execution_count": 260
        }
      ]
    },
    {
      "cell_type": "code",
      "metadata": {
        "colab": {
          "base_uri": "https://localhost:8080/"
        },
        "id": "_pOJFCj5XcVR",
        "outputId": "e2250547-6c9b-4835-ee37-1bfe7f8e8e82"
      },
      "source": [
        "plt.scatter(df.bathrooms,df.index)"
      ],
      "execution_count": null,
      "outputs": [
        {
          "output_type": "execute_result",
          "data": {
            "text/plain": [
              "<matplotlib.collections.PathCollection at 0x7fcc5d48cb70>"
            ]
          },
          "metadata": {
            "tags": []
          },
          "execution_count": 261
        },
        {
          "output_type": "display_data",
          "data": {
            "image/png": "[encoded data removed]",
            "text/plain": [
              "<Figure size 432x288 with 1 Axes>"
            ]
          },
          "metadata": {
            "tags": [],
            "needs_background": "light"
          }
        }
      ]
    },
    {
      "cell_type": "markdown",
      "metadata": {
        "id": "MWblpD8mXmxm"
      },
      "source": [
        ">* Majority of the houses had between 1 and 5 bathrooms. \n",
        "With some having zero and others on the other end with 8 baths."
      ]
    },
    {
      "cell_type": "markdown",
      "metadata": {
        "id": "eU6_pTtQZZpj"
      },
      "source": [
        "### 2.2.Bivariate Analysis."
      ]
    },
    {
      "cell_type": "code",
      "metadata": {
        "colab": {
          "base_uri": "https://localhost:8080/",
          "height": 717
        },
        "id": "l-QM_fi-bWCB",
        "outputId": "51ec3f7c-e71b-4f90-9b37-09c153690fbe"
      },
      "source": [
        "df['Bedrooms'] = pd.cut(x=df['bedrooms'], bins=5)\n",
        "Houses = df.groupby(['metro', 'Bedrooms'])['metro'].count().unstack('Bedrooms')\n",
        "ax = Houses.plot.barh(stacked=True, edgecolor='none',figsize=(20,15))\n",
        "plt.title('Graph showing the average number of bedrooms per City')\n",
        "plt.ylabel('City')\n"
      ],
      "execution_count": null,
      "outputs": [
        {
          "output_type": "execute_result",
          "data": {
            "text/plain": [
              "Text(0, 0.5, 'City')"
            ]
          },
          "metadata": {
            "tags": []
          },
          "execution_count": 39
        },
        {
          "output_type": "display_data",
          "data": {
            "image/png": "[encoded data removed]",
            "text/plain": [
              "<Figure size 1440x1080 with 1 Axes>"
            ]
          },
          "metadata": {
            "tags": [],
            "needs_background": "light"
          }
        }
      ]
    },
    {
      "cell_type": "code",
      "metadata": {
        "colab": {
          "base_uri": "https://localhost:8080/",
          "height": 866
        },
        "id": "CFtKYeYMi3b4",
        "outputId": "94dbc72e-9189-4161-ade1-2adf0d4558c6"
      },
      "source": [
        "df['Bathrooms'] = pd.cut(x=df['bathrooms'], bins=4)\n",
        "Houses = df.groupby(['Price', 'Bathrooms'])['Price'].count().unstack('Bathrooms')\n",
        "ax = Houses.plot.bar(stacked=True, edgecolor='none',figsize=(20,15))\n",
        "plt.title('Graph showing the average number of  Bathrooms')\n",
        "plt.ylabel('City')"
      ],
      "execution_count": null,
      "outputs": [
        {
          "output_type": "execute_result",
          "data": {
            "text/plain": [
              "Text(0, 0.5, 'City')"
            ]
          },
          "metadata": {
            "tags": []
          },
          "execution_count": 42
        },
        {
          "output_type": "display_data",
          "data": {
            "image/png": "[encoded data removed]",
            "text/plain": [
              "<Figure size 1440x1080 with 1 Axes>"
            ]
          },
          "metadata": {
            "tags": [],
            "needs_background": "light"
          }
        }
      ]
    },
    {
      "cell_type": "code",
      "metadata": {
        "id": "BTi4m7IXZkCI",
        "colab": {
          "base_uri": "https://localhost:8080/",
          "height": 717
        },
        "outputId": "de6c3885-58e2-4a52-9c94-76db6fcb9c66"
      },
      "source": [
        "df['Price'] = pd.cut(x=df['price'], bins=15)\n",
        "Countries = df.groupby(['metro', 'Price'])['metro'].count().unstack('Price')\n",
        "ax = Countries.plot.barh(stacked=True, edgecolor='none',figsize=(20,15))\n",
        "plt.title('Price range of Houses per City')\n",
        "plt.ylabel('City')\n"
      ],
      "execution_count": null,
      "outputs": [
        {
          "output_type": "execute_result",
          "data": {
            "text/plain": [
              "Text(0, 0.5, 'City')"
            ]
          },
          "metadata": {
            "tags": []
          },
          "execution_count": 41
        },
        {
          "output_type": "display_data",
          "data": {
            "image/png": "[encoded data removed]",
            "text/plain": [
              "<Figure size 1440x1080 with 1 Axes>"
            ]
          },
          "metadata": {
            "tags": [],
            "needs_background": "light"
          }
        }
      ]
    },
    {
      "cell_type": "code",
      "metadata": {
        "colab": {
          "base_uri": "https://localhost:8080/",
          "height": 1000
        },
        "id": "I3xN2tXhav7c",
        "outputId": "1dcffb74-ec63-45c6-fdcd-30d9b4994703"
      },
      "source": [
        "plt.subplots(figsize=(20,20))\n",
        "sns.heatmap(df.corr(),annot=True)"
      ],
      "execution_count": null,
      "outputs": [
        {
          "output_type": "execute_result",
          "data": {
            "text/plain": [
              "<matplotlib.axes._subplots.AxesSubplot at 0x7fcc68adc7f0>"
            ]
          },
          "metadata": {
            "tags": []
          },
          "execution_count": 43
        },
        {
          "output_type": "display_data",
          "data": {
            "image/png": "[encoded data removed]",
            "text/plain": [
              "<Figure size 1440x1440 with 2 Axes>"
            ]
          },
          "metadata": {
            "tags": [],
            "needs_background": "light"
          }
        }
      ]
    },
    {
      "cell_type": "markdown",
      "metadata": {
        "id": "psdRJMI-m_n7"
      },
      "source": [
        ">* The Price variable was highly correlated with the \n",
        ">    * Bathroom variable\n",
        ">    * sqft_living variable\n",
        ">    * grade\n",
        ">    * sqft_above vaiable\n",
        ">* It was also correlated though to a lesser degree with the :\n",
        ">    * Bedrooms\n",
        ">    * sqft_basement \n",
        ">    * floors\n",
        ">    * view"
      ]
    },
    {
      "cell_type": "markdown",
      "metadata": {
        "id": "QwiL7dnrahf6"
      },
      "source": [
        "##  **3.Analysis**"
      ]
    },
    {
      "cell_type": "markdown",
      "metadata": {
        "id": "FKwJTtqPszTS"
      },
      "source": [
        "### 3.1.Linear Regression Model."
      ]
    },
    {
      "cell_type": "markdown",
      "metadata": {
        "id": "zLaZ0GXDthfZ"
      },
      "source": [
        ">* The first model I implemented was the Multiple Linear Regression Model.\n",
        ">* However this model has limitations.\n",
        ">  * It is sensitive to outliers as they affect the regression line and the forecasted values.\n",
        ">  * Multicollinearity in a LInear Regression Model increases the variance of the coefficients and makes the estimates senstive to minor changes.\n",
        ">  * These models also have the assumption of homoskedasticity,constant variance.\n",
        ">  * They are complex and fit the training data too well , hence overfitting .\n",
        "\n",
        ">* Therefore in order for us to fit a Linear Regression Model we will first check for Multicolinearity using the VIF and then test for Homoskedasticity once we fit the model.\n"
      ]
    },
    {
      "cell_type": "markdown",
      "metadata": {
        "id": "ZIR_7Fvw8B2L"
      },
      "source": [
        ">* The first step would be to identify the feeatures and the target variable.\n",
        ">* Then test for multicollinearity within the model and then drop the features with a high VIF score."
      ]
    },
    {
      "cell_type": "markdown",
      "metadata": {
        "id": "_Wvc1mRjFjx8"
      },
      "source": [
        "#### Features"
      ]
    },
    {
      "cell_type": "code",
      "metadata": {
        "id": "gMuXHf6MupS3"
      },
      "source": [
        "#df= df[~((df[['price']]<(Q1 - 1.5*IQR))|(df[['price']]>(Q3 + 1.5 *IQR))).any(axis=1)]"
      ],
      "execution_count": null,
      "outputs": []
    },
    {
      "cell_type": "code",
      "metadata": {
        "id": "UjnooN0wmtc6"
      },
      "source": [
        "# import labelencoder\n",
        "from sklearn.preprocessing import LabelEncoder\n",
        "le = LabelEncoder()\n",
        "df['metro'] = le.fit_transform(df['metro'])\n",
        "df['yr_built'] = le.fit_transform(df['yr_built'])"
      ],
      "execution_count": null,
      "outputs": []
    },
    {
      "cell_type": "code",
      "metadata": {
        "id": "dzcEVco2bR2e"
      },
      "source": [
        "x = df.drop(['price'],axis=1)\n",
        "y = df.price"
      ],
      "execution_count": null,
      "outputs": []
    },
    {
      "cell_type": "code",
      "metadata": {
        "colab": {
          "base_uri": "https://localhost:8080/",
          "height": 1000
        },
        "id": "xYMVYqVNpTZG",
        "outputId": "34f70c09-8076-4d6b-bef2-879adfe92471"
      },
      "source": [
        "plt.subplots(figsize=(20,20))\n",
        "sns.heatmap(x.corr(),annot=True)"
      ],
      "execution_count": null,
      "outputs": [
        {
          "output_type": "execute_result",
          "data": {
            "text/plain": [
              "<matplotlib.axes._subplots.AxesSubplot at 0x7fcc5d322e48>"
            ]
          },
          "metadata": {
            "tags": []
          },
          "execution_count": 264
        },
        {
          "output_type": "display_data",
          "data": {
            "image/png": "[encoded data removed]",
            "text/plain": [
              "<Figure size 1440x1440 with 2 Axes>"
            ]
          },
          "metadata": {
            "tags": [],
            "needs_background": "light"
          }
        }
      ]
    },
    {
      "cell_type": "markdown",
      "metadata": {
        "id": "isrqAT8Fmr2d"
      },
      "source": [
        ">* The sqft_living variable was highly correlated with:\n",
        ">    * bedrooms\n",
        ">    * bathrooms\n",
        ">    * grade\n",
        ">    * sqft_above\n",
        ">    * sqft_living15\n",
        "\n",
        ">* Similarly the other variables in the dataset are also very highly correlated with each other.\n",
        ">* Therefore I opted to find the VIF score for the variables and eliminate those with high multicollinearity from my dataset. "
      ]
    },
    {
      "cell_type": "code",
      "metadata": {
        "colab": {
          "base_uri": "https://localhost:8080/",
          "height": 511
        },
        "id": "Snc_aFjzXHAe",
        "outputId": "81d97995-23e1-40e0-d49e-ebf3548cc692"
      },
      "source": [
        "correlations = x.corr()\n",
        "pd.DataFrame(np.linalg.inv(correlations.values), index = correlations.index, columns=correlations.columns)"
      ],
      "execution_count": null,
      "outputs": [
        {
          "output_type": "execute_result",
          "data": {
            "text/html": [
              "<div>\n",
              "<style scoped>\n",
              "    .dataframe tbody tr th:only-of-type {\n",
              "        vertical-align: middle;\n",
              "    }\n",
              "\n",
              "    .dataframe tbody tr th {\n",
              "        vertical-align: top;\n",
              "    }\n",
              "\n",
              "    .dataframe thead th {\n",
              "        text-align: right;\n",
              "    }\n",
              "</style>\n",
              "<table border=\"1\" class=\"dataframe\">\n",
              "  <thead>\n",
              "    <tr style=\"text-align: right;\">\n",
              "      <th></th>\n",
              "      <th>bedrooms</th>\n",
              "      <th>bathrooms</th>\n",
              "      <th>sqft_living</th>\n",
              "      <th>sqft_lot</th>\n",
              "      <th>floors</th>\n",
              "      <th>waterfront</th>\n",
              "      <th>view</th>\n",
              "      <th>condition</th>\n",
              "      <th>grade</th>\n",
              "      <th>sqft_above</th>\n",
              "      <th>sqft_basement</th>\n",
              "      <th>yr_built</th>\n",
              "      <th>sqft_living15</th>\n",
              "      <th>sqft_lot15</th>\n",
              "      <th>metro</th>\n",
              "    </tr>\n",
              "  </thead>\n",
              "  <tbody>\n",
              "    <tr>\n",
              "      <th>bedrooms</th>\n",
              "      <td>1.70662</td>\n",
              "      <td>-0.47963</td>\n",
              "      <td>-0.75800</td>\n",
              "      <td>0.04913</td>\n",
              "      <td>0.05263</td>\n",
              "      <td>0.08551</td>\n",
              "      <td>0.11247</td>\n",
              "      <td>-0.05730</td>\n",
              "      <td>0.34188</td>\n",
              "      <td>-0.24504</td>\n",
              "      <td>-0.14114</td>\n",
              "      <td>0.11571</td>\n",
              "      <td>0.02227</td>\n",
              "      <td>0.09499</td>\n",
              "      <td>0.10719</td>\n",
              "    </tr>\n",
              "    <tr>\n",
              "      <th>bathrooms</th>\n",
              "      <td>-0.47963</td>\n",
              "      <td>3.30110</td>\n",
              "      <td>-3.25833</td>\n",
              "      <td>-0.01757</td>\n",
              "      <td>-0.69380</td>\n",
              "      <td>-0.01307</td>\n",
              "      <td>-0.05190</td>\n",
              "      <td>-0.09398</td>\n",
              "      <td>-0.30492</td>\n",
              "      <td>1.69563</td>\n",
              "      <td>0.49919</td>\n",
              "      <td>-0.81435</td>\n",
              "      <td>0.11364</td>\n",
              "      <td>0.06696</td>\n",
              "      <td>-0.01049</td>\n",
              "    </tr>\n",
              "    <tr>\n",
              "      <th>sqft_living</th>\n",
              "      <td>-0.76134</td>\n",
              "      <td>-3.26450</td>\n",
              "      <td>-27605332292168.28516</td>\n",
              "      <td>-0.03842</td>\n",
              "      <td>1.63511</td>\n",
              "      <td>-0.23883</td>\n",
              "      <td>-0.07898</td>\n",
              "      <td>0.19890</td>\n",
              "      <td>-0.99628</td>\n",
              "      <td>24889132135670.51172</td>\n",
              "      <td>13302493611756.38867</td>\n",
              "      <td>0.69929</td>\n",
              "      <td>-1.58892</td>\n",
              "      <td>-0.08527</td>\n",
              "      <td>-0.24427</td>\n",
              "    </tr>\n",
              "    <tr>\n",
              "      <th>sqft_lot</th>\n",
              "      <td>0.04913</td>\n",
              "      <td>-0.01757</td>\n",
              "      <td>-0.03581</td>\n",
              "      <td>2.08802</td>\n",
              "      <td>0.07025</td>\n",
              "      <td>0.02008</td>\n",
              "      <td>-0.04427</td>\n",
              "      <td>0.01907</td>\n",
              "      <td>-0.00756</td>\n",
              "      <td>-0.20421</td>\n",
              "      <td>-0.00823</td>\n",
              "      <td>0.02769</td>\n",
              "      <td>0.12827</td>\n",
              "      <td>-1.47308</td>\n",
              "      <td>0.01914</td>\n",
              "    </tr>\n",
              "    <tr>\n",
              "      <th>floors</th>\n",
              "      <td>0.05263</td>\n",
              "      <td>-0.69380</td>\n",
              "      <td>1.63684</td>\n",
              "      <td>0.07025</td>\n",
              "      <td>1.98745</td>\n",
              "      <td>-0.01446</td>\n",
              "      <td>-0.04800</td>\n",
              "      <td>0.11300</td>\n",
              "      <td>-0.30806</td>\n",
              "      <td>-1.93381</td>\n",
              "      <td>-0.20772</td>\n",
              "      <td>-0.35923</td>\n",
              "      <td>0.32512</td>\n",
              "      <td>0.08263</td>\n",
              "      <td>-0.26044</td>\n",
              "    </tr>\n",
              "    <tr>\n",
              "      <th>waterfront</th>\n",
              "      <td>0.08551</td>\n",
              "      <td>-0.01307</td>\n",
              "      <td>-0.23929</td>\n",
              "      <td>0.02008</td>\n",
              "      <td>-0.01446</td>\n",
              "      <td>1.08247</td>\n",
              "      <td>-0.26777</td>\n",
              "      <td>-0.00673</td>\n",
              "      <td>0.01708</td>\n",
              "      <td>0.10548</td>\n",
              "      <td>0.06825</td>\n",
              "      <td>0.03185</td>\n",
              "      <td>0.02169</td>\n",
              "      <td>-0.02007</td>\n",
              "      <td>-0.01510</td>\n",
              "    </tr>\n",
              "    <tr>\n",
              "      <th>view</th>\n",
              "      <td>0.11247</td>\n",
              "      <td>-0.05190</td>\n",
              "      <td>-0.07887</td>\n",
              "      <td>-0.04427</td>\n",
              "      <td>-0.04800</td>\n",
              "      <td>-0.26777</td>\n",
              "      <td>1.25751</td>\n",
              "      <td>-0.00245</td>\n",
              "      <td>-0.15647</td>\n",
              "      <td>0.11717</td>\n",
              "      <td>-0.20926</td>\n",
              "      <td>0.20007</td>\n",
              "      <td>-0.26057</td>\n",
              "      <td>0.00317</td>\n",
              "      <td>-0.03244</td>\n",
              "    </tr>\n",
              "    <tr>\n",
              "      <th>condition</th>\n",
              "      <td>-0.05730</td>\n",
              "      <td>-0.09398</td>\n",
              "      <td>0.19952</td>\n",
              "      <td>0.01907</td>\n",
              "      <td>0.11300</td>\n",
              "      <td>-0.00673</td>\n",
              "      <td>-0.00245</td>\n",
              "      <td>1.20280</td>\n",
              "      <td>-0.01991</td>\n",
              "      <td>-0.13672</td>\n",
              "      <td>-0.17934</td>\n",
              "      <td>0.43270</td>\n",
              "      <td>0.04075</td>\n",
              "      <td>-0.02407</td>\n",
              "      <td>0.13057</td>\n",
              "    </tr>\n",
              "    <tr>\n",
              "      <th>grade</th>\n",
              "      <td>0.34188</td>\n",
              "      <td>-0.30492</td>\n",
              "      <td>-0.99536</td>\n",
              "      <td>-0.00756</td>\n",
              "      <td>-0.30806</td>\n",
              "      <td>0.01708</td>\n",
              "      <td>-0.15647</td>\n",
              "      <td>-0.01991</td>\n",
              "      <td>3.24377</td>\n",
              "      <td>-0.60964</td>\n",
              "      <td>-0.08022</td>\n",
              "      <td>-0.40485</td>\n",
              "      <td>-0.84158</td>\n",
              "      <td>0.11408</td>\n",
              "      <td>-0.08878</td>\n",
              "    </tr>\n",
              "    <tr>\n",
              "      <th>sqft_above</th>\n",
              "      <td>-0.24333</td>\n",
              "      <td>1.69944</td>\n",
              "      <td>24889132135670.50391</td>\n",
              "      <td>-0.20152</td>\n",
              "      <td>-1.93109</td>\n",
              "      <td>0.10505</td>\n",
              "      <td>0.11677</td>\n",
              "      <td>-0.13636</td>\n",
              "      <td>-0.60777</td>\n",
              "      <td>-22440189884708.50781</td>\n",
              "      <td>-11993607529615.19141</td>\n",
              "      <td>-0.25665</td>\n",
              "      <td>-0.16780</td>\n",
              "      <td>-0.13678</td>\n",
              "      <td>0.28442</td>\n",
              "    </tr>\n",
              "    <tr>\n",
              "      <th>sqft_basement</th>\n",
              "      <td>-0.13940</td>\n",
              "      <td>0.50086</td>\n",
              "      <td>13302493611756.38477</td>\n",
              "      <td>-0.00701</td>\n",
              "      <td>-0.20693</td>\n",
              "      <td>0.06805</td>\n",
              "      <td>-0.20928</td>\n",
              "      <td>-0.17903</td>\n",
              "      <td>-0.07986</td>\n",
              "      <td>-11993607529615.19336</td>\n",
              "      <td>-6410223011188.58984</td>\n",
              "      <td>-0.00286</td>\n",
              "      <td>0.34259</td>\n",
              "      <td>-0.00580</td>\n",
              "      <td>0.02318</td>\n",
              "    </tr>\n",
              "    <tr>\n",
              "      <th>yr_built</th>\n",
              "      <td>0.11571</td>\n",
              "      <td>-0.81435</td>\n",
              "      <td>0.69891</td>\n",
              "      <td>0.02769</td>\n",
              "      <td>-0.35923</td>\n",
              "      <td>0.03185</td>\n",
              "      <td>0.20007</td>\n",
              "      <td>0.43270</td>\n",
              "      <td>-0.40485</td>\n",
              "      <td>-0.25631</td>\n",
              "      <td>-0.00268</td>\n",
              "      <td>1.92916</td>\n",
              "      <td>-0.10785</td>\n",
              "      <td>-0.06916</td>\n",
              "      <td>0.36726</td>\n",
              "    </tr>\n",
              "    <tr>\n",
              "      <th>sqft_living15</th>\n",
              "      <td>0.02227</td>\n",
              "      <td>0.11364</td>\n",
              "      <td>-1.58762</td>\n",
              "      <td>0.12827</td>\n",
              "      <td>0.32512</td>\n",
              "      <td>0.02169</td>\n",
              "      <td>-0.26057</td>\n",
              "      <td>0.04075</td>\n",
              "      <td>-0.84158</td>\n",
              "      <td>-0.16897</td>\n",
              "      <td>0.34196</td>\n",
              "      <td>-0.10785</td>\n",
              "      <td>2.83884</td>\n",
              "      <td>-0.15627</td>\n",
              "      <td>0.16170</td>\n",
              "    </tr>\n",
              "    <tr>\n",
              "      <th>sqft_lot15</th>\n",
              "      <td>0.09499</td>\n",
              "      <td>0.06696</td>\n",
              "      <td>-0.08690</td>\n",
              "      <td>-1.47308</td>\n",
              "      <td>0.08263</td>\n",
              "      <td>-0.02007</td>\n",
              "      <td>0.00317</td>\n",
              "      <td>-0.02407</td>\n",
              "      <td>0.11408</td>\n",
              "      <td>-0.13531</td>\n",
              "      <td>-0.00501</td>\n",
              "      <td>-0.06916</td>\n",
              "      <td>-0.15627</td>\n",
              "      <td>2.12289</td>\n",
              "      <td>0.07575</td>\n",
              "    </tr>\n",
              "    <tr>\n",
              "      <th>metro</th>\n",
              "      <td>0.10719</td>\n",
              "      <td>-0.01049</td>\n",
              "      <td>-0.24346</td>\n",
              "      <td>0.01914</td>\n",
              "      <td>-0.26044</td>\n",
              "      <td>-0.01510</td>\n",
              "      <td>-0.03244</td>\n",
              "      <td>0.13057</td>\n",
              "      <td>-0.08878</td>\n",
              "      <td>0.28369</td>\n",
              "      <td>0.02279</td>\n",
              "      <td>0.36726</td>\n",
              "      <td>0.16170</td>\n",
              "      <td>0.07575</td>\n",
              "      <td>1.15533</td>\n",
              "    </tr>\n",
              "  </tbody>\n",
              "</table>\n",
              "</div>"
            ],
            "text/plain": [
              "               bedrooms  bathrooms  ...  sqft_lot15    metro\n",
              "bedrooms        1.70662   -0.47963  ...     0.09499  0.10719\n",
              "bathrooms      -0.47963    3.30110  ...     0.06696 -0.01049\n",
              "sqft_living    -0.76134   -3.26450  ...    -0.08527 -0.24427\n",
              "sqft_lot        0.04913   -0.01757  ...    -1.47308  0.01914\n",
              "floors          0.05263   -0.69380  ...     0.08263 -0.26044\n",
              "waterfront      0.08551   -0.01307  ...    -0.02007 -0.01510\n",
              "view            0.11247   -0.05190  ...     0.00317 -0.03244\n",
              "condition      -0.05730   -0.09398  ...    -0.02407  0.13057\n",
              "grade           0.34188   -0.30492  ...     0.11408 -0.08878\n",
              "sqft_above     -0.24333    1.69944  ...    -0.13678  0.28442\n",
              "sqft_basement  -0.13940    0.50086  ...    -0.00580  0.02318\n",
              "yr_built        0.11571   -0.81435  ...    -0.06916  0.36726\n",
              "sqft_living15   0.02227    0.11364  ...    -0.15627  0.16170\n",
              "sqft_lot15      0.09499    0.06696  ...     2.12289  0.07575\n",
              "metro           0.10719   -0.01049  ...     0.07575  1.15533\n",
              "\n",
              "[15 rows x 15 columns]"
            ]
          },
          "metadata": {
            "tags": []
          },
          "execution_count": 265
        }
      ]
    },
    {
      "cell_type": "markdown",
      "metadata": {
        "id": "9MqFE4EZomtX"
      },
      "source": [
        ">* The VIF scores for the sqft_living , sqft_basement and sqft_above variables was very high.\n",
        ">* Therefore I opted to drop the sqft_above variables and then check the VIF score for the remaining variables."
      ]
    },
    {
      "cell_type": "code",
      "metadata": {
        "id": "h_bI1_pQBRYV"
      },
      "source": [
        "x = x.drop(['sqft_above'],axis=1)"
      ],
      "execution_count": null,
      "outputs": []
    },
    {
      "cell_type": "markdown",
      "metadata": {
        "id": "7HEKD1ZqBfqO"
      },
      "source": [
        ">* I then checked the VIF once more an noting that the sqft_living variable was still higher than 3 . I then dropped iy from my model."
      ]
    },
    {
      "cell_type": "code",
      "metadata": {
        "colab": {
          "base_uri": "https://localhost:8080/",
          "height": 482
        },
        "id": "JdW9plJYBnF_",
        "outputId": "044d2b9b-a279-477c-9911-0170dd976fe5"
      },
      "source": [
        "correlations = x.corr()\n",
        "pd.DataFrame(np.linalg.inv(correlations.values), index = correlations.index, columns=correlations.columns)"
      ],
      "execution_count": null,
      "outputs": [
        {
          "output_type": "execute_result",
          "data": {
            "text/html": [
              "<div>\n",
              "<style scoped>\n",
              "    .dataframe tbody tr th:only-of-type {\n",
              "        vertical-align: middle;\n",
              "    }\n",
              "\n",
              "    .dataframe tbody tr th {\n",
              "        vertical-align: top;\n",
              "    }\n",
              "\n",
              "    .dataframe thead th {\n",
              "        text-align: right;\n",
              "    }\n",
              "</style>\n",
              "<table border=\"1\" class=\"dataframe\">\n",
              "  <thead>\n",
              "    <tr style=\"text-align: right;\">\n",
              "      <th></th>\n",
              "      <th>bedrooms</th>\n",
              "      <th>bathrooms</th>\n",
              "      <th>sqft_living</th>\n",
              "      <th>sqft_lot</th>\n",
              "      <th>floors</th>\n",
              "      <th>waterfront</th>\n",
              "      <th>view</th>\n",
              "      <th>condition</th>\n",
              "      <th>grade</th>\n",
              "      <th>sqft_basement</th>\n",
              "      <th>yr_built</th>\n",
              "      <th>sqft_living15</th>\n",
              "      <th>sqft_lot15</th>\n",
              "      <th>metro</th>\n",
              "    </tr>\n",
              "  </thead>\n",
              "  <tbody>\n",
              "    <tr>\n",
              "      <th>bedrooms</th>\n",
              "      <td>1.72455</td>\n",
              "      <td>-0.43802</td>\n",
              "      <td>-1.10253</td>\n",
              "      <td>0.04830</td>\n",
              "      <td>0.09089</td>\n",
              "      <td>0.03750</td>\n",
              "      <td>0.09111</td>\n",
              "      <td>-0.04951</td>\n",
              "      <td>0.27859</td>\n",
              "      <td>0.01205</td>\n",
              "      <td>0.13466</td>\n",
              "      <td>0.09535</td>\n",
              "      <td>0.10237</td>\n",
              "      <td>0.11540</td>\n",
              "    </tr>\n",
              "    <tr>\n",
              "      <th>bathrooms</th>\n",
              "      <td>-0.43802</td>\n",
              "      <td>2.98226</td>\n",
              "      <td>-1.07719</td>\n",
              "      <td>-0.02120</td>\n",
              "      <td>-0.70070</td>\n",
              "      <td>-0.02395</td>\n",
              "      <td>-0.04581</td>\n",
              "      <td>-0.10237</td>\n",
              "      <td>-0.23107</td>\n",
              "      <td>-0.42769</td>\n",
              "      <td>-0.82828</td>\n",
              "      <td>0.06868</td>\n",
              "      <td>0.07631</td>\n",
              "      <td>0.00421</td>\n",
              "    </tr>\n",
              "    <tr>\n",
              "      <th>sqft_living</th>\n",
              "      <td>-1.10253</td>\n",
              "      <td>-1.07719</td>\n",
              "      <td>5.22920</td>\n",
              "      <td>-0.21302</td>\n",
              "      <td>-0.54677</td>\n",
              "      <td>-0.02990</td>\n",
              "      <td>0.06061</td>\n",
              "      <td>0.01487</td>\n",
              "      <td>-1.23229</td>\n",
              "      <td>-1.22539</td>\n",
              "      <td>0.30593</td>\n",
              "      <td>-1.79213</td>\n",
              "      <td>-0.21901</td>\n",
              "      <td>0.03050</td>\n",
              "    </tr>\n",
              "    <tr>\n",
              "      <th>sqft_lot</th>\n",
              "      <td>0.04830</td>\n",
              "      <td>-0.02120</td>\n",
              "      <td>-0.21302</td>\n",
              "      <td>2.03024</td>\n",
              "      <td>0.06599</td>\n",
              "      <td>0.00296</td>\n",
              "      <td>-0.04630</td>\n",
              "      <td>0.01786</td>\n",
              "      <td>0.00159</td>\n",
              "      <td>0.08731</td>\n",
              "      <td>0.03732</td>\n",
              "      <td>0.08614</td>\n",
              "      <td>-1.41516</td>\n",
              "      <td>0.02732</td>\n",
              "    </tr>\n",
              "    <tr>\n",
              "      <th>floors</th>\n",
              "      <td>0.09089</td>\n",
              "      <td>-0.70070</td>\n",
              "      <td>-0.54677</td>\n",
              "      <td>0.06599</td>\n",
              "      <td>2.04109</td>\n",
              "      <td>-0.01507</td>\n",
              "      <td>-0.03957</td>\n",
              "      <td>0.13367</td>\n",
              "      <td>-0.28159</td>\n",
              "      <td>0.84873</td>\n",
              "      <td>-0.37305</td>\n",
              "      <td>0.37146</td>\n",
              "      <td>0.07757</td>\n",
              "      <td>-0.25123</td>\n",
              "    </tr>\n",
              "    <tr>\n",
              "      <th>waterfront</th>\n",
              "      <td>0.03750</td>\n",
              "      <td>-0.02395</td>\n",
              "      <td>-0.02990</td>\n",
              "      <td>0.00296</td>\n",
              "      <td>-0.01507</td>\n",
              "      <td>1.04224</td>\n",
              "      <td>-0.20208</td>\n",
              "      <td>-0.00710</td>\n",
              "      <td>0.04827</td>\n",
              "      <td>0.02964</td>\n",
              "      <td>0.02039</td>\n",
              "      <td>0.01392</td>\n",
              "      <td>-0.02863</td>\n",
              "      <td>-0.02559</td>\n",
              "    </tr>\n",
              "    <tr>\n",
              "      <th>view</th>\n",
              "      <td>0.09111</td>\n",
              "      <td>-0.04581</td>\n",
              "      <td>0.06061</td>\n",
              "      <td>-0.04630</td>\n",
              "      <td>-0.03957</td>\n",
              "      <td>-0.20208</td>\n",
              "      <td>1.14699</td>\n",
              "      <td>0.00080</td>\n",
              "      <td>-0.08991</td>\n",
              "      <td>-0.22200</td>\n",
              "      <td>0.17189</td>\n",
              "      <td>-0.23281</td>\n",
              "      <td>-0.00602</td>\n",
              "      <td>-0.03905</td>\n",
              "    </tr>\n",
              "    <tr>\n",
              "      <th>condition</th>\n",
              "      <td>-0.04951</td>\n",
              "      <td>-0.10237</td>\n",
              "      <td>0.01487</td>\n",
              "      <td>0.01786</td>\n",
              "      <td>0.13367</td>\n",
              "      <td>-0.00710</td>\n",
              "      <td>0.00080</td>\n",
              "      <td>1.20022</td>\n",
              "      <td>-0.02252</td>\n",
              "      <td>-0.09270</td>\n",
              "      <td>0.41826</td>\n",
              "      <td>0.06643</td>\n",
              "      <td>-0.02243</td>\n",
              "      <td>0.13869</td>\n",
              "    </tr>\n",
              "    <tr>\n",
              "      <th>grade</th>\n",
              "      <td>0.27859</td>\n",
              "      <td>-0.23107</td>\n",
              "      <td>-1.23229</td>\n",
              "      <td>0.00159</td>\n",
              "      <td>-0.28159</td>\n",
              "      <td>0.04827</td>\n",
              "      <td>-0.08991</td>\n",
              "      <td>-0.02252</td>\n",
              "      <td>2.70510</td>\n",
              "      <td>0.19829</td>\n",
              "      <td>-0.42603</td>\n",
              "      <td>-0.70113</td>\n",
              "      <td>0.07781</td>\n",
              "      <td>-0.10302</td>\n",
              "    </tr>\n",
              "    <tr>\n",
              "      <th>sqft_basement</th>\n",
              "      <td>0.01205</td>\n",
              "      <td>-0.42769</td>\n",
              "      <td>-1.22539</td>\n",
              "      <td>0.08731</td>\n",
              "      <td>0.84873</td>\n",
              "      <td>0.02964</td>\n",
              "      <td>-0.22200</td>\n",
              "      <td>-0.09270</td>\n",
              "      <td>0.19829</td>\n",
              "      <td>1.81862</td>\n",
              "      <td>0.15057</td>\n",
              "      <td>0.47690</td>\n",
              "      <td>0.04862</td>\n",
              "      <td>-0.13549</td>\n",
              "    </tr>\n",
              "    <tr>\n",
              "      <th>yr_built</th>\n",
              "      <td>0.13466</td>\n",
              "      <td>-0.82828</td>\n",
              "      <td>0.30593</td>\n",
              "      <td>0.03732</td>\n",
              "      <td>-0.37305</td>\n",
              "      <td>0.02039</td>\n",
              "      <td>0.17189</td>\n",
              "      <td>0.41826</td>\n",
              "      <td>-0.42603</td>\n",
              "      <td>0.15057</td>\n",
              "      <td>2.03553</td>\n",
              "      <td>-0.12726</td>\n",
              "      <td>-0.06325</td>\n",
              "      <td>0.37130</td>\n",
              "    </tr>\n",
              "    <tr>\n",
              "      <th>sqft_living15</th>\n",
              "      <td>0.09535</td>\n",
              "      <td>0.06868</td>\n",
              "      <td>-1.79213</td>\n",
              "      <td>0.08614</td>\n",
              "      <td>0.37146</td>\n",
              "      <td>0.01392</td>\n",
              "      <td>-0.23281</td>\n",
              "      <td>0.06643</td>\n",
              "      <td>-0.70113</td>\n",
              "      <td>0.47690</td>\n",
              "      <td>-0.12726</td>\n",
              "      <td>2.69528</td>\n",
              "      <td>-0.13029</td>\n",
              "      <td>0.14349</td>\n",
              "    </tr>\n",
              "    <tr>\n",
              "      <th>sqft_lot15</th>\n",
              "      <td>0.10237</td>\n",
              "      <td>0.07631</td>\n",
              "      <td>-0.21901</td>\n",
              "      <td>-1.41516</td>\n",
              "      <td>0.07757</td>\n",
              "      <td>-0.02863</td>\n",
              "      <td>-0.00602</td>\n",
              "      <td>-0.02243</td>\n",
              "      <td>0.07781</td>\n",
              "      <td>0.04862</td>\n",
              "      <td>-0.06325</td>\n",
              "      <td>-0.13029</td>\n",
              "      <td>2.06778</td>\n",
              "      <td>0.08552</td>\n",
              "    </tr>\n",
              "    <tr>\n",
              "      <th>metro</th>\n",
              "      <td>0.11540</td>\n",
              "      <td>0.00421</td>\n",
              "      <td>0.03050</td>\n",
              "      <td>0.02732</td>\n",
              "      <td>-0.25123</td>\n",
              "      <td>-0.02559</td>\n",
              "      <td>-0.03905</td>\n",
              "      <td>0.13869</td>\n",
              "      <td>-0.10302</td>\n",
              "      <td>-0.13549</td>\n",
              "      <td>0.37130</td>\n",
              "      <td>0.14349</td>\n",
              "      <td>0.08552</td>\n",
              "      <td>1.15344</td>\n",
              "    </tr>\n",
              "  </tbody>\n",
              "</table>\n",
              "</div>"
            ],
            "text/plain": [
              "               bedrooms  bathrooms  ...  sqft_lot15    metro\n",
              "bedrooms        1.72455   -0.43802  ...     0.10237  0.11540\n",
              "bathrooms      -0.43802    2.98226  ...     0.07631  0.00421\n",
              "sqft_living    -1.10253   -1.07719  ...    -0.21901  0.03050\n",
              "sqft_lot        0.04830   -0.02120  ...    -1.41516  0.02732\n",
              "floors          0.09089   -0.70070  ...     0.07757 -0.25123\n",
              "waterfront      0.03750   -0.02395  ...    -0.02863 -0.02559\n",
              "view            0.09111   -0.04581  ...    -0.00602 -0.03905\n",
              "condition      -0.04951   -0.10237  ...    -0.02243  0.13869\n",
              "grade           0.27859   -0.23107  ...     0.07781 -0.10302\n",
              "sqft_basement   0.01205   -0.42769  ...     0.04862 -0.13549\n",
              "yr_built        0.13466   -0.82828  ...    -0.06325  0.37130\n",
              "sqft_living15   0.09535    0.06868  ...    -0.13029  0.14349\n",
              "sqft_lot15      0.10237    0.07631  ...     2.06778  0.08552\n",
              "metro           0.11540    0.00421  ...     0.08552  1.15344\n",
              "\n",
              "[14 rows x 14 columns]"
            ]
          },
          "metadata": {
            "tags": []
          },
          "execution_count": 170
        }
      ]
    },
    {
      "cell_type": "code",
      "metadata": {
        "id": "edR8ijr_qeGY"
      },
      "source": [
        "x = x.drop('sqft_living',axis=1)"
      ],
      "execution_count": null,
      "outputs": []
    },
    {
      "cell_type": "markdown",
      "metadata": {
        "id": "wgZsZO7ppHo1"
      },
      "source": [
        ">* After this I used the remaining variables in my model to fit a Multiple Linear Regression Model."
      ]
    },
    {
      "cell_type": "code",
      "metadata": {
        "colab": {
          "base_uri": "https://localhost:8080/"
        },
        "id": "L8JOlfel4U8-",
        "outputId": "0549844c-e948-4d26-fd08-4990b8eabcc5"
      },
      "source": [
        "x.info()"
      ],
      "execution_count": null,
      "outputs": [
        {
          "output_type": "stream",
          "text": [
            "<class 'pandas.core.frame.DataFrame'>\n",
            "Int64Index: 20448 entries, 0 to 21612\n",
            "Data columns (total 13 columns):\n",
            " #   Column         Non-Null Count  Dtype  \n",
            "---  ------         --------------  -----  \n",
            " 0   bedrooms       20448 non-null  int64  \n",
            " 1   bathrooms      20448 non-null  float64\n",
            " 2   sqft_lot       20448 non-null  int64  \n",
            " 3   floors         20448 non-null  float64\n",
            " 4   waterfront     20448 non-null  int64  \n",
            " 5   view           20448 non-null  int64  \n",
            " 6   condition      20448 non-null  int64  \n",
            " 7   grade          20448 non-null  int64  \n",
            " 8   sqft_basement  20448 non-null  int64  \n",
            " 9   yr_built       20448 non-null  int64  \n",
            " 10  sqft_living15  20448 non-null  int64  \n",
            " 11  sqft_lot15     20448 non-null  int64  \n",
            " 12  metro          20448 non-null  int64  \n",
            "dtypes: float64(2), int64(11)\n",
            "memory usage: 2.2 MB\n"
          ],
          "name": "stdout"
        }
      ]
    },
    {
      "cell_type": "markdown",
      "metadata": {
        "id": "4luAy8EKByw8"
      },
      "source": [
        "#### Fitting a Linear Model"
      ]
    },
    {
      "cell_type": "code",
      "metadata": {
        "colab": {
          "base_uri": "https://localhost:8080/"
        },
        "id": "g5G4wn8Ia_1E",
        "outputId": "f58b0cad-30cc-41a1-de56-d1d114ad51ec"
      },
      "source": [
        "regression=LinearRegression()\n",
        "regression.fit(x,y)\n",
        "y_pred=regression.predict(x)\n",
        "from sklearn import metrics\n",
        "print('Mean Absolute Error:', metrics.mean_absolute_error(y, y_pred))\n",
        "print('Mean Squared Error:', metrics.mean_squared_error(y, y_pred))\n",
        "print('Root Mean Squared Error:', np.sqrt(metrics.mean_squared_error(y, y_pred)))"
      ],
      "execution_count": null,
      "outputs": [
        {
          "output_type": "stream",
          "text": [
            "Mean Absolute Error: 104692.7381660349\n",
            "Mean Squared Error: 18169964820.287426\n",
            "Root Mean Squared Error: 134796.0118856913\n"
          ],
          "name": "stdout"
        }
      ]
    },
    {
      "cell_type": "code",
      "metadata": {
        "colab": {
          "base_uri": "https://localhost:8080/"
        },
        "id": "bSMam0p0jXWF",
        "outputId": "34b726da-bafd-4376-d3d4-27a4330e85d0"
      },
      "source": [
        "coef_dict_baseline = {}\n",
        "for coef, feat in zip(regression.coef_,x.columns):\n",
        "    coef_dict_baseline[feat] = coef\n",
        "coef_dict_baseline"
      ],
      "execution_count": null,
      "outputs": [
        {
          "output_type": "execute_result",
          "data": {
            "text/plain": [
              "{'bathrooms': 39640.70225835061,\n",
              " 'bedrooms': -2899.9086267664647,\n",
              " 'condition': 21697.715270412722,\n",
              " 'floors': 54788.80231788704,\n",
              " 'grade': 98969.05359164895,\n",
              " 'metro': 2953.080144133702,\n",
              " 'sqft_basement': 51.63371943800621,\n",
              " 'sqft_living15': 85.2048057888669,\n",
              " 'sqft_lot': 0.19064919789525447,\n",
              " 'sqft_lot15': -0.13161946239415556,\n",
              " 'view': 43453.743963234556,\n",
              " 'waterfront': 101961.76956950543,\n",
              " 'yr_built': -2512.753891628406}"
            ]
          },
          "metadata": {
            "tags": []
          },
          "execution_count": 174
        }
      ]
    },
    {
      "cell_type": "code",
      "metadata": {
        "colab": {
          "base_uri": "https://localhost:8080/",
          "height": 295
        },
        "id": "La73r1bjuE_S",
        "outputId": "e68fc347-25de-4730-f191-888f9446414e"
      },
      "source": [
        "lr = LinearRegression()\n",
        "models = [(lr, 'Linear Regression')]\n",
        "for model in models:\n",
        "    model[0].fit(x, y)\n",
        "    pd.Series(model[0].coef_, \n",
        "              index=x.columns).plot(kind='barh')\n",
        "    plt.title(model[1])\n",
        "    plt.xlabel('Coefficient Value')\n",
        "    plt.ylabel('Feature Name')\n",
        "    plt.show()"
      ],
      "execution_count": null,
      "outputs": [
        {
          "output_type": "display_data",
          "data": {
            "image/png": "[encoded data removed]",
            "text/plain": [
              "<Figure size 432x288 with 1 Axes>"
            ]
          },
          "metadata": {
            "tags": [],
            "needs_background": "light"
          }
        }
      ]
    },
    {
      "cell_type": "markdown",
      "metadata": {
        "id": "RmrLF5JOpmvo"
      },
      "source": [
        ">* From my features , The grade feature was the highest with a value of 102535.5496 and the RMSE for the model was 134906.\n",
        "Which is a high value."
      ]
    },
    {
      "cell_type": "code",
      "metadata": {
        "colab": {
          "base_uri": "https://localhost:8080/"
        },
        "id": "qrOJubzhcCkK",
        "outputId": "e8a6d4b8-56ed-47c9-ac98-67414906228e"
      },
      "source": [
        "from sklearn.metrics import r2_score\n",
        "score = r2_score(y, y_pred)\n",
        "score"
      ],
      "execution_count": null,
      "outputs": [
        {
          "output_type": "execute_result",
          "data": {
            "text/plain": [
              "0.5794618133907719"
            ]
          },
          "metadata": {
            "tags": []
          },
          "execution_count": 176
        }
      ]
    },
    {
      "cell_type": "code",
      "metadata": {
        "colab": {
          "base_uri": "https://localhost:8080/",
          "height": 295
        },
        "id": "nj045CB_ei3P",
        "outputId": "0e45ea90-f480-4993-f767-c3e41776198d"
      },
      "source": [
        "residual = y - y_pred\n",
        "sns.regplot(x = y_pred , y=residual, data = df , color = 'blue')\n"
      ],
      "execution_count": null,
      "outputs": [
        {
          "output_type": "execute_result",
          "data": {
            "text/plain": [
              "<matplotlib.axes._subplots.AxesSubplot at 0x7fcc5d997c18>"
            ]
          },
          "metadata": {
            "tags": []
          },
          "execution_count": 177
        },
        {
          "output_type": "display_data",
          "data": {
            "image/png": "[encoded data removed]",
            "text/plain": [
              "<Figure size 432x288 with 1 Axes>"
            ]
          },
          "metadata": {
            "tags": [],
            "needs_background": "light"
          }
        }
      ]
    },
    {
      "cell_type": "markdown",
      "metadata": {
        "id": "RM8z77iDqJa9"
      },
      "source": [
        ">* The r2_score for the model was 0.578 which is low as I had hoped for an r2 score higher than .70 while evaluating my model.\n",
        ">* Plotting my residuals against the fitted values , I noted that "
      ]
    },
    {
      "cell_type": "code",
      "metadata": {
        "colab": {
          "base_uri": "https://localhost:8080/"
        },
        "id": "zv_rSvrcrzWg",
        "outputId": "5d0588dc-1cd3-4094-93ba-d85a89de1420"
      },
      "source": [
        "import scipy as sp\n",
        "\n",
        "test_result, p_value = sp.stats.bartlett(y_pred, residuals)\n",
        "\n",
        "degree_of_freedom = len(y_pred)-1\n",
        "probability = 1 - p_value\n",
        "\n",
        "critical_value = sp.stats.chi2.ppf(probability, degree_of_freedom)\n",
        "print(test_result,p_value)\n",
        "print(critical_value)"
      ],
      "execution_count": null,
      "outputs": [
        {
          "output_type": "stream",
          "text": [
            "523.0448681820744 9.20649202190349e-116\n",
            "inf\n"
          ],
          "name": "stdout"
        }
      ]
    },
    {
      "cell_type": "code",
      "metadata": {
        "id": "5G_8Gqa54_rn"
      },
      "source": [
        "residuals = y - y_pred"
      ],
      "execution_count": null,
      "outputs": []
    },
    {
      "cell_type": "markdown",
      "metadata": {
        "id": "sBipKt2yqrX0"
      },
      "source": [
        ">* Testing for Heteroskedasticity of the model using the Barlett test, I noted that the p-value for the model was very low and the "
      ]
    },
    {
      "cell_type": "markdown",
      "metadata": {
        "id": "3OyUrQ0sq9Og"
      },
      "source": [
        ">* Dividing the model into a training and test set to see how well it makes predictions, the model was "
      ]
    },
    {
      "cell_type": "code",
      "metadata": {
        "colab": {
          "base_uri": "https://localhost:8080/",
          "height": 284
        },
        "id": "FzJhW-tsr43b",
        "outputId": "a0abfdfe-8082-4bbc-ae6b-fca501ff26be"
      },
      "source": [
        "from sklearn import linear_model\n",
        "from sklearn.model_selection import train_test_split\n",
        "X_train, X_test, Y_train, Y_test = train_test_split(x, y, test_size = .30, random_state = 180)\n",
        "regr = LinearRegression()\n",
        "regr.fit(X_train, Y_train)\n",
        "predicted = regr.predict(X_test)\n",
        "df2 = pd.DataFrame({'Actual': Y_test, 'Predicted': predicted})\n",
        "df2.describe()"
      ],
      "execution_count": null,
      "outputs": [
        {
          "output_type": "execute_result",
          "data": {
            "text/html": [
              "<div>\n",
              "<style scoped>\n",
              "    .dataframe tbody tr th:only-of-type {\n",
              "        vertical-align: middle;\n",
              "    }\n",
              "\n",
              "    .dataframe tbody tr th {\n",
              "        vertical-align: top;\n",
              "    }\n",
              "\n",
              "    .dataframe thead th {\n",
              "        text-align: right;\n",
              "    }\n",
              "</style>\n",
              "<table border=\"1\" class=\"dataframe\">\n",
              "  <thead>\n",
              "    <tr style=\"text-align: right;\">\n",
              "      <th></th>\n",
              "      <th>Actual</th>\n",
              "      <th>Predicted</th>\n",
              "    </tr>\n",
              "  </thead>\n",
              "  <tbody>\n",
              "    <tr>\n",
              "      <th>count</th>\n",
              "      <td>6135.00000</td>\n",
              "      <td>6135.00000</td>\n",
              "    </tr>\n",
              "    <tr>\n",
              "      <th>mean</th>\n",
              "      <td>476629.10285</td>\n",
              "      <td>473142.00643</td>\n",
              "    </tr>\n",
              "    <tr>\n",
              "      <th>std</th>\n",
              "      <td>208492.84045</td>\n",
              "      <td>157079.59913</td>\n",
              "    </tr>\n",
              "    <tr>\n",
              "      <th>min</th>\n",
              "      <td>78000.00000</td>\n",
              "      <td>-145176.76801</td>\n",
              "    </tr>\n",
              "    <tr>\n",
              "      <th>25%</th>\n",
              "      <td>315000.00000</td>\n",
              "      <td>361719.54496</td>\n",
              "    </tr>\n",
              "    <tr>\n",
              "      <th>50%</th>\n",
              "      <td>437000.00000</td>\n",
              "      <td>458187.74306</td>\n",
              "    </tr>\n",
              "    <tr>\n",
              "      <th>75%</th>\n",
              "      <td>602000.00000</td>\n",
              "      <td>565408.64360</td>\n",
              "    </tr>\n",
              "    <tr>\n",
              "      <th>max</th>\n",
              "      <td>1120000.00000</td>\n",
              "      <td>1135588.52146</td>\n",
              "    </tr>\n",
              "  </tbody>\n",
              "</table>\n",
              "</div>"
            ],
            "text/plain": [
              "             Actual     Predicted\n",
              "count    6135.00000    6135.00000\n",
              "mean   476629.10285  473142.00643\n",
              "std    208492.84045  157079.59913\n",
              "min     78000.00000 -145176.76801\n",
              "25%    315000.00000  361719.54496\n",
              "50%    437000.00000  458187.74306\n",
              "75%    602000.00000  565408.64360\n",
              "max   1120000.00000 1135588.52146"
            ]
          },
          "metadata": {
            "tags": []
          },
          "execution_count": 181
        }
      ]
    },
    {
      "cell_type": "code",
      "metadata": {
        "colab": {
          "base_uri": "https://localhost:8080/",
          "height": 307
        },
        "id": "fx8v5R7K6u4r",
        "outputId": "0567b6ab-9faa-47f3-e274-05f47b628c9d"
      },
      "source": [
        "plt.scatter(Y_test, predicted)\n",
        "plt.xlabel(\"Prices\")\n",
        "plt.ylabel(\"Predicted prices\")"
      ],
      "execution_count": null,
      "outputs": [
        {
          "output_type": "execute_result",
          "data": {
            "text/plain": [
              "Text(0, 0.5, 'Predicted prices')"
            ]
          },
          "metadata": {
            "tags": []
          },
          "execution_count": 182
        },
        {
          "output_type": "display_data",
          "data": {
            "image/png": "[encoded data removed]",
            "text/plain": [
              "<Figure size 432x288 with 1 Axes>"
            ]
          },
          "metadata": {
            "tags": [],
            "needs_background": "light"
          }
        }
      ]
    },
    {
      "cell_type": "code",
      "metadata": {
        "colab": {
          "base_uri": "https://localhost:8080/"
        },
        "id": "uYlmyF1s8INS",
        "outputId": "1c68f08c-176e-4231-8709-b6c5b6e65831"
      },
      "source": [
        "\n",
        "y_pred1= regr.predict(X_train)\n",
        "y_pred2 = regr.predict(X_test)\n",
        "RMSEtrain = mean_squared_error(Y_train, y_pred1)**0.5\n",
        "RMSEtest = mean_squared_error(Y_test, y_pred2)**0.5\n",
        "r2_train = r2_score(Y_train, y_pred1)\n",
        "r2_test = r2_score(Y_test, y_pred2)\n",
        "print( \"RMSE for the training data is: \", RMSEtrain)\n",
        "print (\"RMSE for the testing data is: \", RMSEtest)\n",
        "print (\"R^2 value for training data is: \", r2_train)\n",
        "print (\"R^2 value for testing data is: \", r2_test)"
      ],
      "execution_count": null,
      "outputs": [
        {
          "output_type": "stream",
          "text": [
            "RMSE for the training data is:  134233.30173649013\n",
            "RMSE for the testing data is:  136142.9207474019\n",
            "R^2 value for training data is:  0.5819049009120031\n",
            "R^2 value for testing data is:  0.5735396782095106\n"
          ],
          "name": "stdout"
        }
      ]
    },
    {
      "cell_type": "markdown",
      "metadata": {
        "id": "Eb5Fvsdh_Yyy"
      },
      "source": [
        "### 3.2.Quantile "
      ]
    },
    {
      "cell_type": "markdown",
      "metadata": {
        "id": "o9DDRTSus4a5"
      },
      "source": [
        ">* Quantile Regression works better with data that has Heteroskedasticity , outliers and high skewness.\n",
        ">* The coefficients obtained from this model should differ significant;y with those obtained when carrying out Multiple Linear Regression."
      ]
    },
    {
      "cell_type": "code",
      "metadata": {
        "colab": {
          "base_uri": "https://localhost:8080/",
          "height": 452
        },
        "id": "YLOcHKWgCtlU",
        "outputId": "9c0bd25f-3f27-4956-dade-63b3cd9636ad"
      },
      "source": [
        "correlations = x.corr()\n",
        "pd.DataFrame(np.linalg.inv(correlations.values), index = correlations.index, columns=correlations.columns)"
      ],
      "execution_count": null,
      "outputs": [
        {
          "output_type": "execute_result",
          "data": {
            "text/html": [
              "<div>\n",
              "<style scoped>\n",
              "    .dataframe tbody tr th:only-of-type {\n",
              "        vertical-align: middle;\n",
              "    }\n",
              "\n",
              "    .dataframe tbody tr th {\n",
              "        vertical-align: top;\n",
              "    }\n",
              "\n",
              "    .dataframe thead th {\n",
              "        text-align: right;\n",
              "    }\n",
              "</style>\n",
              "<table border=\"1\" class=\"dataframe\">\n",
              "  <thead>\n",
              "    <tr style=\"text-align: right;\">\n",
              "      <th></th>\n",
              "      <th>bedrooms</th>\n",
              "      <th>bathrooms</th>\n",
              "      <th>sqft_lot</th>\n",
              "      <th>floors</th>\n",
              "      <th>waterfront</th>\n",
              "      <th>view</th>\n",
              "      <th>condition</th>\n",
              "      <th>grade</th>\n",
              "      <th>sqft_basement</th>\n",
              "      <th>yr_built</th>\n",
              "      <th>sqft_living15</th>\n",
              "      <th>sqft_lot15</th>\n",
              "      <th>metro</th>\n",
              "    </tr>\n",
              "  </thead>\n",
              "  <tbody>\n",
              "    <tr>\n",
              "      <th>bedrooms</th>\n",
              "      <td>1.52928</td>\n",
              "      <td>-0.71688</td>\n",
              "      <td>0.00408</td>\n",
              "      <td>-0.03451</td>\n",
              "      <td>0.06447</td>\n",
              "      <td>0.12116</td>\n",
              "      <td>-0.04911</td>\n",
              "      <td>0.05462</td>\n",
              "      <td>-0.23908</td>\n",
              "      <td>0.18701</td>\n",
              "      <td>-0.28299</td>\n",
              "      <td>0.05424</td>\n",
              "      <td>0.11943</td>\n",
              "    </tr>\n",
              "    <tr>\n",
              "      <th>bathrooms</th>\n",
              "      <td>-0.71688</td>\n",
              "      <td>2.98370</td>\n",
              "      <td>-0.07784</td>\n",
              "      <td>-0.81038</td>\n",
              "      <td>-0.04121</td>\n",
              "      <td>-0.04027</td>\n",
              "      <td>-0.08302</td>\n",
              "      <td>-0.68922</td>\n",
              "      <td>-0.71479</td>\n",
              "      <td>-0.71895</td>\n",
              "      <td>-0.29474</td>\n",
              "      <td>0.01244</td>\n",
              "      <td>0.00589</td>\n",
              "    </tr>\n",
              "    <tr>\n",
              "      <th>sqft_lot</th>\n",
              "      <td>0.00408</td>\n",
              "      <td>-0.07784</td>\n",
              "      <td>2.07658</td>\n",
              "      <td>0.04812</td>\n",
              "      <td>0.01474</td>\n",
              "      <td>-0.04206</td>\n",
              "      <td>0.02115</td>\n",
              "      <td>-0.08053</td>\n",
              "      <td>0.04235</td>\n",
              "      <td>0.04581</td>\n",
              "      <td>0.05073</td>\n",
              "      <td>-1.48343</td>\n",
              "      <td>0.02225</td>\n",
              "    </tr>\n",
              "    <tr>\n",
              "      <th>floors</th>\n",
              "      <td>-0.03451</td>\n",
              "      <td>-0.81038</td>\n",
              "      <td>0.04812</td>\n",
              "      <td>1.94463</td>\n",
              "      <td>-0.02479</td>\n",
              "      <td>-0.04373</td>\n",
              "      <td>0.11703</td>\n",
              "      <td>-0.44921</td>\n",
              "      <td>0.71229</td>\n",
              "      <td>-0.32419</td>\n",
              "      <td>0.17512</td>\n",
              "      <td>0.06260</td>\n",
              "      <td>-0.25442</td>\n",
              "    </tr>\n",
              "    <tr>\n",
              "      <th>waterfront</th>\n",
              "      <td>0.06447</td>\n",
              "      <td>-0.04121</td>\n",
              "      <td>0.01474</td>\n",
              "      <td>-0.02479</td>\n",
              "      <td>1.07997</td>\n",
              "      <td>-0.26674</td>\n",
              "      <td>-0.00576</td>\n",
              "      <td>-0.01699</td>\n",
              "      <td>-0.01534</td>\n",
              "      <td>0.04030</td>\n",
              "      <td>-0.01452</td>\n",
              "      <td>-0.02490</td>\n",
              "      <td>-0.01365</td>\n",
              "    </tr>\n",
              "    <tr>\n",
              "      <th>view</th>\n",
              "      <td>0.12116</td>\n",
              "      <td>-0.04027</td>\n",
              "      <td>-0.04206</td>\n",
              "      <td>-0.04373</td>\n",
              "      <td>-0.26674</td>\n",
              "      <td>1.25709</td>\n",
              "      <td>-0.00285</td>\n",
              "      <td>-0.14239</td>\n",
              "      <td>-0.26043</td>\n",
              "      <td>0.19657</td>\n",
              "      <td>-0.24561</td>\n",
              "      <td>0.00516</td>\n",
              "      <td>-0.03304</td>\n",
              "    </tr>\n",
              "    <tr>\n",
              "      <th>condition</th>\n",
              "      <td>-0.04911</td>\n",
              "      <td>-0.08302</td>\n",
              "      <td>0.02115</td>\n",
              "      <td>0.11703</td>\n",
              "      <td>-0.00576</td>\n",
              "      <td>-0.00285</td>\n",
              "      <td>1.20242</td>\n",
              "      <td>-0.00664</td>\n",
              "      <td>-0.09553</td>\n",
              "      <td>0.42940</td>\n",
              "      <td>0.05486</td>\n",
              "      <td>-0.02219</td>\n",
              "      <td>0.13000</td>\n",
              "    </tr>\n",
              "    <tr>\n",
              "      <th>grade</th>\n",
              "      <td>0.05462</td>\n",
              "      <td>-0.68922</td>\n",
              "      <td>-0.08053</td>\n",
              "      <td>-0.44921</td>\n",
              "      <td>-0.01699</td>\n",
              "      <td>-0.14239</td>\n",
              "      <td>-0.00664</td>\n",
              "      <td>2.77847</td>\n",
              "      <td>-0.12716</td>\n",
              "      <td>-0.28935</td>\n",
              "      <td>-1.33604</td>\n",
              "      <td>0.04806</td>\n",
              "      <td>-0.06894</td>\n",
              "    </tr>\n",
              "    <tr>\n",
              "      <th>sqft_basement</th>\n",
              "      <td>-0.23908</td>\n",
              "      <td>-0.71479</td>\n",
              "      <td>0.04235</td>\n",
              "      <td>0.71229</td>\n",
              "      <td>-0.01534</td>\n",
              "      <td>-0.26043</td>\n",
              "      <td>-0.09553</td>\n",
              "      <td>-0.12716</td>\n",
              "      <td>1.58676</td>\n",
              "      <td>0.22668</td>\n",
              "      <td>0.03683</td>\n",
              "      <td>0.01451</td>\n",
              "      <td>-0.11297</td>\n",
              "    </tr>\n",
              "    <tr>\n",
              "      <th>yr_built</th>\n",
              "      <td>0.18701</td>\n",
              "      <td>-0.71895</td>\n",
              "      <td>0.04581</td>\n",
              "      <td>-0.32419</td>\n",
              "      <td>0.04030</td>\n",
              "      <td>0.19657</td>\n",
              "      <td>0.42940</td>\n",
              "      <td>-0.28935</td>\n",
              "      <td>0.22668</td>\n",
              "      <td>1.90049</td>\n",
              "      <td>0.01489</td>\n",
              "      <td>-0.05277</td>\n",
              "      <td>0.36234</td>\n",
              "    </tr>\n",
              "    <tr>\n",
              "      <th>sqft_living15</th>\n",
              "      <td>-0.28299</td>\n",
              "      <td>-0.29474</td>\n",
              "      <td>0.05073</td>\n",
              "      <td>0.17512</td>\n",
              "      <td>-0.01452</td>\n",
              "      <td>-0.24561</td>\n",
              "      <td>0.05486</td>\n",
              "      <td>-1.33604</td>\n",
              "      <td>0.03683</td>\n",
              "      <td>0.01489</td>\n",
              "      <td>2.31340</td>\n",
              "      <td>-0.22641</td>\n",
              "      <td>0.18277</td>\n",
              "    </tr>\n",
              "    <tr>\n",
              "      <th>sqft_lot15</th>\n",
              "      <td>0.05424</td>\n",
              "      <td>0.01244</td>\n",
              "      <td>-1.48343</td>\n",
              "      <td>0.06260</td>\n",
              "      <td>-0.02490</td>\n",
              "      <td>0.00516</td>\n",
              "      <td>-0.02219</td>\n",
              "      <td>0.04806</td>\n",
              "      <td>0.01451</td>\n",
              "      <td>-0.05277</td>\n",
              "      <td>-0.22641</td>\n",
              "      <td>2.11352</td>\n",
              "      <td>0.07856</td>\n",
              "    </tr>\n",
              "    <tr>\n",
              "      <th>metro</th>\n",
              "      <td>0.11943</td>\n",
              "      <td>0.00589</td>\n",
              "      <td>0.02225</td>\n",
              "      <td>-0.25442</td>\n",
              "      <td>-0.01365</td>\n",
              "      <td>-0.03304</td>\n",
              "      <td>0.13000</td>\n",
              "      <td>-0.06894</td>\n",
              "      <td>-0.11297</td>\n",
              "      <td>0.36234</td>\n",
              "      <td>0.18277</td>\n",
              "      <td>0.07856</td>\n",
              "      <td>1.15448</td>\n",
              "    </tr>\n",
              "  </tbody>\n",
              "</table>\n",
              "</div>"
            ],
            "text/plain": [
              "               bedrooms  bathrooms  ...  sqft_lot15    metro\n",
              "bedrooms        1.52928   -0.71688  ...     0.05424  0.11943\n",
              "bathrooms      -0.71688    2.98370  ...     0.01244  0.00589\n",
              "sqft_lot        0.00408   -0.07784  ...    -1.48343  0.02225\n",
              "floors         -0.03451   -0.81038  ...     0.06260 -0.25442\n",
              "waterfront      0.06447   -0.04121  ...    -0.02490 -0.01365\n",
              "view            0.12116   -0.04027  ...     0.00516 -0.03304\n",
              "condition      -0.04911   -0.08302  ...    -0.02219  0.13000\n",
              "grade           0.05462   -0.68922  ...     0.04806 -0.06894\n",
              "sqft_basement  -0.23908   -0.71479  ...     0.01451 -0.11297\n",
              "yr_built        0.18701   -0.71895  ...    -0.05277  0.36234\n",
              "sqft_living15  -0.28299   -0.29474  ...    -0.22641  0.18277\n",
              "sqft_lot15      0.05424    0.01244  ...     2.11352  0.07856\n",
              "metro           0.11943    0.00589  ...     0.07856  1.15448\n",
              "\n",
              "[13 rows x 13 columns]"
            ]
          },
          "metadata": {
            "tags": []
          },
          "execution_count": 268
        }
      ]
    },
    {
      "cell_type": "markdown",
      "metadata": {
        "id": "szGeMYLluA-I"
      },
      "source": [
        ">* Once again checking for Multicollinearity, the VIF for the features is low and therefore we use these to carry out Quantile regression."
      ]
    },
    {
      "cell_type": "markdown",
      "metadata": {
        "id": "eyvHaDIcuU7j"
      },
      "source": [
        ">* 1. Model 1 : The 0.5 Quantile , Median regression model"
      ]
    },
    {
      "cell_type": "code",
      "metadata": {
        "colab": {
          "base_uri": "https://localhost:8080/",
          "height": 578
        },
        "id": "3Ihe8OMJ_YC5",
        "outputId": "44746eaf-7990-4199-9649-51bceef8a9cb"
      },
      "source": [
        "import statsmodels.formula.api as smf\n",
        "mod = smf.quantreg('y ~ x', data= df,)\n",
        "res = mod.fit(q=0.5)\n",
        "quantile = res.summary()\n",
        "quantile"
      ],
      "execution_count": null,
      "outputs": [
        {
          "output_type": "stream",
          "text": [
            "/usr/local/lib/python3.6/dist-packages/statsmodels/regression/quantile_regression.py:192: IterationLimitWarning: Maximum number of iterations (1000) reached.\n",
            "  \") reached.\", IterationLimitWarning)\n"
          ],
          "name": "stderr"
        },
        {
          "output_type": "execute_result",
          "data": {
            "text/html": [
              "<table class=\"simpletable\">\n",
              "<caption>QuantReg Regression Results</caption>\n",
              "<tr>\n",
              "  <th>Dep. Variable:</th>         <td>y</td>        <th>  Pseudo R-squared:  </th> <td>  0.3907</td> \n",
              "</tr>\n",
              "<tr>\n",
              "  <th>Model:</th>             <td>QuantReg</td>     <th>  Bandwidth:         </th> <td>2.372e+04</td>\n",
              "</tr>\n",
              "<tr>\n",
              "  <th>Method:</th>          <td>Least Squares</td>  <th>  Sparsity:          </th> <td>3.441e+05</td>\n",
              "</tr>\n",
              "<tr>\n",
              "  <th>Date:</th>          <td>Sat, 21 Nov 2020</td> <th>  No. Observations:  </th>  <td> 21607</td>  \n",
              "</tr>\n",
              "<tr>\n",
              "  <th>Time:</th>              <td>14:25:27</td>     <th>  Df Residuals:      </th>  <td> 21593</td>  \n",
              "</tr>\n",
              "<tr>\n",
              "  <th> </th>                      <td> </td>        <th>  Df Model:          </th>  <td>    13</td>  \n",
              "</tr>\n",
              "</table>\n",
              "<table class=\"simpletable\">\n",
              "<tr>\n",
              "      <td></td>         <th>coef</th>     <th>std err</th>      <th>t</th>      <th>P>|t|</th>  <th>[0.025</th>    <th>0.975]</th>  \n",
              "</tr>\n",
              "<tr>\n",
              "  <th>Intercept</th> <td>-6.835e+05</td> <td> 1.27e+04</td> <td>  -53.790</td> <td> 0.000</td> <td>-7.08e+05</td> <td>-6.59e+05</td>\n",
              "</tr>\n",
              "<tr>\n",
              "  <th>x[0]</th>      <td>-9705.5278</td> <td> 1593.884</td> <td>   -6.089</td> <td> 0.000</td> <td>-1.28e+04</td> <td>-6581.396</td>\n",
              "</tr>\n",
              "<tr>\n",
              "  <th>x[1]</th>      <td>  4.86e+04</td> <td> 2624.533</td> <td>   18.518</td> <td> 0.000</td> <td> 4.35e+04</td> <td> 5.37e+04</td>\n",
              "</tr>\n",
              "<tr>\n",
              "  <th>x[2]</th>      <td>    0.2532</td> <td>    0.041</td> <td>    6.219</td> <td> 0.000</td> <td>    0.173</td> <td>    0.333</td>\n",
              "</tr>\n",
              "<tr>\n",
              "  <th>x[3]</th>      <td> 6.134e+04</td> <td> 3022.755</td> <td>   20.294</td> <td> 0.000</td> <td> 5.54e+04</td> <td> 6.73e+04</td>\n",
              "</tr>\n",
              "<tr>\n",
              "  <th>x[4]</th>      <td> 5.778e+05</td> <td> 1.41e+04</td> <td>   41.110</td> <td> 0.000</td> <td>  5.5e+05</td> <td> 6.05e+05</td>\n",
              "</tr>\n",
              "<tr>\n",
              "  <th>x[5]</th>      <td> 7.168e+04</td> <td> 4408.197</td> <td>   16.260</td> <td> 0.000</td> <td>  6.3e+04</td> <td> 8.03e+04</td>\n",
              "</tr>\n",
              "<tr>\n",
              "  <th>x[6]</th>      <td> 2.237e+04</td> <td> 1972.197</td> <td>   11.343</td> <td> 0.000</td> <td> 1.85e+04</td> <td> 2.62e+04</td>\n",
              "</tr>\n",
              "<tr>\n",
              "  <th>x[7]</th>      <td> 1.197e+05</td> <td> 1659.536</td> <td>   72.111</td> <td> 0.000</td> <td> 1.16e+05</td> <td> 1.23e+05</td>\n",
              "</tr>\n",
              "<tr>\n",
              "  <th>x[8]</th>      <td>   69.6454</td> <td>    3.331</td> <td>   20.910</td> <td> 0.000</td> <td>   63.117</td> <td>   76.174</td>\n",
              "</tr>\n",
              "<tr>\n",
              "  <th>x[9]</th>      <td>-3040.7731</td> <td>   54.930</td> <td>  -55.357</td> <td> 0.000</td> <td>-3148.440</td> <td>-2933.106</td>\n",
              "</tr>\n",
              "<tr>\n",
              "  <th>x[10]</th>     <td>   94.8435</td> <td>    2.597</td> <td>   36.520</td> <td> 0.000</td> <td>   89.753</td> <td>   99.934</td>\n",
              "</tr>\n",
              "<tr>\n",
              "  <th>x[11]</th>     <td>   -0.2128</td> <td>    0.062</td> <td>   -3.416</td> <td> 0.001</td> <td>   -0.335</td> <td>   -0.091</td>\n",
              "</tr>\n",
              "<tr>\n",
              "  <th>x[12]</th>     <td> 2417.1896</td> <td>  185.906</td> <td>   13.002</td> <td> 0.000</td> <td> 2052.801</td> <td> 2781.579</td>\n",
              "</tr>\n",
              "</table><br/><br/>The condition number is large, 6.09e+05. This might indicate that there are<br/>strong multicollinearity or other numerical problems."
            ],
            "text/plain": [
              "<class 'statsmodels.iolib.summary.Summary'>\n",
              "\"\"\"\n",
              "                         QuantReg Regression Results                          \n",
              "==============================================================================\n",
              "Dep. Variable:                      y   Pseudo R-squared:               0.3907\n",
              "Model:                       QuantReg   Bandwidth:                   2.372e+04\n",
              "Method:                 Least Squares   Sparsity:                    3.441e+05\n",
              "Date:                Sat, 21 Nov 2020   No. Observations:                21607\n",
              "Time:                        14:25:27   Df Residuals:                    21593\n",
              "                                        Df Model:                           13\n",
              "==============================================================================\n",
              "                 coef    std err          t      P>|t|      [0.025      0.975]\n",
              "------------------------------------------------------------------------------\n",
              "Intercept  -6.835e+05   1.27e+04    -53.790      0.000   -7.08e+05   -6.59e+05\n",
              "x[0]       -9705.5278   1593.884     -6.089      0.000   -1.28e+04   -6581.396\n",
              "x[1]         4.86e+04   2624.533     18.518      0.000    4.35e+04    5.37e+04\n",
              "x[2]           0.2532      0.041      6.219      0.000       0.173       0.333\n",
              "x[3]        6.134e+04   3022.755     20.294      0.000    5.54e+04    6.73e+04\n",
              "x[4]        5.778e+05   1.41e+04     41.110      0.000     5.5e+05    6.05e+05\n",
              "x[5]        7.168e+04   4408.197     16.260      0.000     6.3e+04    8.03e+04\n",
              "x[6]        2.237e+04   1972.197     11.343      0.000    1.85e+04    2.62e+04\n",
              "x[7]        1.197e+05   1659.536     72.111      0.000    1.16e+05    1.23e+05\n",
              "x[8]          69.6454      3.331     20.910      0.000      63.117      76.174\n",
              "x[9]       -3040.7731     54.930    -55.357      0.000   -3148.440   -2933.106\n",
              "x[10]         94.8435      2.597     36.520      0.000      89.753      99.934\n",
              "x[11]         -0.2128      0.062     -3.416      0.001      -0.335      -0.091\n",
              "x[12]       2417.1896    185.906     13.002      0.000    2052.801    2781.579\n",
              "==============================================================================\n",
              "\n",
              "The condition number is large, 6.09e+05. This might indicate that there are\n",
              "strong multicollinearity or other numerical problems.\n",
              "\"\"\""
            ]
          },
          "metadata": {
            "tags": []
          },
          "execution_count": 269
        }
      ]
    },
    {
      "cell_type": "markdown",
      "metadata": {
        "id": "Bzkmy_yXTvpz"
      },
      "source": [
        ">* 2. Model 2: The 75 Percentile model."
      ]
    },
    {
      "cell_type": "code",
      "metadata": {
        "colab": {
          "base_uri": "https://localhost:8080/",
          "height": 578
        },
        "id": "rzTaAlaXNTzF",
        "outputId": "a91bd61a-7bdf-4c76-d6f1-b14a3aded285"
      },
      "source": [
        "import statsmodels.formula.api as smf\n",
        "\n",
        "mod = smf.quantreg('y ~ x', data= df,)\n",
        "res = mod.fit(q=0.75)\n",
        "\n",
        "quantile = res.summary()\n",
        "quantile"
      ],
      "execution_count": null,
      "outputs": [
        {
          "output_type": "stream",
          "text": [
            "/usr/local/lib/python3.6/dist-packages/statsmodels/regression/quantile_regression.py:192: IterationLimitWarning: Maximum number of iterations (1000) reached.\n",
            "  \") reached.\", IterationLimitWarning)\n"
          ],
          "name": "stderr"
        },
        {
          "output_type": "execute_result",
          "data": {
            "text/html": [
              "<table class=\"simpletable\">\n",
              "<caption>QuantReg Regression Results</caption>\n",
              "<tr>\n",
              "  <th>Dep. Variable:</th>         <td>y</td>        <th>  Pseudo R-squared:  </th> <td>  0.4406</td> \n",
              "</tr>\n",
              "<tr>\n",
              "  <th>Model:</th>             <td>QuantReg</td>     <th>  Bandwidth:         </th> <td>2.222e+04</td>\n",
              "</tr>\n",
              "<tr>\n",
              "  <th>Method:</th>          <td>Least Squares</td>  <th>  Sparsity:          </th> <td>4.713e+05</td>\n",
              "</tr>\n",
              "<tr>\n",
              "  <th>Date:</th>          <td>Sat, 21 Nov 2020</td> <th>  No. Observations:  </th>  <td> 21607</td>  \n",
              "</tr>\n",
              "<tr>\n",
              "  <th>Time:</th>              <td>14:26:54</td>     <th>  Df Residuals:      </th>  <td> 21593</td>  \n",
              "</tr>\n",
              "<tr>\n",
              "  <th> </th>                      <td> </td>        <th>  Df Model:          </th>  <td>    13</td>  \n",
              "</tr>\n",
              "</table>\n",
              "<table class=\"simpletable\">\n",
              "<tr>\n",
              "      <td></td>         <th>coef</th>     <th>std err</th>      <th>t</th>      <th>P>|t|</th>  <th>[0.025</th>    <th>0.975]</th>  \n",
              "</tr>\n",
              "<tr>\n",
              "  <th>Intercept</th> <td>-7.054e+05</td> <td> 1.62e+04</td> <td>  -43.653</td> <td> 0.000</td> <td>-7.37e+05</td> <td>-6.74e+05</td>\n",
              "</tr>\n",
              "<tr>\n",
              "  <th>x[0]</th>      <td>-1.066e+04</td> <td> 1962.828</td> <td>   -5.432</td> <td> 0.000</td> <td>-1.45e+04</td> <td>-6815.279</td>\n",
              "</tr>\n",
              "<tr>\n",
              "  <th>x[1]</th>      <td> 6.573e+04</td> <td> 3281.061</td> <td>   20.032</td> <td> 0.000</td> <td> 5.93e+04</td> <td> 7.22e+04</td>\n",
              "</tr>\n",
              "<tr>\n",
              "  <th>x[2]</th>      <td>    0.2885</td> <td>    0.049</td> <td>    5.938</td> <td> 0.000</td> <td>    0.193</td> <td>    0.384</td>\n",
              "</tr>\n",
              "<tr>\n",
              "  <th>x[3]</th>      <td> 5.874e+04</td> <td> 3713.895</td> <td>   15.815</td> <td> 0.000</td> <td> 5.15e+04</td> <td>  6.6e+04</td>\n",
              "</tr>\n",
              "<tr>\n",
              "  <th>x[4]</th>      <td> 2.691e+05</td> <td> 2.17e+04</td> <td>   12.411</td> <td> 0.000</td> <td> 2.27e+05</td> <td> 3.12e+05</td>\n",
              "</tr>\n",
              "<tr>\n",
              "  <th>x[5]</th>      <td> 1.306e+05</td> <td> 4983.517</td> <td>   26.198</td> <td> 0.000</td> <td> 1.21e+05</td> <td>  1.4e+05</td>\n",
              "</tr>\n",
              "<tr>\n",
              "  <th>x[6]</th>      <td> 1.917e+04</td> <td> 2373.176</td> <td>    8.076</td> <td> 0.000</td> <td> 1.45e+04</td> <td> 2.38e+04</td>\n",
              "</tr>\n",
              "<tr>\n",
              "  <th>x[7]</th>      <td> 1.411e+05</td> <td> 2182.591</td> <td>   64.626</td> <td> 0.000</td> <td> 1.37e+05</td> <td> 1.45e+05</td>\n",
              "</tr>\n",
              "<tr>\n",
              "  <th>x[8]</th>      <td>   84.8316</td> <td>    4.135</td> <td>   20.514</td> <td> 0.000</td> <td>   76.726</td> <td>   92.937</td>\n",
              "</tr>\n",
              "<tr>\n",
              "  <th>x[9]</th>      <td>-3654.5738</td> <td>   69.101</td> <td>  -52.887</td> <td> 0.000</td> <td>-3790.017</td> <td>-3519.130</td>\n",
              "</tr>\n",
              "<tr>\n",
              "  <th>x[10]</th>     <td>   99.7343</td> <td>    3.416</td> <td>   29.198</td> <td> 0.000</td> <td>   93.039</td> <td>  106.430</td>\n",
              "</tr>\n",
              "<tr>\n",
              "  <th>x[11]</th>     <td>   -0.3309</td> <td>    0.079</td> <td>   -4.172</td> <td> 0.000</td> <td>   -0.486</td> <td>   -0.175</td>\n",
              "</tr>\n",
              "<tr>\n",
              "  <th>x[12]</th>     <td>  744.3899</td> <td>  224.140</td> <td>    3.321</td> <td> 0.001</td> <td>  305.058</td> <td> 1183.721</td>\n",
              "</tr>\n",
              "</table><br/><br/>The condition number is large, 6.09e+05. This might indicate that there are<br/>strong multicollinearity or other numerical problems."
            ],
            "text/plain": [
              "<class 'statsmodels.iolib.summary.Summary'>\n",
              "\"\"\"\n",
              "                         QuantReg Regression Results                          \n",
              "==============================================================================\n",
              "Dep. Variable:                      y   Pseudo R-squared:               0.4406\n",
              "Model:                       QuantReg   Bandwidth:                   2.222e+04\n",
              "Method:                 Least Squares   Sparsity:                    4.713e+05\n",
              "Date:                Sat, 21 Nov 2020   No. Observations:                21607\n",
              "Time:                        14:26:54   Df Residuals:                    21593\n",
              "                                        Df Model:                           13\n",
              "==============================================================================\n",
              "                 coef    std err          t      P>|t|      [0.025      0.975]\n",
              "------------------------------------------------------------------------------\n",
              "Intercept  -7.054e+05   1.62e+04    -43.653      0.000   -7.37e+05   -6.74e+05\n",
              "x[0]       -1.066e+04   1962.828     -5.432      0.000   -1.45e+04   -6815.279\n",
              "x[1]        6.573e+04   3281.061     20.032      0.000    5.93e+04    7.22e+04\n",
              "x[2]           0.2885      0.049      5.938      0.000       0.193       0.384\n",
              "x[3]        5.874e+04   3713.895     15.815      0.000    5.15e+04     6.6e+04\n",
              "x[4]        2.691e+05   2.17e+04     12.411      0.000    2.27e+05    3.12e+05\n",
              "x[5]        1.306e+05   4983.517     26.198      0.000    1.21e+05     1.4e+05\n",
              "x[6]        1.917e+04   2373.176      8.076      0.000    1.45e+04    2.38e+04\n",
              "x[7]        1.411e+05   2182.591     64.626      0.000    1.37e+05    1.45e+05\n",
              "x[8]          84.8316      4.135     20.514      0.000      76.726      92.937\n",
              "x[9]       -3654.5738     69.101    -52.887      0.000   -3790.017   -3519.130\n",
              "x[10]         99.7343      3.416     29.198      0.000      93.039     106.430\n",
              "x[11]         -0.3309      0.079     -4.172      0.000      -0.486      -0.175\n",
              "x[12]        744.3899    224.140      3.321      0.001     305.058    1183.721\n",
              "==============================================================================\n",
              "\n",
              "The condition number is large, 6.09e+05. This might indicate that there are\n",
              "strong multicollinearity or other numerical problems.\n",
              "\"\"\""
            ]
          },
          "metadata": {
            "tags": []
          },
          "execution_count": 270
        }
      ]
    },
    {
      "cell_type": "markdown",
      "metadata": {
        "id": "mmjodXJCT6NW"
      },
      "source": [
        ">* 3. Model 3: The 25th Percentile Model."
      ]
    },
    {
      "cell_type": "code",
      "metadata": {
        "colab": {
          "base_uri": "https://localhost:8080/",
          "height": 578
        },
        "id": "vROnkLxfTjTs",
        "outputId": "0f3458bc-7e45-4e81-d471-a15394c0686e"
      },
      "source": [
        "import statsmodels.formula.api as smf\n",
        "\n",
        "mod = smf.quantreg('y ~ x', data= df,)\n",
        "res = mod.fit(q=0.25)\n",
        "\n",
        "quantile = res.summary()\n",
        "quantile"
      ],
      "execution_count": null,
      "outputs": [
        {
          "output_type": "stream",
          "text": [
            "/usr/local/lib/python3.6/dist-packages/statsmodels/regression/quantile_regression.py:192: IterationLimitWarning: Maximum number of iterations (1000) reached.\n",
            "  \") reached.\", IterationLimitWarning)\n"
          ],
          "name": "stderr"
        },
        {
          "output_type": "execute_result",
          "data": {
            "text/html": [
              "<table class=\"simpletable\">\n",
              "<caption>QuantReg Regression Results</caption>\n",
              "<tr>\n",
              "  <th>Dep. Variable:</th>         <td>y</td>        <th>  Pseudo R-squared:  </th> <td>  0.3281</td> \n",
              "</tr>\n",
              "<tr>\n",
              "  <th>Model:</th>             <td>QuantReg</td>     <th>  Bandwidth:         </th> <td>2.086e+04</td>\n",
              "</tr>\n",
              "<tr>\n",
              "  <th>Method:</th>          <td>Least Squares</td>  <th>  Sparsity:          </th> <td>3.482e+05</td>\n",
              "</tr>\n",
              "<tr>\n",
              "  <th>Date:</th>          <td>Sat, 21 Nov 2020</td> <th>  No. Observations:  </th>  <td> 21607</td>  \n",
              "</tr>\n",
              "<tr>\n",
              "  <th>Time:</th>              <td>14:56:31</td>     <th>  Df Residuals:      </th>  <td> 21593</td>  \n",
              "</tr>\n",
              "<tr>\n",
              "  <th> </th>                      <td> </td>        <th>  Df Model:          </th>  <td>    13</td>  \n",
              "</tr>\n",
              "</table>\n",
              "<table class=\"simpletable\">\n",
              "<tr>\n",
              "      <td></td>         <th>coef</th>     <th>std err</th>      <th>t</th>      <th>P>|t|</th>  <th>[0.025</th>    <th>0.975]</th>  \n",
              "</tr>\n",
              "<tr>\n",
              "  <th>Intercept</th> <td>-6.327e+05</td> <td> 1.08e+04</td> <td>  -58.842</td> <td> 0.000</td> <td>-6.54e+05</td> <td>-6.12e+05</td>\n",
              "</tr>\n",
              "<tr>\n",
              "  <th>x[0]</th>      <td>-8498.7959</td> <td> 1394.620</td> <td>   -6.094</td> <td> 0.000</td> <td>-1.12e+04</td> <td>-5765.238</td>\n",
              "</tr>\n",
              "<tr>\n",
              "  <th>x[1]</th>      <td> 4.138e+04</td> <td> 2271.189</td> <td>   18.219</td> <td> 0.000</td> <td> 3.69e+04</td> <td> 4.58e+04</td>\n",
              "</tr>\n",
              "<tr>\n",
              "  <th>x[2]</th>      <td>    0.1912</td> <td>    0.036</td> <td>    5.256</td> <td> 0.000</td> <td>    0.120</td> <td>    0.263</td>\n",
              "</tr>\n",
              "<tr>\n",
              "  <th>x[3]</th>      <td> 5.185e+04</td> <td> 2599.215</td> <td>   19.948</td> <td> 0.000</td> <td> 4.68e+04</td> <td> 5.69e+04</td>\n",
              "</tr>\n",
              "<tr>\n",
              "  <th>x[4]</th>      <td> 2.896e+05</td> <td> 1.23e+04</td> <td>   23.471</td> <td> 0.000</td> <td> 2.65e+05</td> <td> 3.14e+05</td>\n",
              "</tr>\n",
              "<tr>\n",
              "  <th>x[5]</th>      <td> 4.915e+04</td> <td> 3942.456</td> <td>   12.467</td> <td> 0.000</td> <td> 4.14e+04</td> <td> 5.69e+04</td>\n",
              "</tr>\n",
              "<tr>\n",
              "  <th>x[6]</th>      <td> 2.011e+04</td> <td> 1741.778</td> <td>   11.543</td> <td> 0.000</td> <td> 1.67e+04</td> <td> 2.35e+04</td>\n",
              "</tr>\n",
              "<tr>\n",
              "  <th>x[7]</th>      <td> 9.871e+04</td> <td> 1366.367</td> <td>   72.246</td> <td> 0.000</td> <td>  9.6e+04</td> <td> 1.01e+05</td>\n",
              "</tr>\n",
              "<tr>\n",
              "  <th>x[8]</th>      <td>   47.3652</td> <td>    2.886</td> <td>   16.414</td> <td> 0.000</td> <td>   41.709</td> <td>   53.021</td>\n",
              "</tr>\n",
              "<tr>\n",
              "  <th>x[9]</th>      <td>-2370.4691</td> <td>   45.775</td> <td>  -51.785</td> <td> 0.000</td> <td>-2460.191</td> <td>-2280.747</td>\n",
              "</tr>\n",
              "<tr>\n",
              "  <th>x[10]</th>     <td>   84.9816</td> <td>    2.146</td> <td>   39.605</td> <td> 0.000</td> <td>   80.776</td> <td>   89.187</td>\n",
              "</tr>\n",
              "<tr>\n",
              "  <th>x[11]</th>     <td>   -0.0584</td> <td>    0.055</td> <td>   -1.060</td> <td> 0.289</td> <td>   -0.166</td> <td>    0.050</td>\n",
              "</tr>\n",
              "<tr>\n",
              "  <th>x[12]</th>     <td> 4217.5891</td> <td>  157.116</td> <td>   26.844</td> <td> 0.000</td> <td> 3909.631</td> <td> 4525.547</td>\n",
              "</tr>\n",
              "</table><br/><br/>The condition number is large, 6.09e+05. This might indicate that there are<br/>strong multicollinearity or other numerical problems."
            ],
            "text/plain": [
              "<class 'statsmodels.iolib.summary.Summary'>\n",
              "\"\"\"\n",
              "                         QuantReg Regression Results                          \n",
              "==============================================================================\n",
              "Dep. Variable:                      y   Pseudo R-squared:               0.3281\n",
              "Model:                       QuantReg   Bandwidth:                   2.086e+04\n",
              "Method:                 Least Squares   Sparsity:                    3.482e+05\n",
              "Date:                Sat, 21 Nov 2020   No. Observations:                21607\n",
              "Time:                        14:56:31   Df Residuals:                    21593\n",
              "                                        Df Model:                           13\n",
              "==============================================================================\n",
              "                 coef    std err          t      P>|t|      [0.025      0.975]\n",
              "------------------------------------------------------------------------------\n",
              "Intercept  -6.327e+05   1.08e+04    -58.842      0.000   -6.54e+05   -6.12e+05\n",
              "x[0]       -8498.7959   1394.620     -6.094      0.000   -1.12e+04   -5765.238\n",
              "x[1]        4.138e+04   2271.189     18.219      0.000    3.69e+04    4.58e+04\n",
              "x[2]           0.1912      0.036      5.256      0.000       0.120       0.263\n",
              "x[3]        5.185e+04   2599.215     19.948      0.000    4.68e+04    5.69e+04\n",
              "x[4]        2.896e+05   1.23e+04     23.471      0.000    2.65e+05    3.14e+05\n",
              "x[5]        4.915e+04   3942.456     12.467      0.000    4.14e+04    5.69e+04\n",
              "x[6]        2.011e+04   1741.778     11.543      0.000    1.67e+04    2.35e+04\n",
              "x[7]        9.871e+04   1366.367     72.246      0.000     9.6e+04    1.01e+05\n",
              "x[8]          47.3652      2.886     16.414      0.000      41.709      53.021\n",
              "x[9]       -2370.4691     45.775    -51.785      0.000   -2460.191   -2280.747\n",
              "x[10]         84.9816      2.146     39.605      0.000      80.776      89.187\n",
              "x[11]         -0.0584      0.055     -1.060      0.289      -0.166       0.050\n",
              "x[12]       4217.5891    157.116     26.844      0.000    3909.631    4525.547\n",
              "==============================================================================\n",
              "\n",
              "The condition number is large, 6.09e+05. This might indicate that there are\n",
              "strong multicollinearity or other numerical problems.\n",
              "\"\"\""
            ]
          },
          "metadata": {
            "tags": []
          },
          "execution_count": 292
        }
      ]
    },
    {
      "cell_type": "markdown",
      "metadata": {
        "id": "2w-o_Gb4UG1S"
      },
      "source": [
        ">* The Quantile Regression models also appear to not be the best models for this Prediction.\n",
        ">* The models have very low R-squared values."
      ]
    },
    {
      "cell_type": "markdown",
      "metadata": {
        "id": "PdKnH3bdszYo"
      },
      "source": [
        "### 3.3.Lasso Regression Model."
      ]
    },
    {
      "cell_type": "markdown",
      "metadata": {
        "id": "DHs6uElmvgTz"
      },
      "source": [
        ">* The Lasso Regression Model penalizes less important features and acts as a shrinkage parameter and also does variable selection.\n",
        ">* Fitting the model we have:"
      ]
    },
    {
      "cell_type": "code",
      "metadata": {
        "colab": {
          "base_uri": "https://localhost:8080/"
        },
        "id": "PFLovp0Us1_f",
        "outputId": "d3c11a96-6710-4603-c510-870f88e93b62"
      },
      "source": [
        "scaler = StandardScaler()\n",
        "scaler.fit_transform(x)\n",
        "lasso = linear_model.Lasso() \n",
        "lasso.fit(x, y) \n",
        "print(\"lasso score:\", lasso.score(x, y)) \n",
        "print(\"lasso MSE:\", mean_squared_error(y, lasso.predict(x))) \n",
        "print('Root Mean Squared Error:', np.sqrt(metrics.mean_squared_error(y, lasso.predict(x))))\n",
        "print(\"lasso coef:\", lasso.coef_) "
      ],
      "execution_count": null,
      "outputs": [
        {
          "output_type": "stream",
          "text": [
            "lasso score: 0.6252745428164463\n",
            "lasso MSE: 50581202999.94576\n",
            "Root Mean Squared Error: 224902.65227414673\n",
            "lasso coef: [-1.47522503e+04  9.30837298e+04  1.61554938e-01  4.88835676e+04\n",
            "  6.81943969e+05  8.71288516e+04  1.77116951e+04  1.55350517e+05\n",
            "  8.26374849e+01 -3.94814276e+03  9.15100520e+01 -3.18469128e-01\n",
            "  5.53246357e+02]\n"
          ],
          "name": "stdout"
        }
      ]
    },
    {
      "cell_type": "code",
      "metadata": {
        "colab": {
          "base_uri": "https://localhost:8080/"
        },
        "id": "0lbjnEr3XkUX",
        "outputId": "5f81940b-c9d0-4101-8a20-3d2e279b8179"
      },
      "source": [
        "coef_dict_baseline = {}\n",
        "for coef, feat in zip(lasso.coef_,x.columns):\n",
        "    coef_dict_baseline[feat] = coef\n",
        "coef_dict_baseline"
      ],
      "execution_count": null,
      "outputs": [
        {
          "output_type": "execute_result",
          "data": {
            "text/plain": [
              "{'bathrooms': 93083.72975290011,\n",
              " 'bedrooms': -14752.250256986305,\n",
              " 'condition': 17711.6951425435,\n",
              " 'floors': 48883.56760530528,\n",
              " 'grade': 155350.5173885647,\n",
              " 'metro': 553.2463574881244,\n",
              " 'sqft_basement': 82.6374848739967,\n",
              " 'sqft_living15': 91.51005204703044,\n",
              " 'sqft_lot': 0.16155493832666845,\n",
              " 'sqft_lot15': -0.3184691281518487,\n",
              " 'view': 87128.85162699831,\n",
              " 'waterfront': 681943.9693993065,\n",
              " 'yr_built': -3948.142757163327}"
            ]
          },
          "metadata": {
            "tags": []
          },
          "execution_count": 272
        }
      ]
    },
    {
      "cell_type": "code",
      "metadata": {
        "colab": {
          "base_uri": "https://localhost:8080/",
          "height": 295
        },
        "id": "0vIleMIuU7Rg",
        "outputId": "8811315e-910b-4591-9803-69d6a2de5be6"
      },
      "source": [
        "lasso = Lasso()\n",
        "models = [(lasso, 'Lasso Regression')]\n",
        "for model in models:\n",
        "    model[0].fit(x, y)\n",
        "    pd.Series(model[0].coef_, \n",
        "              index=x.columns).plot(kind='barh')\n",
        "    plt.title(model[1])\n",
        "    plt.xlabel('Coefficient Value')\n",
        "    plt.ylabel('Feature Name')\n",
        "    plt.show()"
      ],
      "execution_count": null,
      "outputs": [
        {
          "output_type": "display_data",
          "data": {
            "image/png": "[encoded data removed]",
            "text/plain": [
              "<Figure size 432x288 with 1 Axes>"
            ]
          },
          "metadata": {
            "tags": [],
            "needs_background": "light"
          }
        }
      ]
    },
    {
      "cell_type": "markdown",
      "metadata": {
        "id": "ik7NQ-umUods"
      },
      "source": [
        ">* The model appears to place emphasis on the waterfront feature ultimately this may be due to the outliers in the dataset.\n"
      ]
    },
    {
      "cell_type": "markdown",
      "metadata": {
        "id": "cC1HbXHwx4Cd"
      },
      "source": [
        ">* Dividing the model into a Test and Training set we then have :"
      ]
    },
    {
      "cell_type": "code",
      "metadata": {
        "colab": {
          "base_uri": "https://localhost:8080/"
        },
        "id": "jwQrZ6v5xfvd",
        "outputId": "875bba60-9638-4316-ace7-b0379639050d"
      },
      "source": [
        "from sklearn.model_selection import train_test_split\n",
        "from sklearn.model_selection import GridSearchCV\n",
        "\n",
        "\n",
        "X_train, X_test, y_train, y_test = train_test_split(x, y, test_size=0.25, random_state=5000)\n",
        "parameters = {'alpha': np.concatenate((np.arange(0.1,2,0.1), np.arange(2, 5, 0.5), np.arange(5, 1000, 5)))}\n",
        "\n",
        "linear = linear_model.LinearRegression()\n",
        "lasso = linear_model.Lasso() \n",
        "gridlasso = GridSearchCV(lasso, parameters, scoring ='r2',cv=20) \n",
        "\n",
        "gridlasso.fit(X_train, y_train) \n",
        "linear.fit(X_train, y_train) \n",
        "print(\"lasso best parameters:\", gridlasso.best_params_) \n",
        "print(\"lasso score:\", gridlasso.score(X_test, y_test))\n",
        "print(\"linear score:\", linear.score(X_test, y_test)) \n",
        "print(\"lasso MSE:\", mean_squared_error(y_test, gridlasso.predict(X_test)))\n",
        "print(\"linear MSE:\", mean_squared_error(y_test, linear.predict(X_test))) \n",
        "print(\"lasso best estimator coef:\", gridlasso.best_estimator_.coef_)\n",
        "print(\"linear coef:\", linear.coef_)"
      ],
      "execution_count": 299,
      "outputs": [
        {
          "output_type": "stream",
          "text": [
            "lasso best parameters: {'alpha': 175.0}\n",
            "lasso score: 0.6288345912584623\n",
            "linear score: 0.628665887398494\n",
            "lasso MSE: 49957087256.35124\n",
            "linear MSE: 49979793988.32149\n",
            "lasso best estimator coef: [-1.40717363e+04  9.35144774e+04  1.40665815e-01  4.62605373e+04\n",
            "  6.82420411e+05  8.49534317e+04  1.62743843e+04  1.55285367e+05\n",
            "  8.16962764e+01 -3.96925694e+03  9.21156094e+01 -3.29870953e-01\n",
            "  7.14837783e+02]\n",
            "linear coef: [-1.43810218e+04  9.39716220e+04  1.41175373e-01  4.68707920e+04\n",
            "  7.05569902e+05  8.54251052e+04  1.68206927e+04  1.55255245e+05\n",
            "  8.13687703e+01 -3.97033802e+03  9.16396521e+01 -3.30981647e-01\n",
            "  7.02400103e+02]\n"
          ],
          "name": "stdout"
        }
      ]
    },
    {
      "cell_type": "code",
      "metadata": {
        "colab": {
          "base_uri": "https://localhost:8080/",
          "height": 284
        },
        "id": "NgRGrSVhyW1a",
        "outputId": "1c7c228c-260b-4716-b1f7-c4a912c30da1"
      },
      "source": [
        "X_train, X_test, Y_train, Y_test = train_test_split(x, y, test_size = .30, random_state = 180)\n",
        "lasso = linear_model.Lasso(normalize=True,alpha =95)\n",
        "lasso.fit(X_train, Y_train)\n",
        "predicted = lasso.predict(X_test)\n",
        "df2 = pd.DataFrame({'Actual': Y_test, 'Predicted': predicted})\n",
        "df2.describe()"
      ],
      "execution_count": 300,
      "outputs": [
        {
          "output_type": "execute_result",
          "data": {
            "text/html": [
              "<div>\n",
              "<style scoped>\n",
              "    .dataframe tbody tr th:only-of-type {\n",
              "        vertical-align: middle;\n",
              "    }\n",
              "\n",
              "    .dataframe tbody tr th {\n",
              "        vertical-align: top;\n",
              "    }\n",
              "\n",
              "    .dataframe thead th {\n",
              "        text-align: right;\n",
              "    }\n",
              "</style>\n",
              "<table border=\"1\" class=\"dataframe\">\n",
              "  <thead>\n",
              "    <tr style=\"text-align: right;\">\n",
              "      <th></th>\n",
              "      <th>Actual</th>\n",
              "      <th>Predicted</th>\n",
              "    </tr>\n",
              "  </thead>\n",
              "  <tbody>\n",
              "    <tr>\n",
              "      <th>count</th>\n",
              "      <td>6483.00000</td>\n",
              "      <td>6483.00000</td>\n",
              "    </tr>\n",
              "    <tr>\n",
              "      <th>mean</th>\n",
              "      <td>535252.47509</td>\n",
              "      <td>537161.95637</td>\n",
              "    </tr>\n",
              "    <tr>\n",
              "      <th>std</th>\n",
              "      <td>365550.49030</td>\n",
              "      <td>257666.79099</td>\n",
              "    </tr>\n",
              "    <tr>\n",
              "      <th>min</th>\n",
              "      <td>83000.00000</td>\n",
              "      <td>-145198.08410</td>\n",
              "    </tr>\n",
              "    <tr>\n",
              "      <th>25%</th>\n",
              "      <td>320000.00000</td>\n",
              "      <td>360733.85569</td>\n",
              "    </tr>\n",
              "    <tr>\n",
              "      <th>50%</th>\n",
              "      <td>453500.00000</td>\n",
              "      <td>495392.74944</td>\n",
              "    </tr>\n",
              "    <tr>\n",
              "      <th>75%</th>\n",
              "      <td>641500.00000</td>\n",
              "      <td>671241.64749</td>\n",
              "    </tr>\n",
              "    <tr>\n",
              "      <th>max</th>\n",
              "      <td>7700000.00000</td>\n",
              "      <td>2424341.37826</td>\n",
              "    </tr>\n",
              "  </tbody>\n",
              "</table>\n",
              "</div>"
            ],
            "text/plain": [
              "             Actual     Predicted\n",
              "count    6483.00000    6483.00000\n",
              "mean   535252.47509  537161.95637\n",
              "std    365550.49030  257666.79099\n",
              "min     83000.00000 -145198.08410\n",
              "25%    320000.00000  360733.85569\n",
              "50%    453500.00000  495392.74944\n",
              "75%    641500.00000  671241.64749\n",
              "max   7700000.00000 2424341.37826"
            ]
          },
          "metadata": {
            "tags": []
          },
          "execution_count": 300
        }
      ]
    },
    {
      "cell_type": "code",
      "metadata": {
        "colab": {
          "base_uri": "https://localhost:8080/"
        },
        "id": "QEi5KxKEa1xa",
        "outputId": "317678c7-945c-40cb-e2b9-82db19715662"
      },
      "source": [
        "from sklearn.metrics import r2_score\n",
        "y_pred = lasso.predict(x)\n",
        "score = r2_score(y, y_pred)\n",
        "score"
      ],
      "execution_count": null,
      "outputs": [
        {
          "output_type": "execute_result",
          "data": {
            "text/plain": [
              "0.6251250732315734"
            ]
          },
          "metadata": {
            "tags": []
          },
          "execution_count": 277
        }
      ]
    },
    {
      "cell_type": "markdown",
      "metadata": {
        "id": "MC9qKK4C7o6Y"
      },
      "source": [
        ">* After fitting the  Lasso Regression model the r2_score was 0.625.\n",
        ">* Although it's not too bad a higher r2_score would have been better.\n",
        ">* Therefore this model was not the best for predicting the prices of the Houses as it gave the min price as a negative value."
      ]
    },
    {
      "cell_type": "markdown",
      "metadata": {
        "id": "_N0ZfW99JeM1"
      },
      "source": [
        "### 3.4.Ridge Regression Model\n",
        "\n"
      ]
    },
    {
      "cell_type": "markdown",
      "metadata": {
        "id": "P8Z-PE5pZCVr"
      },
      "source": [
        ">* The Ridge regression model focuses on the features that contribute more to the overall error.\n",
        ">* It still uses information from the less important features.\n",
        ">* The Ridge regression model uses the l2 regularization applying a penalty to the sum of squared values.\n",
        ">* Its limitation is that it cannot be used for feature selection."
      ]
    },
    {
      "cell_type": "code",
      "metadata": {
        "colab": {
          "base_uri": "https://localhost:8080/"
        },
        "id": "Ecur4X6RZk5M",
        "outputId": "f609204a-1ba9-494b-f2cd-c3903051faf8"
      },
      "source": [
        "ridge = Ridge(normalize=True)\n",
        "search = GridSearchCV(estimator=ridge,param_grid={'alpha':np.logspace(-5,2,10)},scoring='neg_mean_squared_error',n_jobs=1,refit=True,cv=10)\n",
        "search"
      ],
      "execution_count": null,
      "outputs": [
        {
          "output_type": "execute_result",
          "data": {
            "text/plain": [
              "GridSearchCV(cv=10, error_score=nan,\n",
              "             estimator=Ridge(alpha=1.0, copy_X=True, fit_intercept=True,\n",
              "                             max_iter=None, normalize=True, random_state=None,\n",
              "                             solver='auto', tol=0.001),\n",
              "             iid='deprecated', n_jobs=1,\n",
              "             param_grid={'alpha': array([1.00000000e-05, 5.99484250e-05, 3.59381366e-04, 2.15443469e-03,\n",
              "       1.29154967e-02, 7.74263683e-02, 4.64158883e-01, 2.78255940e+00,\n",
              "       1.66810054e+01, 1.00000000e+02])},\n",
              "             pre_dispatch='2*n_jobs', refit=True, return_train_score=False,\n",
              "             scoring='neg_mean_squared_error', verbose=0)"
            ]
          },
          "metadata": {
            "tags": []
          },
          "execution_count": 278
        }
      ]
    },
    {
      "cell_type": "code",
      "metadata": {
        "colab": {
          "base_uri": "https://localhost:8080/"
        },
        "id": "1BElX-KGZrTo",
        "outputId": "3ae3f953-8d99-499c-b39f-011c19890e19"
      },
      "source": [
        "search.fit(x,y)\n",
        "search.best_params_\n",
        "{'alpha': 0.01}\n",
        "abs(search.best_score_) \n"
      ],
      "execution_count": null,
      "outputs": [
        {
          "output_type": "execute_result",
          "data": {
            "text/plain": [
              "51012705276.262726"
            ]
          },
          "metadata": {
            "tags": []
          },
          "execution_count": 279
        }
      ]
    },
    {
      "cell_type": "code",
      "metadata": {
        "colab": {
          "base_uri": "https://localhost:8080/"
        },
        "id": "wNvp9PHb8dAx",
        "outputId": "a30a5ba2-0827-4133-8e64-7314fe55b755"
      },
      "source": [
        "search.best_params_"
      ],
      "execution_count": null,
      "outputs": [
        {
          "output_type": "execute_result",
          "data": {
            "text/plain": [
              "{'alpha': 0.0021544346900318843}"
            ]
          },
          "metadata": {
            "tags": []
          },
          "execution_count": 280
        }
      ]
    },
    {
      "cell_type": "code",
      "metadata": {
        "colab": {
          "base_uri": "https://localhost:8080/"
        },
        "id": "uG3dn5HpZ49J",
        "outputId": "9a5f40ac-0609-4dbb-966d-52fac335e0ee"
      },
      "source": [
        "ridge = Ridge(normalize=True,alpha=0.0021544346900318843)\n",
        "ridge.fit(x,y)\n",
        "model = (mean_squared_error(y_true=y,y_pred=ridge.predict(x)))\n",
        "print('Root Mean Squared Error:', np.sqrt(metrics.mean_squared_error(y, ridge.predict(x))))\n",
        "\n",
        "\n"
      ],
      "execution_count": null,
      "outputs": [
        {
          "output_type": "stream",
          "text": [
            "Root Mean Squared Error: 224903.74902300295\n"
          ],
          "name": "stdout"
        }
      ]
    },
    {
      "cell_type": "code",
      "metadata": {
        "colab": {
          "base_uri": "https://localhost:8080/",
          "height": 284
        },
        "id": "BgBptrKEXFQT",
        "outputId": "e5e0e4d4-b360-49e0-b5e0-e0ed982204fc"
      },
      "source": [
        "regr = Ridge()\n",
        "regr.fit(X_train, Y_train)\n",
        "\n",
        "predicted = regr.predict(X_test)\n",
        "df2 = pd.DataFrame({'Actual': Y_test, 'Predicted': predicted})\n",
        "df2.describe()"
      ],
      "execution_count": null,
      "outputs": [
        {
          "output_type": "execute_result",
          "data": {
            "text/html": [
              "<div>\n",
              "<style scoped>\n",
              "    .dataframe tbody tr th:only-of-type {\n",
              "        vertical-align: middle;\n",
              "    }\n",
              "\n",
              "    .dataframe tbody tr th {\n",
              "        vertical-align: top;\n",
              "    }\n",
              "\n",
              "    .dataframe thead th {\n",
              "        text-align: right;\n",
              "    }\n",
              "</style>\n",
              "<table border=\"1\" class=\"dataframe\">\n",
              "  <thead>\n",
              "    <tr style=\"text-align: right;\">\n",
              "      <th></th>\n",
              "      <th>Actual</th>\n",
              "      <th>Predicted</th>\n",
              "    </tr>\n",
              "  </thead>\n",
              "  <tbody>\n",
              "    <tr>\n",
              "      <th>count</th>\n",
              "      <td>6483.00000</td>\n",
              "      <td>6483.00000</td>\n",
              "    </tr>\n",
              "    <tr>\n",
              "      <th>mean</th>\n",
              "      <td>535252.47509</td>\n",
              "      <td>536882.38320</td>\n",
              "    </tr>\n",
              "    <tr>\n",
              "      <th>std</th>\n",
              "      <td>365550.49030</td>\n",
              "      <td>279567.80234</td>\n",
              "    </tr>\n",
              "    <tr>\n",
              "      <th>min</th>\n",
              "      <td>83000.00000</td>\n",
              "      <td>-240940.00876</td>\n",
              "    </tr>\n",
              "    <tr>\n",
              "      <th>25%</th>\n",
              "      <td>320000.00000</td>\n",
              "      <td>343376.69184</td>\n",
              "    </tr>\n",
              "    <tr>\n",
              "      <th>50%</th>\n",
              "      <td>453500.00000</td>\n",
              "      <td>494571.36833</td>\n",
              "    </tr>\n",
              "    <tr>\n",
              "      <th>75%</th>\n",
              "      <td>641500.00000</td>\n",
              "      <td>677381.45356</td>\n",
              "    </tr>\n",
              "    <tr>\n",
              "      <th>max</th>\n",
              "      <td>7700000.00000</td>\n",
              "      <td>2691270.54395</td>\n",
              "    </tr>\n",
              "  </tbody>\n",
              "</table>\n",
              "</div>"
            ],
            "text/plain": [
              "             Actual     Predicted\n",
              "count    6483.00000    6483.00000\n",
              "mean   535252.47509  536882.38320\n",
              "std    365550.49030  279567.80234\n",
              "min     83000.00000 -240940.00876\n",
              "25%    320000.00000  343376.69184\n",
              "50%    453500.00000  494571.36833\n",
              "75%    641500.00000  677381.45356\n",
              "max   7700000.00000 2691270.54395"
            ]
          },
          "metadata": {
            "tags": []
          },
          "execution_count": 293
        }
      ]
    },
    {
      "cell_type": "code",
      "metadata": {
        "colab": {
          "base_uri": "https://localhost:8080/"
        },
        "id": "G34eS6SVa5_P",
        "outputId": "199fb86e-3dc1-44b1-efef-54841142e62d"
      },
      "source": [
        "from sklearn.metrics import r2_score\n",
        "ridge.fit(x,y)\n",
        "y_pred=ridge.predict(x)\n",
        "score = r2_score(y, y_pred)\n",
        "score"
      ],
      "execution_count": null,
      "outputs": [
        {
          "output_type": "execute_result",
          "data": {
            "text/plain": [
              "0.6252708880732543"
            ]
          },
          "metadata": {
            "tags": []
          },
          "execution_count": 282
        }
      ]
    },
    {
      "cell_type": "markdown",
      "metadata": {
        "id": "VxpZddUXN3BV"
      },
      "source": [
        ">* After fitting the model and getting the RMSE was still high , the r2_score was 0.625 which was not to low however it could possibly be higher.\n",
        ">* This model also does not give accurate predictions giving the minimum value as a negative."
      ]
    },
    {
      "cell_type": "markdown",
      "metadata": {
        "id": "Q0prAVvz8jnJ"
      },
      "source": [
        "### 3.5.ElasticNet Regression Model."
      ]
    },
    {
      "cell_type": "markdown",
      "metadata": {
        "id": "w5vm2T8UYrix"
      },
      "source": [
        ">* The Elasticnet model uses both Li and L2 regularizations,it applies penalties to both the sum of the absolute values and to the sum of the squared values."
      ]
    },
    {
      "cell_type": "code",
      "metadata": {
        "id": "M9QtKGoe8mrJ"
      },
      "source": [
        "elastic=ElasticNet(normalize=True)\n",
        "search=GridSearchCV(estimator=elastic,param_grid={'alpha':np.logspace(-5,2,8),'l1_ratio':[.2,.4,.6,.8,.9]},scoring='neg_mean_squared_error',n_jobs=1,refit=True,cv=10)"
      ],
      "execution_count": null,
      "outputs": []
    },
    {
      "cell_type": "code",
      "metadata": {
        "colab": {
          "base_uri": "https://localhost:8080/"
        },
        "id": "yV6SOKwk9bb4",
        "outputId": "546af3f4-a94c-4aff-cd32-17f0e46df0a3"
      },
      "source": [
        "search.fit(x,y)\n",
        "search.best_params_\n",
        "abs(search.best_score_)"
      ],
      "execution_count": null,
      "outputs": [
        {
          "output_type": "execute_result",
          "data": {
            "text/plain": [
              "51030783199.402084"
            ]
          },
          "metadata": {
            "tags": []
          },
          "execution_count": 284
        }
      ]
    },
    {
      "cell_type": "code",
      "metadata": {
        "colab": {
          "base_uri": "https://localhost:8080/"
        },
        "id": "7xvyw0kx939S",
        "outputId": "489dad72-0701-402f-bc85-429efaf06349"
      },
      "source": [
        "search.best_params_"
      ],
      "execution_count": null,
      "outputs": [
        {
          "output_type": "execute_result",
          "data": {
            "text/plain": [
              "{'alpha': 1e-05, 'l1_ratio': 0.9}"
            ]
          },
          "metadata": {
            "tags": []
          },
          "execution_count": 285
        }
      ]
    },
    {
      "cell_type": "code",
      "metadata": {
        "colab": {
          "base_uri": "https://localhost:8080/"
        },
        "id": "jQImLzAs9fq6",
        "outputId": "8eb622c1-0bb3-42bc-c64a-c89361a9f358"
      },
      "source": [
        "elastic=ElasticNet(normalize=True,alpha=1e-05,l1_ratio=0.9)\n",
        "elastic.fit(x,y)\n",
        "model=(mean_squared_error(y_true=y,y_pred=elastic.predict(x)))\n",
        "print(model)"
      ],
      "execution_count": null,
      "outputs": [
        {
          "output_type": "stream",
          "text": [
            "50626067401.061615\n"
          ],
          "name": "stdout"
        }
      ]
    },
    {
      "cell_type": "code",
      "metadata": {
        "id": "2KpGwa4bc87R",
        "colab": {
          "base_uri": "https://localhost:8080/",
          "height": 284
        },
        "outputId": "ee25b16a-bb04-4723-80c5-220fb342a63b"
      },
      "source": [
        "regr = ElasticNet()\n",
        "regr.fit(X_train, Y_train)\n",
        "\n",
        "predicted = regr.predict(X_test)\n",
        "df2 = pd.DataFrame({'Actual': Y_test, 'Predicted': predicted})\n",
        "df2.describe()"
      ],
      "execution_count": null,
      "outputs": [
        {
          "output_type": "execute_result",
          "data": {
            "text/html": [
              "<div>\n",
              "<style scoped>\n",
              "    .dataframe tbody tr th:only-of-type {\n",
              "        vertical-align: middle;\n",
              "    }\n",
              "\n",
              "    .dataframe tbody tr th {\n",
              "        vertical-align: top;\n",
              "    }\n",
              "\n",
              "    .dataframe thead th {\n",
              "        text-align: right;\n",
              "    }\n",
              "</style>\n",
              "<table border=\"1\" class=\"dataframe\">\n",
              "  <thead>\n",
              "    <tr style=\"text-align: right;\">\n",
              "      <th></th>\n",
              "      <th>Actual</th>\n",
              "      <th>Predicted</th>\n",
              "    </tr>\n",
              "  </thead>\n",
              "  <tbody>\n",
              "    <tr>\n",
              "      <th>count</th>\n",
              "      <td>6483.00000</td>\n",
              "      <td>6483.00000</td>\n",
              "    </tr>\n",
              "    <tr>\n",
              "      <th>mean</th>\n",
              "      <td>535252.47509</td>\n",
              "      <td>536658.39564</td>\n",
              "    </tr>\n",
              "    <tr>\n",
              "      <th>std</th>\n",
              "      <td>365550.49030</td>\n",
              "      <td>243990.02818</td>\n",
              "    </tr>\n",
              "    <tr>\n",
              "      <th>min</th>\n",
              "      <td>83000.00000</td>\n",
              "      <td>-50855.08289</td>\n",
              "    </tr>\n",
              "    <tr>\n",
              "      <th>25%</th>\n",
              "      <td>320000.00000</td>\n",
              "      <td>364327.20814</td>\n",
              "    </tr>\n",
              "    <tr>\n",
              "      <th>50%</th>\n",
              "      <td>453500.00000</td>\n",
              "      <td>499593.29458</td>\n",
              "    </tr>\n",
              "    <tr>\n",
              "      <th>75%</th>\n",
              "      <td>641500.00000</td>\n",
              "      <td>666101.21752</td>\n",
              "    </tr>\n",
              "    <tr>\n",
              "      <th>max</th>\n",
              "      <td>7700000.00000</td>\n",
              "      <td>2323874.41290</td>\n",
              "    </tr>\n",
              "  </tbody>\n",
              "</table>\n",
              "</div>"
            ],
            "text/plain": [
              "             Actual     Predicted\n",
              "count    6483.00000    6483.00000\n",
              "mean   535252.47509  536658.39564\n",
              "std    365550.49030  243990.02818\n",
              "min     83000.00000  -50855.08289\n",
              "25%    320000.00000  364327.20814\n",
              "50%    453500.00000  499593.29458\n",
              "75%    641500.00000  666101.21752\n",
              "max   7700000.00000 2323874.41290"
            ]
          },
          "metadata": {
            "tags": []
          },
          "execution_count": 287
        }
      ]
    },
    {
      "cell_type": "code",
      "metadata": {
        "colab": {
          "base_uri": "https://localhost:8080/"
        },
        "id": "NtAtJ9NDa3nO",
        "outputId": "ca76b258-6a85-46f2-f855-7c64227935e4"
      },
      "source": [
        "from sklearn.metrics import r2_score\n",
        "y_pred=elastic.predict(x)\n",
        "score = r2_score(y, y_pred)\n",
        "score"
      ],
      "execution_count": null,
      "outputs": [
        {
          "output_type": "execute_result",
          "data": {
            "text/plain": [
              "0.6249421696773689"
            ]
          },
          "metadata": {
            "tags": []
          },
          "execution_count": 288
        }
      ]
    },
    {
      "cell_type": "markdown",
      "metadata": {
        "id": "TPH19TSuXisN"
      },
      "source": [
        ">* Similar to the other models the ElasticNet has a high RMSE and a r2_score of 0.624 .\n",
        ">* It still performs poorly as it gives the minimum value as a negative."
      ]
    },
    {
      "cell_type": "markdown",
      "metadata": {
        "id": "lDIE9SHWX3Sb"
      },
      "source": [
        "# Conclusion"
      ]
    },
    {
      "cell_type": "markdown",
      "metadata": {
        "id": "nTYvNTb8X51u"
      },
      "source": [
        ">* In conclusion the models do not perform well with the features,\n",
        ">* They have a very high RMSE and ultimately give poor predictions of the target variable.\n",
        ">* Ultimately I would prefer the use of another model, one not implemented here to predict the Price of the houses."
      ]
    }
  ]
}