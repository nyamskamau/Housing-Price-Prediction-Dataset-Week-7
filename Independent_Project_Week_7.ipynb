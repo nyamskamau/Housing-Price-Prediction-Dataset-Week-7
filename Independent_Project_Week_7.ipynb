{
  "nbformat": 4,
  "nbformat_minor": 0,
  "metadata": {
    "colab": {
      "name": "Independent Project Week 7",
      "provenance": [],
      "collapsed_sections": [
        "Q0prAVvz8jnJ",
        "lDIE9SHWX3Sb"
      ],
      "authorship_tag": "ABX9TyNFAR8FCqLbY0VnrWGWttfU",
      "include_colab_link": true
    },
    "kernelspec": {
      "name": "python3",
      "display_name": "Python 3"
    }
  },
  "cells": [
    {
      "cell_type": "markdown",
      "metadata": {
        "id": "view-in-github",
        "colab_type": "text"
      },
      "source": [
        "<a href=\"https://colab.research.google.com/github/nyamskamau/Housing-Price-Prediction-Dataset-Week-7/blob/main/Independent_Project_Week_7.ipynb\" target=\"_parent\"><img src=\"https://colab.research.google.com/assets/colab-badge.svg\" alt=\"Open In Colab\"/></a>"
      ]
    },
    {
      "cell_type": "markdown",
      "metadata": {
        "id": "d4DtZIxvWiwd"
      },
      "source": [
        "# **Independent Project - Week 7** "
      ]
    },
    {
      "cell_type": "markdown",
      "metadata": {
        "id": "nh1TnoAVNDtT"
      },
      "source": [
        "> **1. Defining the Question**\n",
        "* Hass Consulting Company , a real estste company , would like to investigate the factors that affect housing prices using the given information on real estate properties that was collected over some months.\n",
        "* The company would then like to predict the sale price of Houses upon being provided with the predictor variables.\n"
      ]
    },
    {
      "cell_type": "markdown",
      "metadata": {
        "id": "sEAoA9ViN1zv"
      },
      "source": [
        "> **2. Metric for Success**\n",
        "* The metric for success for this analysis for the company  would be to determine the exact features that influence the price of a house and to predict the sale prices.\n",
        "* Ideally as a researcher while building my model, the metric of success will be measured by the Coefficient of Determination.\n",
        "I would like to obtain an r2_score of 0.80 or above while evaluating the performance of my model."
      ]
    },
    {
      "cell_type": "markdown",
      "metadata": {
        "id": "z5-6h_m4N1wh"
      },
      "source": [
        "> **3. Experimental Design Taken**\n",
        "* This first step of this analysis will be loading the dataset , the appropriate libraries and  then taking the necessary steps to clean the data.\n",
        "* Next I will carry out Univariate and Bivariate data analysis while dealing with the outliers found within my dataset,\n",
        "* Finally I will build several models:\n",
        "    * Multiple Linear Regression\n",
        "    * Quantile Regression\n",
        "    * Ridge Regression\n",
        "    * Lasso Regression\n",
        "    * Elastic Net Regression\n",
        "* And evaluate their performance on the dataset at hand and then provide  observations and recommendations on the suitability of each of the tested models on their appropriateness of solving the given problem. "
      ]
    },
    {
      "cell_type": "markdown",
      "metadata": {
        "id": "_YIyvJ-UN1rM"
      },
      "source": [
        "> **4. Exploring the Dataset**\n",
        "* The Dataset given has 20 columns , with the dependent variable being the Price of the house and the other variables being the features.\n",
        "* The descriptions for these columns is provided below."
      ]
    },
    {
      "cell_type": "markdown",
      "metadata": {
        "id": "Sghrds7iOLvE"
      },
      "source": [
        "> **5. The appropriateness of the available data to answer the given question**\n",
        "* Given the objectives of my analysis the Data available is appropriate."
      ]
    },
    {
      "cell_type": "markdown",
      "metadata": {
        "id": "o9-26TQrUpg6"
      },
      "source": [
        "## **1**. **Loading The Data**"
      ]
    },
    {
      "cell_type": "markdown",
      "metadata": {
        "id": "3HSOTcVnUt5c"
      },
      "source": [
        "### **1.1.Loading the Dataset and the Appropriate Libraries**"
      ]
    },
    {
      "cell_type": "markdown",
      "metadata": {
        "id": "0CEWE8yMU3yW"
      },
      "source": [
        "> * The first step I undertook in this analysis was loading the dataset onto my notebook and importing the libraries.\n",
        "* Next I previewed the dataset and obtained information on the datatypes of the columns given and gave a detailed description of all the columns given in the dataset.\n"
      ]
    },
    {
      "cell_type": "code",
      "metadata": {
        "id": "60tc2mEewA0N"
      },
      "source": [
        "import pandas as pd\n",
        "import numpy as np\n",
        "import matplotlib.pyplot as plt\n",
        "import seaborn as sns\n",
        "from sklearn.linear_model import LinearRegression\n",
        "from sklearn.metrics import mean_squared_error\n",
        "from sklearn.preprocessing import StandardScaler\n",
        "from sklearn.model_selection import train_test_split\n",
        "from sklearn.linear_model import Ridge\n",
        "from sklearn.linear_model import ElasticNet\n",
        "from sklearn.linear_model import Lasso\n",
        "from sklearn import linear_model\n",
        "from sklearn.model_selection import GridSearchCV\n",
        "from sklearn import metrics\n"
      ],
      "execution_count": 535,
      "outputs": []
    },
    {
      "cell_type": "code",
      "metadata": {
        "id": "IrHNzK88MZGj"
      },
      "source": [
        "df = pd.read_csv('Housedata.csv')"
      ],
      "execution_count": 536,
      "outputs": []
    },
    {
      "cell_type": "code",
      "metadata": {
        "colab": {
          "base_uri": "https://localhost:8080/"
        },
        "id": "7nFt4S_gXJt5",
        "outputId": "6e3a8494-07f2-4d82-8424-fa68a808d589"
      },
      "source": [
        "df.shape"
      ],
      "execution_count": 537,
      "outputs": [
        {
          "output_type": "execute_result",
          "data": {
            "text/plain": [
              "(21613, 20)"
            ]
          },
          "metadata": {
            "tags": []
          },
          "execution_count": 537
        }
      ]
    },
    {
      "cell_type": "code",
      "metadata": {
        "colab": {
          "base_uri": "https://localhost:8080/"
        },
        "id": "82pd_89VOrzR",
        "outputId": "7e36e9d4-46ac-4c63-df74-cca87d0d14c8"
      },
      "source": [
        "df.info()"
      ],
      "execution_count": 538,
      "outputs": [
        {
          "output_type": "stream",
          "text": [
            "<class 'pandas.core.frame.DataFrame'>\n",
            "RangeIndex: 21613 entries, 0 to 21612\n",
            "Data columns (total 20 columns):\n",
            " #   Column         Non-Null Count  Dtype  \n",
            "---  ------         --------------  -----  \n",
            " 0   id             21613 non-null  int64  \n",
            " 1   price          21613 non-null  float64\n",
            " 2   bedrooms       21613 non-null  int64  \n",
            " 3   bathrooms      21613 non-null  float64\n",
            " 4   sqft_living    21613 non-null  int64  \n",
            " 5   sqft_lot       21613 non-null  int64  \n",
            " 6   floors         21613 non-null  float64\n",
            " 7   waterfront     21613 non-null  int64  \n",
            " 8   view           21613 non-null  int64  \n",
            " 9   condition      21613 non-null  int64  \n",
            " 10  grade          21613 non-null  int64  \n",
            " 11  sqft_above     21613 non-null  int64  \n",
            " 12  sqft_basement  21613 non-null  int64  \n",
            " 13  yr_built       21613 non-null  int64  \n",
            " 14  yr_renovated   21613 non-null  int64  \n",
            " 15  zipcode        21613 non-null  int64  \n",
            " 16  lat            21613 non-null  float64\n",
            " 17  long           21613 non-null  float64\n",
            " 18  sqft_living15  21613 non-null  int64  \n",
            " 19  sqft_lot15     21613 non-null  int64  \n",
            "dtypes: float64(5), int64(15)\n",
            "memory usage: 3.3 MB\n"
          ],
          "name": "stdout"
        }
      ]
    },
    {
      "cell_type": "code",
      "metadata": {
        "colab": {
          "base_uri": "https://localhost:8080/",
          "height": 215
        },
        "id": "PShJWxpKmO5d",
        "outputId": "9076c657-dc3d-4029-c7e0-ed4bb37a09fa"
      },
      "source": [
        "df.head()"
      ],
      "execution_count": 539,
      "outputs": [
        {
          "output_type": "execute_result",
          "data": {
            "text/html": [
              "<div>\n",
              "<style scoped>\n",
              "    .dataframe tbody tr th:only-of-type {\n",
              "        vertical-align: middle;\n",
              "    }\n",
              "\n",
              "    .dataframe tbody tr th {\n",
              "        vertical-align: top;\n",
              "    }\n",
              "\n",
              "    .dataframe thead th {\n",
              "        text-align: right;\n",
              "    }\n",
              "</style>\n",
              "<table border=\"1\" class=\"dataframe\">\n",
              "  <thead>\n",
              "    <tr style=\"text-align: right;\">\n",
              "      <th></th>\n",
              "      <th>id</th>\n",
              "      <th>price</th>\n",
              "      <th>bedrooms</th>\n",
              "      <th>bathrooms</th>\n",
              "      <th>sqft_living</th>\n",
              "      <th>sqft_lot</th>\n",
              "      <th>floors</th>\n",
              "      <th>waterfront</th>\n",
              "      <th>view</th>\n",
              "      <th>condition</th>\n",
              "      <th>grade</th>\n",
              "      <th>sqft_above</th>\n",
              "      <th>sqft_basement</th>\n",
              "      <th>yr_built</th>\n",
              "      <th>yr_renovated</th>\n",
              "      <th>zipcode</th>\n",
              "      <th>lat</th>\n",
              "      <th>long</th>\n",
              "      <th>sqft_living15</th>\n",
              "      <th>sqft_lot15</th>\n",
              "    </tr>\n",
              "  </thead>\n",
              "  <tbody>\n",
              "    <tr>\n",
              "      <th>0</th>\n",
              "      <td>7129300520</td>\n",
              "      <td>221900.00000</td>\n",
              "      <td>3</td>\n",
              "      <td>1.00000</td>\n",
              "      <td>1180</td>\n",
              "      <td>5650</td>\n",
              "      <td>1.00000</td>\n",
              "      <td>0</td>\n",
              "      <td>0</td>\n",
              "      <td>3</td>\n",
              "      <td>7</td>\n",
              "      <td>1180</td>\n",
              "      <td>0</td>\n",
              "      <td>1955</td>\n",
              "      <td>0</td>\n",
              "      <td>98178</td>\n",
              "      <td>47.51120</td>\n",
              "      <td>-122.25700</td>\n",
              "      <td>1340</td>\n",
              "      <td>5650</td>\n",
              "    </tr>\n",
              "    <tr>\n",
              "      <th>1</th>\n",
              "      <td>6414100192</td>\n",
              "      <td>538000.00000</td>\n",
              "      <td>3</td>\n",
              "      <td>2.25000</td>\n",
              "      <td>2570</td>\n",
              "      <td>7242</td>\n",
              "      <td>2.00000</td>\n",
              "      <td>0</td>\n",
              "      <td>0</td>\n",
              "      <td>3</td>\n",
              "      <td>7</td>\n",
              "      <td>2170</td>\n",
              "      <td>400</td>\n",
              "      <td>1951</td>\n",
              "      <td>1991</td>\n",
              "      <td>98125</td>\n",
              "      <td>47.72100</td>\n",
              "      <td>-122.31900</td>\n",
              "      <td>1690</td>\n",
              "      <td>7639</td>\n",
              "    </tr>\n",
              "    <tr>\n",
              "      <th>2</th>\n",
              "      <td>5631500400</td>\n",
              "      <td>180000.00000</td>\n",
              "      <td>2</td>\n",
              "      <td>1.00000</td>\n",
              "      <td>770</td>\n",
              "      <td>10000</td>\n",
              "      <td>1.00000</td>\n",
              "      <td>0</td>\n",
              "      <td>0</td>\n",
              "      <td>3</td>\n",
              "      <td>6</td>\n",
              "      <td>770</td>\n",
              "      <td>0</td>\n",
              "      <td>1933</td>\n",
              "      <td>0</td>\n",
              "      <td>98028</td>\n",
              "      <td>47.73790</td>\n",
              "      <td>-122.23300</td>\n",
              "      <td>2720</td>\n",
              "      <td>8062</td>\n",
              "    </tr>\n",
              "    <tr>\n",
              "      <th>3</th>\n",
              "      <td>2487200875</td>\n",
              "      <td>604000.00000</td>\n",
              "      <td>4</td>\n",
              "      <td>3.00000</td>\n",
              "      <td>1960</td>\n",
              "      <td>5000</td>\n",
              "      <td>1.00000</td>\n",
              "      <td>0</td>\n",
              "      <td>0</td>\n",
              "      <td>5</td>\n",
              "      <td>7</td>\n",
              "      <td>1050</td>\n",
              "      <td>910</td>\n",
              "      <td>1965</td>\n",
              "      <td>0</td>\n",
              "      <td>98136</td>\n",
              "      <td>47.52080</td>\n",
              "      <td>-122.39300</td>\n",
              "      <td>1360</td>\n",
              "      <td>5000</td>\n",
              "    </tr>\n",
              "    <tr>\n",
              "      <th>4</th>\n",
              "      <td>1954400510</td>\n",
              "      <td>510000.00000</td>\n",
              "      <td>3</td>\n",
              "      <td>2.00000</td>\n",
              "      <td>1680</td>\n",
              "      <td>8080</td>\n",
              "      <td>1.00000</td>\n",
              "      <td>0</td>\n",
              "      <td>0</td>\n",
              "      <td>3</td>\n",
              "      <td>8</td>\n",
              "      <td>1680</td>\n",
              "      <td>0</td>\n",
              "      <td>1987</td>\n",
              "      <td>0</td>\n",
              "      <td>98074</td>\n",
              "      <td>47.61680</td>\n",
              "      <td>-122.04500</td>\n",
              "      <td>1800</td>\n",
              "      <td>7503</td>\n",
              "    </tr>\n",
              "  </tbody>\n",
              "</table>\n",
              "</div>"
            ],
            "text/plain": [
              "           id        price  bedrooms  ...       long  sqft_living15  sqft_lot15\n",
              "0  7129300520 221900.00000         3  ... -122.25700           1340        5650\n",
              "1  6414100192 538000.00000         3  ... -122.31900           1690        7639\n",
              "2  5631500400 180000.00000         2  ... -122.23300           2720        8062\n",
              "3  2487200875 604000.00000         4  ... -122.39300           1360        5000\n",
              "4  1954400510 510000.00000         3  ... -122.04500           1800        7503\n",
              "\n",
              "[5 rows x 20 columns]"
            ]
          },
          "metadata": {
            "tags": []
          },
          "execution_count": 539
        }
      ]
    },
    {
      "cell_type": "code",
      "metadata": {
        "colab": {
          "base_uri": "https://localhost:8080/",
          "height": 215
        },
        "id": "22KoFftgmRiF",
        "outputId": "80a2a731-a52e-48b8-e7fa-4ad8286c400b"
      },
      "source": [
        "df.tail()"
      ],
      "execution_count": 540,
      "outputs": [
        {
          "output_type": "execute_result",
          "data": {
            "text/html": [
              "<div>\n",
              "<style scoped>\n",
              "    .dataframe tbody tr th:only-of-type {\n",
              "        vertical-align: middle;\n",
              "    }\n",
              "\n",
              "    .dataframe tbody tr th {\n",
              "        vertical-align: top;\n",
              "    }\n",
              "\n",
              "    .dataframe thead th {\n",
              "        text-align: right;\n",
              "    }\n",
              "</style>\n",
              "<table border=\"1\" class=\"dataframe\">\n",
              "  <thead>\n",
              "    <tr style=\"text-align: right;\">\n",
              "      <th></th>\n",
              "      <th>id</th>\n",
              "      <th>price</th>\n",
              "      <th>bedrooms</th>\n",
              "      <th>bathrooms</th>\n",
              "      <th>sqft_living</th>\n",
              "      <th>sqft_lot</th>\n",
              "      <th>floors</th>\n",
              "      <th>waterfront</th>\n",
              "      <th>view</th>\n",
              "      <th>condition</th>\n",
              "      <th>grade</th>\n",
              "      <th>sqft_above</th>\n",
              "      <th>sqft_basement</th>\n",
              "      <th>yr_built</th>\n",
              "      <th>yr_renovated</th>\n",
              "      <th>zipcode</th>\n",
              "      <th>lat</th>\n",
              "      <th>long</th>\n",
              "      <th>sqft_living15</th>\n",
              "      <th>sqft_lot15</th>\n",
              "    </tr>\n",
              "  </thead>\n",
              "  <tbody>\n",
              "    <tr>\n",
              "      <th>21608</th>\n",
              "      <td>263000018</td>\n",
              "      <td>360000.00000</td>\n",
              "      <td>3</td>\n",
              "      <td>2.50000</td>\n",
              "      <td>1530</td>\n",
              "      <td>1131</td>\n",
              "      <td>3.00000</td>\n",
              "      <td>0</td>\n",
              "      <td>0</td>\n",
              "      <td>3</td>\n",
              "      <td>8</td>\n",
              "      <td>1530</td>\n",
              "      <td>0</td>\n",
              "      <td>2009</td>\n",
              "      <td>0</td>\n",
              "      <td>98103</td>\n",
              "      <td>47.69930</td>\n",
              "      <td>-122.34600</td>\n",
              "      <td>1530</td>\n",
              "      <td>1509</td>\n",
              "    </tr>\n",
              "    <tr>\n",
              "      <th>21609</th>\n",
              "      <td>6600060120</td>\n",
              "      <td>400000.00000</td>\n",
              "      <td>4</td>\n",
              "      <td>2.50000</td>\n",
              "      <td>2310</td>\n",
              "      <td>5813</td>\n",
              "      <td>2.00000</td>\n",
              "      <td>0</td>\n",
              "      <td>0</td>\n",
              "      <td>3</td>\n",
              "      <td>8</td>\n",
              "      <td>2310</td>\n",
              "      <td>0</td>\n",
              "      <td>2014</td>\n",
              "      <td>0</td>\n",
              "      <td>98146</td>\n",
              "      <td>47.51070</td>\n",
              "      <td>-122.36200</td>\n",
              "      <td>1830</td>\n",
              "      <td>7200</td>\n",
              "    </tr>\n",
              "    <tr>\n",
              "      <th>21610</th>\n",
              "      <td>1523300141</td>\n",
              "      <td>402101.00000</td>\n",
              "      <td>2</td>\n",
              "      <td>0.75000</td>\n",
              "      <td>1020</td>\n",
              "      <td>1350</td>\n",
              "      <td>2.00000</td>\n",
              "      <td>0</td>\n",
              "      <td>0</td>\n",
              "      <td>3</td>\n",
              "      <td>7</td>\n",
              "      <td>1020</td>\n",
              "      <td>0</td>\n",
              "      <td>2009</td>\n",
              "      <td>0</td>\n",
              "      <td>98144</td>\n",
              "      <td>47.59440</td>\n",
              "      <td>-122.29900</td>\n",
              "      <td>1020</td>\n",
              "      <td>2007</td>\n",
              "    </tr>\n",
              "    <tr>\n",
              "      <th>21611</th>\n",
              "      <td>291310100</td>\n",
              "      <td>400000.00000</td>\n",
              "      <td>3</td>\n",
              "      <td>2.50000</td>\n",
              "      <td>1600</td>\n",
              "      <td>2388</td>\n",
              "      <td>2.00000</td>\n",
              "      <td>0</td>\n",
              "      <td>0</td>\n",
              "      <td>3</td>\n",
              "      <td>8</td>\n",
              "      <td>1600</td>\n",
              "      <td>0</td>\n",
              "      <td>2004</td>\n",
              "      <td>0</td>\n",
              "      <td>98027</td>\n",
              "      <td>47.53450</td>\n",
              "      <td>-122.06900</td>\n",
              "      <td>1410</td>\n",
              "      <td>1287</td>\n",
              "    </tr>\n",
              "    <tr>\n",
              "      <th>21612</th>\n",
              "      <td>1523300157</td>\n",
              "      <td>325000.00000</td>\n",
              "      <td>2</td>\n",
              "      <td>0.75000</td>\n",
              "      <td>1020</td>\n",
              "      <td>1076</td>\n",
              "      <td>2.00000</td>\n",
              "      <td>0</td>\n",
              "      <td>0</td>\n",
              "      <td>3</td>\n",
              "      <td>7</td>\n",
              "      <td>1020</td>\n",
              "      <td>0</td>\n",
              "      <td>2008</td>\n",
              "      <td>0</td>\n",
              "      <td>98144</td>\n",
              "      <td>47.59410</td>\n",
              "      <td>-122.29900</td>\n",
              "      <td>1020</td>\n",
              "      <td>1357</td>\n",
              "    </tr>\n",
              "  </tbody>\n",
              "</table>\n",
              "</div>"
            ],
            "text/plain": [
              "               id        price  bedrooms  ...       long  sqft_living15  sqft_lot15\n",
              "21608   263000018 360000.00000         3  ... -122.34600           1530        1509\n",
              "21609  6600060120 400000.00000         4  ... -122.36200           1830        7200\n",
              "21610  1523300141 402101.00000         2  ... -122.29900           1020        2007\n",
              "21611   291310100 400000.00000         3  ... -122.06900           1410        1287\n",
              "21612  1523300157 325000.00000         2  ... -122.29900           1020        1357\n",
              "\n",
              "[5 rows x 20 columns]"
            ]
          },
          "metadata": {
            "tags": []
          },
          "execution_count": 540
        }
      ]
    },
    {
      "cell_type": "markdown",
      "metadata": {
        "id": "6fVG1mcLOyLR"
      },
      "source": [
        "The description for the 20 features is given below:\n",
        "\n",
        "1. id :- It is the unique numeric number assigned to each house being sold.\n",
        "2. date :- It is the date on which the house was sold out.\n",
        "3. price:- It is the price of house which we have to predict so this is our target variable and aprat from it are our features.\n",
        "4. bedrooms :- It determines number of bedrooms in a house.\n",
        "5. bathrooms :- It determines number of bathrooms in a bedroom of a house.\n",
        "6. sqft_living :- It is the measurement variable which determines the measurement of house in square foot.\n",
        "7. sqft_lot : It is also the measurement variable which determines square foot of the lot.\n",
        "8. floors: It determines total floors means levels of house.\n",
        "9. waterfront : This feature determines whether a house has a view to waterfront 0 means no 1 means yes.\n",
        "10. view : This feature determines whether a house has been viewed or not 0 means no 1 means yes.\n",
        "11. condition : It determines the overall condition of a house on a scale of 1 to 5.\n",
        "12. grade : It determines the overall grade given to the housing unit, based on King County grading system on a scale of 1 to 11.\n",
        "13. sqft_above : It determines square footage of house apart from basement.\n",
        "14. sqft_basement : It determines square footage of the basement of the house.\n",
        "15. yr_built : It detrmines the date of building of the house.\n",
        "16. yr_renovated : It detrmines year of renovation of house.\n",
        "17. zipcode : It determines the zipcode of the location of the house.\n",
        "18. lat : It determines the latitude of the location of the house.\n",
        "19. long : It determines the longitude of the location of the house.\n",
        "20. sqft_living15 : Living room area in 2015(implies-- some renovations)\n",
        "21. sqft_lot15 : lotSize area in 2015(implies-- some renovations)"
      ]
    },
    {
      "cell_type": "markdown",
      "metadata": {
        "id": "qq-dBzXJV9es"
      },
      "source": [
        "### **1.2.Data Cleaning**"
      ]
    },
    {
      "cell_type": "markdown",
      "metadata": {
        "id": "hVnDr24UWGej"
      },
      "source": [
        "The next step I undertook was cleaning the dataset and checking the appropriateness of the columns given in the analysis."
      ]
    },
    {
      "cell_type": "markdown",
      "metadata": {
        "id": "PiDDyREeF-oU"
      },
      "source": [
        "#### 1.2.1.Validity\n",
        "\n",
        ">* I checked for the relevance of the columns given in the dataset in my analysis.\n",
        ">* Majority of the houses had not been renovated and hence this column was also dropped."
      ]
    },
    {
      "cell_type": "code",
      "metadata": {
        "colab": {
          "base_uri": "https://localhost:8080/"
        },
        "id": "3g4080HBG5A2",
        "outputId": "a82fbe98-cfce-486f-dae0-e12adada2d30"
      },
      "source": [
        "df.waterfront.value_counts()"
      ],
      "execution_count": 541,
      "outputs": [
        {
          "output_type": "execute_result",
          "data": {
            "text/plain": [
              "0    21450\n",
              "1      163\n",
              "Name: waterfront, dtype: int64"
            ]
          },
          "metadata": {
            "tags": []
          },
          "execution_count": 541
        }
      ]
    },
    {
      "cell_type": "code",
      "metadata": {
        "colab": {
          "base_uri": "https://localhost:8080/"
        },
        "id": "ImDR1hzQH3f0",
        "outputId": "4f800b7c-eefc-4e90-bcd0-71317b21843d"
      },
      "source": [
        "df.yr_renovated.value_counts()"
      ],
      "execution_count": 542,
      "outputs": [
        {
          "output_type": "execute_result",
          "data": {
            "text/plain": [
              "0       20699\n",
              "2014       91\n",
              "2013       37\n",
              "2003       36\n",
              "2000       35\n",
              "        ...  \n",
              "1934        1\n",
              "1959        1\n",
              "1951        1\n",
              "1948        1\n",
              "1944        1\n",
              "Name: yr_renovated, Length: 70, dtype: int64"
            ]
          },
          "metadata": {
            "tags": []
          },
          "execution_count": 542
        }
      ]
    },
    {
      "cell_type": "code",
      "metadata": {
        "id": "MBZC0vaRGeFX"
      },
      "source": [
        "df.drop(['id','yr_renovated','waterfront'],axis=1,inplace=True)"
      ],
      "execution_count": 543,
      "outputs": []
    },
    {
      "cell_type": "markdown",
      "metadata": {
        "id": "tcp7O09xITtT"
      },
      "source": [
        "####1.2.2.Accuracy\n",
        "\n",
        ">* Checking that the data in the columns was correct.\n",
        ">* In the bedrooms column some entries were recorded as having zero bedrooms.\n",
        " "
      ]
    },
    {
      "cell_type": "code",
      "metadata": {
        "colab": {
          "base_uri": "https://localhost:8080/"
        },
        "id": "Ic_23_pZIvRI",
        "outputId": "c96e74d2-f165-4b1c-94b7-ab416c5f5fdf"
      },
      "source": [
        "df.bedrooms.value_counts()"
      ],
      "execution_count": 544,
      "outputs": [
        {
          "output_type": "execute_result",
          "data": {
            "text/plain": [
              "3     9824\n",
              "4     6882\n",
              "2     2760\n",
              "5     1601\n",
              "6      272\n",
              "1      199\n",
              "7       38\n",
              "8       13\n",
              "0       13\n",
              "9        6\n",
              "10       3\n",
              "11       1\n",
              "33       1\n",
              "Name: bedrooms, dtype: int64"
            ]
          },
          "metadata": {
            "tags": []
          },
          "execution_count": 544
        }
      ]
    },
    {
      "cell_type": "code",
      "metadata": {
        "colab": {
          "base_uri": "https://localhost:8080/"
        },
        "id": "aU9KeWNFJV85",
        "outputId": "38cb38dc-ecf9-460a-d4bf-0fcbfb3d4ad1"
      },
      "source": [
        "df.bathrooms.value_counts()"
      ],
      "execution_count": 545,
      "outputs": [
        {
          "output_type": "execute_result",
          "data": {
            "text/plain": [
              "2.50000    5380\n",
              "1.00000    3852\n",
              "1.75000    3048\n",
              "2.25000    2047\n",
              "2.00000    1930\n",
              "1.50000    1446\n",
              "2.75000    1185\n",
              "3.00000     753\n",
              "3.50000     731\n",
              "3.25000     589\n",
              "3.75000     155\n",
              "4.00000     136\n",
              "4.50000     100\n",
              "4.25000      79\n",
              "0.75000      72\n",
              "4.75000      23\n",
              "5.00000      21\n",
              "5.25000      13\n",
              "0.00000      10\n",
              "5.50000      10\n",
              "1.25000       9\n",
              "6.00000       6\n",
              "0.50000       4\n",
              "5.75000       4\n",
              "8.00000       2\n",
              "6.25000       2\n",
              "6.50000       2\n",
              "6.75000       2\n",
              "7.50000       1\n",
              "7.75000       1\n",
              "Name: bathrooms, dtype: int64"
            ]
          },
          "metadata": {
            "tags": []
          },
          "execution_count": 545
        }
      ]
    },
    {
      "cell_type": "markdown",
      "metadata": {
        "id": "CMaMyh4LKzGq"
      },
      "source": [
        "#### 1.2.3.Completeness\n",
        ">* I then checked whether there were any missing values in the Dataset."
      ]
    },
    {
      "cell_type": "code",
      "metadata": {
        "colab": {
          "base_uri": "https://localhost:8080/"
        },
        "id": "EetvdshkXICn",
        "outputId": "f9f2d1d7-31d1-42e0-964c-579f986aaa62"
      },
      "source": [
        "df.isnull().sum().sum()"
      ],
      "execution_count": 546,
      "outputs": [
        {
          "output_type": "execute_result",
          "data": {
            "text/plain": [
              "0"
            ]
          },
          "metadata": {
            "tags": []
          },
          "execution_count": 546
        }
      ]
    },
    {
      "cell_type": "markdown",
      "metadata": {
        "id": "_Yi_5ClrLeAG"
      },
      "source": [
        "#### 1.2.4.Consistency\n",
        ">* I checked for duplicated entries in the dataset.\n",
        "Seeing as there were three I opted to dropped these from the dataset."
      ]
    },
    {
      "cell_type": "code",
      "metadata": {
        "colab": {
          "base_uri": "https://localhost:8080/"
        },
        "id": "vU78GNsnXC0i",
        "outputId": "ab462e73-f774-41bb-a747-69717e86f3bf"
      },
      "source": [
        "df.duplicated().sum()"
      ],
      "execution_count": 547,
      "outputs": [
        {
          "output_type": "execute_result",
          "data": {
            "text/plain": [
              "5"
            ]
          },
          "metadata": {
            "tags": []
          },
          "execution_count": 547
        }
      ]
    },
    {
      "cell_type": "code",
      "metadata": {
        "id": "UUiIp4ZfXTK3"
      },
      "source": [
        "df.drop_duplicates(inplace=True)"
      ],
      "execution_count": 548,
      "outputs": []
    },
    {
      "cell_type": "code",
      "metadata": {
        "colab": {
          "base_uri": "https://localhost:8080/"
        },
        "id": "KdmyXTcSXYrR",
        "outputId": "05d18f49-cb5c-484d-e2c9-0a3c2924af21"
      },
      "source": [
        "df.duplicated().sum()"
      ],
      "execution_count": 549,
      "outputs": [
        {
          "output_type": "execute_result",
          "data": {
            "text/plain": [
              "0"
            ]
          },
          "metadata": {
            "tags": []
          },
          "execution_count": 549
        }
      ]
    },
    {
      "cell_type": "markdown",
      "metadata": {
        "id": "lHopaAVaL-jr"
      },
      "source": [
        "#### 1.2.5.Uniformity.\n",
        "\n",
        ">* Seeing as the columns were all named correctly , and of the right data type I proceeded to carry out EDA."
      ]
    },
    {
      "cell_type": "markdown",
      "metadata": {
        "id": "ToabIMgGZIGi"
      },
      "source": [
        "## **2.Exploratory Data Analysis**"
      ]
    },
    {
      "cell_type": "markdown",
      "metadata": {
        "id": "zrxziPTFMbjz"
      },
      "source": [
        "###2.1.Univariate Analysis."
      ]
    },
    {
      "cell_type": "markdown",
      "metadata": {
        "id": "HucfMIL6NPW8"
      },
      "source": [
        "> The Price Variable"
      ]
    },
    {
      "cell_type": "code",
      "metadata": {
        "id": "mNzkPsIec2bK"
      },
      "source": [
        "pd.options.display.float_format = '{:.5f}'.format"
      ],
      "execution_count": 550,
      "outputs": []
    },
    {
      "cell_type": "markdown",
      "metadata": {
        "id": "ZrfsI3zHRNfe"
      },
      "source": [
        ">* Obtaining the mean, mode ,median and range for the column"
      ]
    },
    {
      "cell_type": "code",
      "metadata": {
        "colab": {
          "base_uri": "https://localhost:8080/"
        },
        "id": "gEUFWNFCf0wN",
        "outputId": "7ce00f7b-1f0e-4bf4-87df-171ab1c54aa3"
      },
      "source": [
        "df['price'].describe()"
      ],
      "execution_count": 551,
      "outputs": [
        {
          "output_type": "execute_result",
          "data": {
            "text/plain": [
              "count     21608.00000\n",
              "mean     540192.40781\n",
              "std      367399.63434\n",
              "min       75000.00000\n",
              "25%      321837.50000\n",
              "50%      450000.00000\n",
              "75%      645000.00000\n",
              "max     7700000.00000\n",
              "Name: price, dtype: float64"
            ]
          },
          "metadata": {
            "tags": []
          },
          "execution_count": 551
        }
      ]
    },
    {
      "cell_type": "code",
      "metadata": {
        "colab": {
          "base_uri": "https://localhost:8080/"
        },
        "id": "NfqdJiwQP666",
        "outputId": "d65e6ac6-ec2b-4a62-ccab-65fb2a9fc3c1"
      },
      "source": [
        "a=df['price'].max()\n",
        "b=df['price'].min()\n",
        "range = a-b\n",
        "range"
      ],
      "execution_count": 552,
      "outputs": [
        {
          "output_type": "execute_result",
          "data": {
            "text/plain": [
              "7625000.0"
            ]
          },
          "metadata": {
            "tags": []
          },
          "execution_count": 552
        }
      ]
    },
    {
      "cell_type": "markdown",
      "metadata": {
        "id": "0OfV6T2KREYy"
      },
      "source": [
        ">* Plotting a boxplot and histogram for the column "
      ]
    },
    {
      "cell_type": "code",
      "metadata": {
        "colab": {
          "base_uri": "https://localhost:8080/",
          "height": 0
        },
        "id": "UEyIAveMgTxj",
        "outputId": "9b5ff317-2bad-4d37-8974-1d92f9dbaa7b"
      },
      "source": [
        "df1 =df['price']\n",
        "plt.hist(df1, bins=30, histtype='bar', rwidth=2)\n",
        "\n",
        "plt.xlabel('Price')\n",
        "plt.ylabel('Number')\n",
        "plt.title('Histogram showing Price of Houses') \n",
        "plt.show()\n"
      ],
      "execution_count": 553,
      "outputs": [
        {
          "output_type": "display_data",
          "data": {
            "image/png": "[encoded data removed]",
            "text/plain": [
              "<Figure size 432x288 with 1 Axes>"
            ]
          },
          "metadata": {
            "tags": [],
            "needs_background": "light"
          }
        }
      ]
    },
    {
      "cell_type": "code",
      "metadata": {
        "colab": {
          "base_uri": "https://localhost:8080/",
          "height": 0
        },
        "id": "S5AwaDGelYEv",
        "outputId": "d837643c-c84c-40f8-e6eb-2ef1e46e7016"
      },
      "source": [
        "plt.scatter(df.price,df.index)"
      ],
      "execution_count": 554,
      "outputs": [
        {
          "output_type": "execute_result",
          "data": {
            "text/plain": [
              "<matplotlib.collections.PathCollection at 0x7f02f037cc88>"
            ]
          },
          "metadata": {
            "tags": []
          },
          "execution_count": 554
        },
        {
          "output_type": "display_data",
          "data": {
            "image/png": "[encoded data removed]",
            "text/plain": [
              "<Figure size 432x288 with 1 Axes>"
            ]
          },
          "metadata": {
            "tags": [],
            "needs_background": "light"
          }
        }
      ]
    },
    {
      "cell_type": "code",
      "metadata": {
        "colab": {
          "base_uri": "https://localhost:8080/",
          "height": 0
        },
        "id": "BiuD2mg5QU1G",
        "outputId": "989d6d35-dcb3-43db-dd88-0d2e19ad79bf"
      },
      "source": [
        "df.boxplot('price')"
      ],
      "execution_count": 555,
      "outputs": [
        {
          "output_type": "execute_result",
          "data": {
            "text/plain": [
              "<matplotlib.axes._subplots.AxesSubplot at 0x7f02f0306240>"
            ]
          },
          "metadata": {
            "tags": []
          },
          "execution_count": 555
        },
        {
          "output_type": "display_data",
          "data": {
            "image/png": "[encoded data removed]",
            "text/plain": [
              "<Figure size 432x288 with 1 Axes>"
            ]
          },
          "metadata": {
            "tags": [],
            "needs_background": "light"
          }
        }
      ]
    },
    {
      "cell_type": "markdown",
      "metadata": {
        "id": "fCfkYFk3Q_Q5"
      },
      "source": [
        ">* Checking for outliers in the column."
      ]
    },
    {
      "cell_type": "code",
      "metadata": {
        "colab": {
          "base_uri": "https://localhost:8080/"
        },
        "id": "hqq3yZI9-lIi",
        "outputId": "0ce6d6af-1a4c-4e88-93c0-05e8fe5fa9f9"
      },
      "source": [
        "Q1 = df[['price']].quantile(0.25)\n",
        "Q3 = df[['price']].quantile(0.75)\n",
        "IQR = Q3 - Q1\n",
        "((df[['price']]<(Q1 - 1.5*IQR))|(df[['price']]>(Q3 + 1.5 *IQR))).value_counts()"
      ],
      "execution_count": 556,
      "outputs": [
        {
          "output_type": "execute_result",
          "data": {
            "text/plain": [
              "price\n",
              "False    20449\n",
              "True      1159\n",
              "dtype: int64"
            ]
          },
          "metadata": {
            "tags": []
          },
          "execution_count": 556
        }
      ]
    },
    {
      "cell_type": "markdown",
      "metadata": {
        "id": "fkDAvO-DNz5u"
      },
      "source": [
        ">* The mean price of the houses was  540,82 while the minimum price 75,000 and the maximum price was 7,700,000.\n",
        ">* The range of the variable is 7,625,000 which is very high.\n",
        ">* The column also had a number of outliers which I opted not to drop here, given that they would be used in Building the models."
      ]
    },
    {
      "cell_type": "markdown",
      "metadata": {
        "id": "xHDD6W58SZO2"
      },
      "source": [
        "Grade Variable."
      ]
    },
    {
      "cell_type": "code",
      "metadata": {
        "colab": {
          "base_uri": "https://localhost:8080/"
        },
        "id": "_sqHMJVRjx3l",
        "outputId": "646ae26e-f87e-481e-abf7-759df08d1942"
      },
      "source": [
        "df.grade.describe()"
      ],
      "execution_count": 557,
      "outputs": [
        {
          "output_type": "execute_result",
          "data": {
            "text/plain": [
              "count   21608.00000\n",
              "mean        7.65665\n",
              "std         1.17548\n",
              "min         1.00000\n",
              "25%         7.00000\n",
              "50%         7.00000\n",
              "75%         8.00000\n",
              "max        13.00000\n",
              "Name: grade, dtype: float64"
            ]
          },
          "metadata": {
            "tags": []
          },
          "execution_count": 557
        }
      ]
    },
    {
      "cell_type": "code",
      "metadata": {
        "colab": {
          "base_uri": "https://localhost:8080/",
          "height": 0
        },
        "id": "o-BNq2ImStMp",
        "outputId": "25e6fcbd-38f9-49b9-ebe2-ea41a336cd93"
      },
      "source": [
        "labels=df.grade.unique()\n",
        "plt.bar(labels , df['grade'].value_counts())\n",
        "plt.ylabel(\"Number\")\n",
        "plt.xlabel(\"Grade\")\n",
        "plt.title(\"Graph showing the Number of Houses per Grade\")\n",
        "plt.show()"
      ],
      "execution_count": 558,
      "outputs": [
        {
          "output_type": "display_data",
          "data": {
            "image/png": "[encoded data removed]",
            "text/plain": [
              "<Figure size 432x288 with 1 Axes>"
            ]
          },
          "metadata": {
            "tags": [],
            "needs_background": "light"
          }
        }
      ]
    },
    {
      "cell_type": "markdown",
      "metadata": {
        "id": "1k55ZAO9Tbhz"
      },
      "source": [
        ">* Majority of the Houses were given a grade of 7 whereas these grades ranged from 1-13."
      ]
    },
    {
      "cell_type": "markdown",
      "metadata": {
        "id": "3aRe3FjdT-eB"
      },
      "source": [
        "View Variable"
      ]
    },
    {
      "cell_type": "code",
      "metadata": {
        "colab": {
          "base_uri": "https://localhost:8080/"
        },
        "id": "jmnC3OQhUDFE",
        "outputId": "f4080b5a-cf17-4a80-a692-be0c05b535b3"
      },
      "source": [
        "df.view.describe()"
      ],
      "execution_count": 559,
      "outputs": [
        {
          "output_type": "execute_result",
          "data": {
            "text/plain": [
              "count   21608.00000\n",
              "mean        0.23422\n",
              "std         0.76617\n",
              "min         0.00000\n",
              "25%         0.00000\n",
              "50%         0.00000\n",
              "75%         0.00000\n",
              "max         4.00000\n",
              "Name: view, dtype: float64"
            ]
          },
          "metadata": {
            "tags": []
          },
          "execution_count": 559
        }
      ]
    },
    {
      "cell_type": "code",
      "metadata": {
        "colab": {
          "base_uri": "https://localhost:8080/",
          "height": 0
        },
        "id": "v8WY6MoVUKv0",
        "outputId": "ea3185ee-f5a6-408a-a19f-17a9f870d8a6"
      },
      "source": [
        "labels=df.view.unique()\n",
        "plt.bar(labels , df['view'].value_counts())\n",
        "plt.ylabel(\"Number\")\n",
        "plt.xlabel(\"View\")\n",
        "plt.title(\"Graph showing the Number of View a House has.\")\n",
        "plt.show()"
      ],
      "execution_count": 560,
      "outputs": [
        {
          "output_type": "display_data",
          "data": {
            "image/png": "[encoded data removed]",
            "text/plain": [
              "<Figure size 432x288 with 1 Axes>"
            ]
          },
          "metadata": {
            "tags": [],
            "needs_background": "light"
          }
        }
      ]
    },
    {
      "cell_type": "code",
      "metadata": {
        "colab": {
          "base_uri": "https://localhost:8080/"
        },
        "id": "lTXHSDJPlgMT",
        "outputId": "8bf6b056-7ae8-426d-f2bf-a2a04d483b96"
      },
      "source": [
        "df.view.value_counts()"
      ],
      "execution_count": 561,
      "outputs": [
        {
          "output_type": "execute_result",
          "data": {
            "text/plain": [
              "0    19485\n",
              "2      963\n",
              "3      509\n",
              "1      332\n",
              "4      319\n",
              "Name: view, dtype: int64"
            ]
          },
          "metadata": {
            "tags": []
          },
          "execution_count": 561
        }
      ]
    },
    {
      "cell_type": "code",
      "metadata": {
        "id": "gewaoj5205bi"
      },
      "source": [
        "df.view.replace({2:1,\n",
        "                 3:1,\n",
        "                 4:1},inplace=True)"
      ],
      "execution_count": 562,
      "outputs": []
    },
    {
      "cell_type": "markdown",
      "metadata": {
        "id": "Isr-p513UhGu"
      },
      "source": [
        ">* Majority of the Houses did not have a View "
      ]
    },
    {
      "cell_type": "markdown",
      "metadata": {
        "id": "v-_TnH-bVbNt"
      },
      "source": [
        "The bedrooms variable"
      ]
    },
    {
      "cell_type": "code",
      "metadata": {
        "colab": {
          "base_uri": "https://localhost:8080/"
        },
        "id": "3x4h3C9QArNC",
        "outputId": "748e5f6c-74d2-4b6c-fe02-338c904a001b"
      },
      "source": [
        "df.bedrooms.describe()"
      ],
      "execution_count": 563,
      "outputs": [
        {
          "output_type": "execute_result",
          "data": {
            "text/plain": [
              "count   21608.00000\n",
              "mean        3.37093\n",
              "std         0.93010\n",
              "min         0.00000\n",
              "25%         3.00000\n",
              "50%         3.00000\n",
              "75%         4.00000\n",
              "max        33.00000\n",
              "Name: bedrooms, dtype: float64"
            ]
          },
          "metadata": {
            "tags": []
          },
          "execution_count": 563
        }
      ]
    },
    {
      "cell_type": "code",
      "metadata": {
        "id": "EV24bwjDixhI",
        "colab": {
          "base_uri": "https://localhost:8080/",
          "height": 0
        },
        "outputId": "07979c66-11a0-41ea-9387-223fcc6eced2"
      },
      "source": [
        "fig,axes = plt.subplots(nrows=1,ncols=1, figsize=(10,5))\n",
        "sns.countplot(x=df.bedrooms, order = df['bedrooms'].value_counts().index)"
      ],
      "execution_count": 564,
      "outputs": [
        {
          "output_type": "execute_result",
          "data": {
            "text/plain": [
              "<matplotlib.axes._subplots.AxesSubplot at 0x7f02f01922b0>"
            ]
          },
          "metadata": {
            "tags": []
          },
          "execution_count": 564
        },
        {
          "output_type": "display_data",
          "data": {
            "image/png": "[encoded data removed]",
            "text/plain": [
              "<Figure size 720x360 with 1 Axes>"
            ]
          },
          "metadata": {
            "tags": [],
            "needs_background": "light"
          }
        }
      ]
    },
    {
      "cell_type": "markdown",
      "metadata": {
        "id": "HjKoA_DcWY-s"
      },
      "source": [
        ">* Majority of the Houses had bedrooms ranging between two and five.\n",
        "There was an extreme outlier with one house having 33 bedrooms"
      ]
    },
    {
      "cell_type": "markdown",
      "metadata": {
        "id": "FNggIWLWXNek"
      },
      "source": [
        "The Bathrooms Variable"
      ]
    },
    {
      "cell_type": "code",
      "metadata": {
        "colab": {
          "base_uri": "https://localhost:8080/"
        },
        "id": "CYIC-TWDXRGA",
        "outputId": "3086b810-fb37-401b-8a09-e4efbb38e1e0"
      },
      "source": [
        "df.bathrooms.describe()"
      ],
      "execution_count": 565,
      "outputs": [
        {
          "output_type": "execute_result",
          "data": {
            "text/plain": [
              "count   21608.00000\n",
              "mean        2.11474\n",
              "std         0.77024\n",
              "min         0.00000\n",
              "25%         1.75000\n",
              "50%         2.25000\n",
              "75%         2.50000\n",
              "max         8.00000\n",
              "Name: bathrooms, dtype: float64"
            ]
          },
          "metadata": {
            "tags": []
          },
          "execution_count": 565
        }
      ]
    },
    {
      "cell_type": "code",
      "metadata": {
        "colab": {
          "base_uri": "https://localhost:8080/",
          "height": 0
        },
        "id": "Q03Mj3XEw1eg",
        "outputId": "4450d2cd-7d3f-42c1-cea0-06bd63adae34"
      },
      "source": [
        "fig,axes = plt.subplots(nrows=1,ncols=1, figsize=(12,5))\n",
        "sns.countplot(x=df.bathrooms, order = df['bathrooms'].value_counts().index)"
      ],
      "execution_count": 566,
      "outputs": [
        {
          "output_type": "execute_result",
          "data": {
            "text/plain": [
              "<matplotlib.axes._subplots.AxesSubplot at 0x7f02f00214e0>"
            ]
          },
          "metadata": {
            "tags": []
          },
          "execution_count": 566
        },
        {
          "output_type": "display_data",
          "data": {
            "image/png": "[encoded data removed]",
            "text/plain": [
              "<Figure size 864x360 with 1 Axes>"
            ]
          },
          "metadata": {
            "tags": [],
            "needs_background": "light"
          }
        }
      ]
    },
    {
      "cell_type": "markdown",
      "metadata": {
        "id": "_6DZbsB9v2f8"
      },
      "source": [
        "The sqft living "
      ]
    },
    {
      "cell_type": "code",
      "metadata": {
        "id": "xfr6jDcqjtQv",
        "colab": {
          "base_uri": "https://localhost:8080/",
          "height": 0
        },
        "outputId": "69ebb686-7420-4550-db29-d9736c1dc31c"
      },
      "source": [
        "fig,axes = plt.subplots(nrows=1,ncols=1, figsize=(10,5))\n",
        "sns.distplot(df['sqft_living'], hist=True, kde=True, rug=False, label='sqft_living', norm_hist=True)"
      ],
      "execution_count": 567,
      "outputs": [
        {
          "output_type": "stream",
          "text": [
            "/usr/local/lib/python3.6/dist-packages/seaborn/distributions.py:2551: FutureWarning: `distplot` is a deprecated function and will be removed in a future version. Please adapt your code to use either `displot` (a figure-level function with similar flexibility) or `histplot` (an axes-level function for histograms).\n",
            "  warnings.warn(msg, FutureWarning)\n"
          ],
          "name": "stderr"
        },
        {
          "output_type": "execute_result",
          "data": {
            "text/plain": [
              "<matplotlib.axes._subplots.AxesSubplot at 0x7f02effcaeb8>"
            ]
          },
          "metadata": {
            "tags": []
          },
          "execution_count": 567
        },
        {
          "output_type": "display_data",
          "data": {
            "image/png": "[encoded data removed]",
            "text/plain": [
              "<Figure size 720x360 with 1 Axes>"
            ]
          },
          "metadata": {
            "tags": [],
            "needs_background": "light"
          }
        }
      ]
    },
    {
      "cell_type": "code",
      "metadata": {
        "colab": {
          "base_uri": "https://localhost:8080/",
          "height": 0
        },
        "id": "Z1YO74tXyIJY",
        "outputId": "e9a06534-c823-40b7-836d-3b0c86e8dce1"
      },
      "source": [
        "fig,axes = plt.subplots(nrows=1,ncols=1, figsize=(10,5))\n",
        "sns.distplot(df['sqft_living15'], hist=True, kde=True, rug=False, label='sqft_living15', norm_hist=True)"
      ],
      "execution_count": 568,
      "outputs": [
        {
          "output_type": "stream",
          "text": [
            "/usr/local/lib/python3.6/dist-packages/seaborn/distributions.py:2551: FutureWarning: `distplot` is a deprecated function and will be removed in a future version. Please adapt your code to use either `displot` (a figure-level function with similar flexibility) or `histplot` (an axes-level function for histograms).\n",
            "  warnings.warn(msg, FutureWarning)\n"
          ],
          "name": "stderr"
        },
        {
          "output_type": "execute_result",
          "data": {
            "text/plain": [
              "<matplotlib.axes._subplots.AxesSubplot at 0x7f02efeb52e8>"
            ]
          },
          "metadata": {
            "tags": []
          },
          "execution_count": 568
        },
        {
          "output_type": "display_data",
          "data": {
            "image/png": "[encoded data removed]",
            "text/plain": [
              "<Figure size 720x360 with 1 Axes>"
            ]
          },
          "metadata": {
            "tags": [],
            "needs_background": "light"
          }
        }
      ]
    },
    {
      "cell_type": "code",
      "metadata": {
        "colab": {
          "base_uri": "https://localhost:8080/",
          "height": 0
        },
        "id": "OyRBNf5iyJrz",
        "outputId": "dd1d77ba-1d9e-4916-f3a1-bd69faec88fe"
      },
      "source": [
        "fig,axes = plt.subplots(nrows=1,ncols=1, figsize=(10,5))\n",
        "sns.distplot(df['sqft_above'], hist=True, kde=True, rug=False, label='sqft_above', norm_hist=True)"
      ],
      "execution_count": 569,
      "outputs": [
        {
          "output_type": "stream",
          "text": [
            "/usr/local/lib/python3.6/dist-packages/seaborn/distributions.py:2551: FutureWarning: `distplot` is a deprecated function and will be removed in a future version. Please adapt your code to use either `displot` (a figure-level function with similar flexibility) or `histplot` (an axes-level function for histograms).\n",
            "  warnings.warn(msg, FutureWarning)\n"
          ],
          "name": "stderr"
        },
        {
          "output_type": "execute_result",
          "data": {
            "text/plain": [
              "<matplotlib.axes._subplots.AxesSubplot at 0x7f02f032f6a0>"
            ]
          },
          "metadata": {
            "tags": []
          },
          "execution_count": 569
        },
        {
          "output_type": "display_data",
          "data": {
            "image/png": "[encoded data removed]",
            "text/plain": [
              "<Figure size 720x360 with 1 Axes>"
            ]
          },
          "metadata": {
            "tags": [],
            "needs_background": "light"
          }
        }
      ]
    },
    {
      "cell_type": "code",
      "metadata": {
        "colab": {
          "base_uri": "https://localhost:8080/",
          "height": 0
        },
        "id": "g6OLI3JCyKrc",
        "outputId": "f22ba52c-636f-4eba-ad0b-59d7ea0967fa"
      },
      "source": [
        "fig,axes = plt.subplots(nrows=1,ncols=1, figsize=(10,5))\n",
        "sns.distplot(df['sqft_basement'], hist=True, kde=True, rug=False, label='sqft_basement', norm_hist=True)"
      ],
      "execution_count": 570,
      "outputs": [
        {
          "output_type": "stream",
          "text": [
            "/usr/local/lib/python3.6/dist-packages/seaborn/distributions.py:2551: FutureWarning: `distplot` is a deprecated function and will be removed in a future version. Please adapt your code to use either `displot` (a figure-level function with similar flexibility) or `histplot` (an axes-level function for histograms).\n",
            "  warnings.warn(msg, FutureWarning)\n"
          ],
          "name": "stderr"
        },
        {
          "output_type": "execute_result",
          "data": {
            "text/plain": [
              "<matplotlib.axes._subplots.AxesSubplot at 0x7f02f1832f98>"
            ]
          },
          "metadata": {
            "tags": []
          },
          "execution_count": 570
        },
        {
          "output_type": "display_data",
          "data": {
            "image/png": "[encoded data removed]",
            "text/plain": [
              "<Figure size 720x360 with 1 Axes>"
            ]
          },
          "metadata": {
            "tags": [],
            "needs_background": "light"
          }
        }
      ]
    },
    {
      "cell_type": "markdown",
      "metadata": {
        "id": "GkRvx8hDvlEM"
      },
      "source": [
        "### Bivariate Analysis"
      ]
    },
    {
      "cell_type": "code",
      "metadata": {
        "colab": {
          "base_uri": "https://localhost:8080/",
          "height": 0
        },
        "id": "x706D-jTlKwB",
        "outputId": "b125d7b3-e430-494b-8c8e-79fb7022f6bf"
      },
      "source": [
        "groups = df.groupby(['bedrooms'])['price'].mean()\n",
        "plt.figure(figsize=(10, 5))\n",
        "plt.xlabel('price')\n",
        "groups.plot.barh()"
      ],
      "execution_count": 571,
      "outputs": [
        {
          "output_type": "execute_result",
          "data": {
            "text/plain": [
              "<matplotlib.axes._subplots.AxesSubplot at 0x7f02f0f00748>"
            ]
          },
          "metadata": {
            "tags": []
          },
          "execution_count": 571
        },
        {
          "output_type": "display_data",
          "data": {
            "image/png": "[encoded data removed]",
            "text/plain": [
              "<Figure size 720x360 with 1 Axes>"
            ]
          },
          "metadata": {
            "tags": [],
            "needs_background": "light"
          }
        }
      ]
    },
    {
      "cell_type": "code",
      "metadata": {
        "colab": {
          "base_uri": "https://localhost:8080/",
          "height": 0
        },
        "id": "vuicmpmhlXrD",
        "outputId": "cae712f4-9df1-4948-e05c-90180955cb90"
      },
      "source": [
        "groups = df.groupby(['bathrooms'])['price'].mean()\n",
        "plt.figure(figsize=(10, 10))\n",
        "groups.plot.barh()"
      ],
      "execution_count": 572,
      "outputs": [
        {
          "output_type": "execute_result",
          "data": {
            "text/plain": [
              "<matplotlib.axes._subplots.AxesSubplot at 0x7f02efd46908>"
            ]
          },
          "metadata": {
            "tags": []
          },
          "execution_count": 572
        },
        {
          "output_type": "display_data",
          "data": {
            "image/png": "[encoded data removed]",
            "text/plain": [
              "<Figure size 720x720 with 1 Axes>"
            ]
          },
          "metadata": {
            "tags": [],
            "needs_background": "light"
          }
        }
      ]
    },
    {
      "cell_type": "code",
      "metadata": {
        "colab": {
          "base_uri": "https://localhost:8080/",
          "height": 0
        },
        "id": "t7eds_jGzQh7",
        "outputId": "bd5e7b5b-4cbb-482d-da22-61ac0a17323a"
      },
      "source": [
        "groups = df.groupby(['condition'])['price'].mean()\n",
        "plt.figure(figsize=(10, 5))\n",
        "plt.xlabel('price')\n",
        "groups.plot.barh()"
      ],
      "execution_count": 573,
      "outputs": [
        {
          "output_type": "execute_result",
          "data": {
            "text/plain": [
              "<matplotlib.axes._subplots.AxesSubplot at 0x7f02efda2b00>"
            ]
          },
          "metadata": {
            "tags": []
          },
          "execution_count": 573
        },
        {
          "output_type": "display_data",
          "data": {
            "image/png": "[encoded data removed]",
            "text/plain": [
              "<Figure size 720x360 with 1 Axes>"
            ]
          },
          "metadata": {
            "tags": [],
            "needs_background": "light"
          }
        }
      ]
    },
    {
      "cell_type": "code",
      "metadata": {
        "colab": {
          "base_uri": "https://localhost:8080/",
          "height": 0
        },
        "id": "RF_acFFYzhgk",
        "outputId": "4eed4b41-f630-487b-8b7b-ce3b28989051"
      },
      "source": [
        "groups = df.groupby(['grade'])['price'].mean()\n",
        "plt.figure(figsize=(10, 5))\n",
        "plt.xlabel('price')\n",
        "groups.plot.barh()"
      ],
      "execution_count": 574,
      "outputs": [
        {
          "output_type": "execute_result",
          "data": {
            "text/plain": [
              "<matplotlib.axes._subplots.AxesSubplot at 0x7f02efc6fbe0>"
            ]
          },
          "metadata": {
            "tags": []
          },
          "execution_count": 574
        },
        {
          "output_type": "display_data",
          "data": {
            "image/png": "[encoded data removed]",
            "text/plain": [
              "<Figure size 720x360 with 1 Axes>"
            ]
          },
          "metadata": {
            "tags": [],
            "needs_background": "light"
          }
        }
      ]
    },
    {
      "cell_type": "markdown",
      "metadata": {
        "id": "YaiEMXN8vsul"
      },
      "source": [
        "### Feature Engineering"
      ]
    },
    {
      "cell_type": "code",
      "metadata": {
        "id": "OiamiBy2mwlm"
      },
      "source": [
        "df['house_size']= df['sqft_living']+df['sqft_above']+df['sqft_basement']"
      ],
      "execution_count": 575,
      "outputs": []
    },
    {
      "cell_type": "code",
      "metadata": {
        "id": "ZiK6hbIRnElE"
      },
      "source": [
        "df['Years'] = 2020 - df['yr_built']"
      ],
      "execution_count": 576,
      "outputs": []
    },
    {
      "cell_type": "code",
      "metadata": {
        "id": "QaSzNB2unSdx"
      },
      "source": [
        "df.drop(['sqft_living','sqft_above','sqft_basement','yr_built','zipcode'],axis=1,inplace=True)"
      ],
      "execution_count": 577,
      "outputs": []
    },
    {
      "cell_type": "code",
      "metadata": {
        "colab": {
          "base_uri": "https://localhost:8080/",
          "height": 0
        },
        "id": "sPinPEGPnOHa",
        "outputId": "921adf1a-568d-451f-d353-7027064eec86"
      },
      "source": [
        "df.head()"
      ],
      "execution_count": 578,
      "outputs": [
        {
          "output_type": "execute_result",
          "data": {
            "text/html": [
              "<div>\n",
              "<style scoped>\n",
              "    .dataframe tbody tr th:only-of-type {\n",
              "        vertical-align: middle;\n",
              "    }\n",
              "\n",
              "    .dataframe tbody tr th {\n",
              "        vertical-align: top;\n",
              "    }\n",
              "\n",
              "    .dataframe thead th {\n",
              "        text-align: right;\n",
              "    }\n",
              "</style>\n",
              "<table border=\"1\" class=\"dataframe\">\n",
              "  <thead>\n",
              "    <tr style=\"text-align: right;\">\n",
              "      <th></th>\n",
              "      <th>price</th>\n",
              "      <th>bedrooms</th>\n",
              "      <th>bathrooms</th>\n",
              "      <th>sqft_lot</th>\n",
              "      <th>floors</th>\n",
              "      <th>view</th>\n",
              "      <th>condition</th>\n",
              "      <th>grade</th>\n",
              "      <th>lat</th>\n",
              "      <th>long</th>\n",
              "      <th>sqft_living15</th>\n",
              "      <th>sqft_lot15</th>\n",
              "      <th>house_size</th>\n",
              "      <th>Years</th>\n",
              "    </tr>\n",
              "  </thead>\n",
              "  <tbody>\n",
              "    <tr>\n",
              "      <th>0</th>\n",
              "      <td>221900.00000</td>\n",
              "      <td>3</td>\n",
              "      <td>1.00000</td>\n",
              "      <td>5650</td>\n",
              "      <td>1.00000</td>\n",
              "      <td>0</td>\n",
              "      <td>3</td>\n",
              "      <td>7</td>\n",
              "      <td>47.51120</td>\n",
              "      <td>-122.25700</td>\n",
              "      <td>1340</td>\n",
              "      <td>5650</td>\n",
              "      <td>2360</td>\n",
              "      <td>65</td>\n",
              "    </tr>\n",
              "    <tr>\n",
              "      <th>1</th>\n",
              "      <td>538000.00000</td>\n",
              "      <td>3</td>\n",
              "      <td>2.25000</td>\n",
              "      <td>7242</td>\n",
              "      <td>2.00000</td>\n",
              "      <td>0</td>\n",
              "      <td>3</td>\n",
              "      <td>7</td>\n",
              "      <td>47.72100</td>\n",
              "      <td>-122.31900</td>\n",
              "      <td>1690</td>\n",
              "      <td>7639</td>\n",
              "      <td>5140</td>\n",
              "      <td>69</td>\n",
              "    </tr>\n",
              "    <tr>\n",
              "      <th>2</th>\n",
              "      <td>180000.00000</td>\n",
              "      <td>2</td>\n",
              "      <td>1.00000</td>\n",
              "      <td>10000</td>\n",
              "      <td>1.00000</td>\n",
              "      <td>0</td>\n",
              "      <td>3</td>\n",
              "      <td>6</td>\n",
              "      <td>47.73790</td>\n",
              "      <td>-122.23300</td>\n",
              "      <td>2720</td>\n",
              "      <td>8062</td>\n",
              "      <td>1540</td>\n",
              "      <td>87</td>\n",
              "    </tr>\n",
              "    <tr>\n",
              "      <th>3</th>\n",
              "      <td>604000.00000</td>\n",
              "      <td>4</td>\n",
              "      <td>3.00000</td>\n",
              "      <td>5000</td>\n",
              "      <td>1.00000</td>\n",
              "      <td>0</td>\n",
              "      <td>5</td>\n",
              "      <td>7</td>\n",
              "      <td>47.52080</td>\n",
              "      <td>-122.39300</td>\n",
              "      <td>1360</td>\n",
              "      <td>5000</td>\n",
              "      <td>3920</td>\n",
              "      <td>55</td>\n",
              "    </tr>\n",
              "    <tr>\n",
              "      <th>4</th>\n",
              "      <td>510000.00000</td>\n",
              "      <td>3</td>\n",
              "      <td>2.00000</td>\n",
              "      <td>8080</td>\n",
              "      <td>1.00000</td>\n",
              "      <td>0</td>\n",
              "      <td>3</td>\n",
              "      <td>8</td>\n",
              "      <td>47.61680</td>\n",
              "      <td>-122.04500</td>\n",
              "      <td>1800</td>\n",
              "      <td>7503</td>\n",
              "      <td>3360</td>\n",
              "      <td>33</td>\n",
              "    </tr>\n",
              "  </tbody>\n",
              "</table>\n",
              "</div>"
            ],
            "text/plain": [
              "         price  bedrooms  bathrooms  ...  sqft_lot15  house_size  Years\n",
              "0 221900.00000         3    1.00000  ...        5650        2360     65\n",
              "1 538000.00000         3    2.25000  ...        7639        5140     69\n",
              "2 180000.00000         2    1.00000  ...        8062        1540     87\n",
              "3 604000.00000         4    3.00000  ...        5000        3920     55\n",
              "4 510000.00000         3    2.00000  ...        7503        3360     33\n",
              "\n",
              "[5 rows x 14 columns]"
            ]
          },
          "metadata": {
            "tags": []
          },
          "execution_count": 578
        }
      ]
    },
    {
      "cell_type": "code",
      "metadata": {
        "colab": {
          "base_uri": "https://localhost:8080/",
          "height": 0
        },
        "id": "I3xN2tXhav7c",
        "outputId": "2c4afb67-babd-4834-908a-95c2c91b3582"
      },
      "source": [
        "plt.subplots(figsize=(20,20))\n",
        "sns.heatmap(df.corr(),annot=True)"
      ],
      "execution_count": 579,
      "outputs": [
        {
          "output_type": "execute_result",
          "data": {
            "text/plain": [
              "<matplotlib.axes._subplots.AxesSubplot at 0x7f02efbf36d8>"
            ]
          },
          "metadata": {
            "tags": []
          },
          "execution_count": 579
        },
        {
          "output_type": "display_data",
          "data": {
            "image/png": "[encoded data removed]",
            "text/plain": [
              "<Figure size 1440x1440 with 2 Axes>"
            ]
          },
          "metadata": {
            "tags": [],
            "needs_background": "light"
          }
        }
      ]
    },
    {
      "cell_type": "markdown",
      "metadata": {
        "id": "QwiL7dnrahf6"
      },
      "source": [
        "##  **3.Analysis**"
      ]
    },
    {
      "cell_type": "markdown",
      "metadata": {
        "id": "FKwJTtqPszTS"
      },
      "source": [
        "### 3.1.Linear Regression Model."
      ]
    },
    {
      "cell_type": "markdown",
      "metadata": {
        "id": "zLaZ0GXDthfZ"
      },
      "source": [
        ">* The first model I implemented was the Multiple Linear Regression Model.\n",
        ">* However this model has limitations.\n",
        ">  * It is sensitive to outliers as they affect the regression line and the forecasted values.\n",
        ">  * Multicollinearity in a LInear Regression Model increases the variance of the coefficients and makes the estimates senstive to minor changes.\n",
        ">  * These models also have the assumption of homoskedasticity,constant variance.\n",
        ">  * They are complex and fit the training data too well , hence overfitting .\n",
        "\n",
        ">* Therefore in order for us to fit a Linear Regression Model we will first check for Multicolinearity using the VIF and then test for Homoskedasticity once we fit the model.\n"
      ]
    },
    {
      "cell_type": "markdown",
      "metadata": {
        "id": "ZIR_7Fvw8B2L"
      },
      "source": [
        ">* The first step would be to identify the feeatures and the target variable.\n",
        ">* Then test for multicollinearity within the model and then drop the features with a high VIF score."
      ]
    },
    {
      "cell_type": "markdown",
      "metadata": {
        "id": "_Wvc1mRjFjx8"
      },
      "source": [
        "##### 3.1.1.Features"
      ]
    },
    {
      "cell_type": "code",
      "metadata": {
        "colab": {
          "base_uri": "https://localhost:8080/",
          "height": 215
        },
        "id": "OjaJYxeYAg9P",
        "outputId": "db8e9573-cf93-4fbb-98cd-e516f114a793"
      },
      "source": [
        "from sklearn import preprocessing\n",
        "names = df.columns\n",
        "d = preprocessing.normalize(df)\n",
        "df1 = pd.DataFrame(d, columns=names)\n",
        "df1.head()"
      ],
      "execution_count": 580,
      "outputs": [
        {
          "output_type": "execute_result",
          "data": {
            "text/html": [
              "<div>\n",
              "<style scoped>\n",
              "    .dataframe tbody tr th:only-of-type {\n",
              "        vertical-align: middle;\n",
              "    }\n",
              "\n",
              "    .dataframe tbody tr th {\n",
              "        vertical-align: top;\n",
              "    }\n",
              "\n",
              "    .dataframe thead th {\n",
              "        text-align: right;\n",
              "    }\n",
              "</style>\n",
              "<table border=\"1\" class=\"dataframe\">\n",
              "  <thead>\n",
              "    <tr style=\"text-align: right;\">\n",
              "      <th></th>\n",
              "      <th>price</th>\n",
              "      <th>bedrooms</th>\n",
              "      <th>bathrooms</th>\n",
              "      <th>sqft_lot</th>\n",
              "      <th>floors</th>\n",
              "      <th>view</th>\n",
              "      <th>condition</th>\n",
              "      <th>grade</th>\n",
              "      <th>lat</th>\n",
              "      <th>long</th>\n",
              "      <th>sqft_living15</th>\n",
              "      <th>sqft_lot15</th>\n",
              "      <th>house_size</th>\n",
              "      <th>Years</th>\n",
              "    </tr>\n",
              "  </thead>\n",
              "  <tbody>\n",
              "    <tr>\n",
              "      <th>0</th>\n",
              "      <td>0.99928</td>\n",
              "      <td>0.00001</td>\n",
              "      <td>0.00000</td>\n",
              "      <td>0.02544</td>\n",
              "      <td>0.00000</td>\n",
              "      <td>0.00000</td>\n",
              "      <td>0.00001</td>\n",
              "      <td>0.00003</td>\n",
              "      <td>0.00021</td>\n",
              "      <td>-0.00055</td>\n",
              "      <td>0.00603</td>\n",
              "      <td>0.02544</td>\n",
              "      <td>0.01063</td>\n",
              "      <td>0.00029</td>\n",
              "    </tr>\n",
              "    <tr>\n",
              "      <th>1</th>\n",
              "      <td>0.99976</td>\n",
              "      <td>0.00001</td>\n",
              "      <td>0.00000</td>\n",
              "      <td>0.01346</td>\n",
              "      <td>0.00000</td>\n",
              "      <td>0.00000</td>\n",
              "      <td>0.00001</td>\n",
              "      <td>0.00001</td>\n",
              "      <td>0.00009</td>\n",
              "      <td>-0.00023</td>\n",
              "      <td>0.00314</td>\n",
              "      <td>0.01420</td>\n",
              "      <td>0.00955</td>\n",
              "      <td>0.00013</td>\n",
              "    </tr>\n",
              "    <tr>\n",
              "      <th>2</th>\n",
              "      <td>0.99731</td>\n",
              "      <td>0.00001</td>\n",
              "      <td>0.00001</td>\n",
              "      <td>0.05541</td>\n",
              "      <td>0.00001</td>\n",
              "      <td>0.00000</td>\n",
              "      <td>0.00002</td>\n",
              "      <td>0.00003</td>\n",
              "      <td>0.00026</td>\n",
              "      <td>-0.00068</td>\n",
              "      <td>0.01507</td>\n",
              "      <td>0.04467</td>\n",
              "      <td>0.00853</td>\n",
              "      <td>0.00048</td>\n",
              "    </tr>\n",
              "    <tr>\n",
              "      <th>3</th>\n",
              "      <td>0.99991</td>\n",
              "      <td>0.00001</td>\n",
              "      <td>0.00000</td>\n",
              "      <td>0.00828</td>\n",
              "      <td>0.00000</td>\n",
              "      <td>0.00000</td>\n",
              "      <td>0.00001</td>\n",
              "      <td>0.00001</td>\n",
              "      <td>0.00008</td>\n",
              "      <td>-0.00020</td>\n",
              "      <td>0.00225</td>\n",
              "      <td>0.00828</td>\n",
              "      <td>0.00649</td>\n",
              "      <td>0.00009</td>\n",
              "    </tr>\n",
              "    <tr>\n",
              "      <th>4</th>\n",
              "      <td>0.99974</td>\n",
              "      <td>0.00001</td>\n",
              "      <td>0.00000</td>\n",
              "      <td>0.01584</td>\n",
              "      <td>0.00000</td>\n",
              "      <td>0.00000</td>\n",
              "      <td>0.00001</td>\n",
              "      <td>0.00002</td>\n",
              "      <td>0.00009</td>\n",
              "      <td>-0.00024</td>\n",
              "      <td>0.00353</td>\n",
              "      <td>0.01471</td>\n",
              "      <td>0.00659</td>\n",
              "      <td>0.00006</td>\n",
              "    </tr>\n",
              "  </tbody>\n",
              "</table>\n",
              "</div>"
            ],
            "text/plain": [
              "    price  bedrooms  bathrooms  ...  sqft_lot15  house_size   Years\n",
              "0 0.99928   0.00001    0.00000  ...     0.02544     0.01063 0.00029\n",
              "1 0.99976   0.00001    0.00000  ...     0.01420     0.00955 0.00013\n",
              "2 0.99731   0.00001    0.00001  ...     0.04467     0.00853 0.00048\n",
              "3 0.99991   0.00001    0.00000  ...     0.00828     0.00649 0.00009\n",
              "4 0.99974   0.00001    0.00000  ...     0.01471     0.00659 0.00006\n",
              "\n",
              "[5 rows x 14 columns]"
            ]
          },
          "metadata": {
            "tags": []
          },
          "execution_count": 580
        }
      ]
    },
    {
      "cell_type": "code",
      "metadata": {
        "id": "dzcEVco2bR2e"
      },
      "source": [
        "#X = df1.drop(['price','long','lat','condition'],axis=1)\n",
        "X = df1.drop(['price','long','lat','grade'],axis=1)\n",
        "y = df1.price"
      ],
      "execution_count": 641,
      "outputs": []
    },
    {
      "cell_type": "code",
      "metadata": {
        "colab": {
          "base_uri": "https://localhost:8080/",
          "height": 452
        },
        "id": "Snc_aFjzXHAe",
        "outputId": "6581d282-2507-47dd-ecde-a2bfc626ba49"
      },
      "source": [
        "correlations = X.corr()\n",
        "pd.DataFrame(np.linalg.inv(correlations.values), index = correlations.index, columns=correlations.columns)"
      ],
      "execution_count": 642,
      "outputs": [
        {
          "output_type": "execute_result",
          "data": {
            "text/html": [
              "<div>\n",
              "<style scoped>\n",
              "    .dataframe tbody tr th:only-of-type {\n",
              "        vertical-align: middle;\n",
              "    }\n",
              "\n",
              "    .dataframe tbody tr th {\n",
              "        vertical-align: top;\n",
              "    }\n",
              "\n",
              "    .dataframe thead th {\n",
              "        text-align: right;\n",
              "    }\n",
              "</style>\n",
              "<table border=\"1\" class=\"dataframe\">\n",
              "  <thead>\n",
              "    <tr style=\"text-align: right;\">\n",
              "      <th></th>\n",
              "      <th>bedrooms</th>\n",
              "      <th>bathrooms</th>\n",
              "      <th>sqft_lot</th>\n",
              "      <th>floors</th>\n",
              "      <th>view</th>\n",
              "      <th>condition</th>\n",
              "      <th>grade</th>\n",
              "      <th>lat</th>\n",
              "      <th>long</th>\n",
              "      <th>sqft_living15</th>\n",
              "      <th>sqft_lot15</th>\n",
              "      <th>house_size</th>\n",
              "      <th>Years</th>\n",
              "    </tr>\n",
              "  </thead>\n",
              "  <tbody>\n",
              "    <tr>\n",
              "      <th>bedrooms</th>\n",
              "      <td>4.77881</td>\n",
              "      <td>-0.61529</td>\n",
              "      <td>0.04183</td>\n",
              "      <td>0.28808</td>\n",
              "      <td>0.11827</td>\n",
              "      <td>-0.49321</td>\n",
              "      <td>0.00154</td>\n",
              "      <td>4.24213</td>\n",
              "      <td>6.48522</td>\n",
              "      <td>0.33827</td>\n",
              "      <td>0.08341</td>\n",
              "      <td>-1.95706</td>\n",
              "      <td>-0.14101</td>\n",
              "    </tr>\n",
              "    <tr>\n",
              "      <th>bathrooms</th>\n",
              "      <td>-0.61529</td>\n",
              "      <td>4.12582</td>\n",
              "      <td>0.07234</td>\n",
              "      <td>-0.84419</td>\n",
              "      <td>-0.03257</td>\n",
              "      <td>-0.11670</td>\n",
              "      <td>-0.08173</td>\n",
              "      <td>12.08560</td>\n",
              "      <td>13.70215</td>\n",
              "      <td>-0.03001</td>\n",
              "      <td>0.09756</td>\n",
              "      <td>-1.49919</td>\n",
              "      <td>1.54067</td>\n",
              "    </tr>\n",
              "    <tr>\n",
              "      <th>sqft_lot</th>\n",
              "      <td>0.04183</td>\n",
              "      <td>0.07234</td>\n",
              "      <td>2.08810</td>\n",
              "      <td>0.06650</td>\n",
              "      <td>-0.01755</td>\n",
              "      <td>0.15273</td>\n",
              "      <td>0.21219</td>\n",
              "      <td>11.90038</td>\n",
              "      <td>12.27284</td>\n",
              "      <td>-0.01847</td>\n",
              "      <td>-1.48511</td>\n",
              "      <td>-0.11263</td>\n",
              "      <td>0.00108</td>\n",
              "    </tr>\n",
              "    <tr>\n",
              "      <th>floors</th>\n",
              "      <td>0.28808</td>\n",
              "      <td>-0.84419</td>\n",
              "      <td>0.06650</td>\n",
              "      <td>3.05101</td>\n",
              "      <td>0.05809</td>\n",
              "      <td>0.66415</td>\n",
              "      <td>-0.40644</td>\n",
              "      <td>-15.18191</td>\n",
              "      <td>-12.20754</td>\n",
              "      <td>0.22251</td>\n",
              "      <td>0.10905</td>\n",
              "      <td>-0.01905</td>\n",
              "      <td>0.96571</td>\n",
              "    </tr>\n",
              "    <tr>\n",
              "      <th>view</th>\n",
              "      <td>0.11827</td>\n",
              "      <td>-0.03257</td>\n",
              "      <td>-0.01755</td>\n",
              "      <td>0.05809</td>\n",
              "      <td>1.05395</td>\n",
              "      <td>0.03788</td>\n",
              "      <td>0.03778</td>\n",
              "      <td>20.69700</td>\n",
              "      <td>20.49380</td>\n",
              "      <td>-0.16150</td>\n",
              "      <td>-0.01646</td>\n",
              "      <td>-0.00348</td>\n",
              "      <td>-0.18325</td>\n",
              "    </tr>\n",
              "    <tr>\n",
              "      <th>condition</th>\n",
              "      <td>-0.49321</td>\n",
              "      <td>-0.11670</td>\n",
              "      <td>0.15273</td>\n",
              "      <td>0.66415</td>\n",
              "      <td>0.03788</td>\n",
              "      <td>6.98739</td>\n",
              "      <td>-0.20340</td>\n",
              "      <td>64.11014</td>\n",
              "      <td>70.31867</td>\n",
              "      <td>0.58724</td>\n",
              "      <td>-0.15903</td>\n",
              "      <td>0.05082</td>\n",
              "      <td>-0.63236</td>\n",
              "    </tr>\n",
              "    <tr>\n",
              "      <th>grade</th>\n",
              "      <td>0.00154</td>\n",
              "      <td>-0.08173</td>\n",
              "      <td>0.21219</td>\n",
              "      <td>-0.40644</td>\n",
              "      <td>0.03778</td>\n",
              "      <td>-0.20340</td>\n",
              "      <td>23.73712</td>\n",
              "      <td>83.30170</td>\n",
              "      <td>106.28261</td>\n",
              "      <td>-1.40926</td>\n",
              "      <td>0.22089</td>\n",
              "      <td>-1.82779</td>\n",
              "      <td>3.80325</td>\n",
              "    </tr>\n",
              "    <tr>\n",
              "      <th>lat</th>\n",
              "      <td>4.24213</td>\n",
              "      <td>12.08560</td>\n",
              "      <td>11.90038</td>\n",
              "      <td>-15.18191</td>\n",
              "      <td>20.69700</td>\n",
              "      <td>64.11014</td>\n",
              "      <td>83.30170</td>\n",
              "      <td>30287.84727</td>\n",
              "      <td>30450.08149</td>\n",
              "      <td>1.15838</td>\n",
              "      <td>-4.76901</td>\n",
              "      <td>50.51289</td>\n",
              "      <td>-7.44141</td>\n",
              "    </tr>\n",
              "    <tr>\n",
              "      <th>long</th>\n",
              "      <td>6.48522</td>\n",
              "      <td>13.70215</td>\n",
              "      <td>12.27284</td>\n",
              "      <td>-12.20754</td>\n",
              "      <td>20.49380</td>\n",
              "      <td>70.31867</td>\n",
              "      <td>106.28261</td>\n",
              "      <td>30450.08149</td>\n",
              "      <td>30651.70956</td>\n",
              "      <td>3.15398</td>\n",
              "      <td>-4.44080</td>\n",
              "      <td>47.18443</td>\n",
              "      <td>0.61208</td>\n",
              "    </tr>\n",
              "    <tr>\n",
              "      <th>sqft_living15</th>\n",
              "      <td>0.33827</td>\n",
              "      <td>-0.03001</td>\n",
              "      <td>-0.01847</td>\n",
              "      <td>0.22251</td>\n",
              "      <td>-0.16150</td>\n",
              "      <td>0.58724</td>\n",
              "      <td>-1.40926</td>\n",
              "      <td>1.15838</td>\n",
              "      <td>3.15398</td>\n",
              "      <td>4.10445</td>\n",
              "      <td>-0.21777</td>\n",
              "      <td>-1.67062</td>\n",
              "      <td>0.31361</td>\n",
              "    </tr>\n",
              "    <tr>\n",
              "      <th>sqft_lot15</th>\n",
              "      <td>0.08341</td>\n",
              "      <td>0.09756</td>\n",
              "      <td>-1.48511</td>\n",
              "      <td>0.10905</td>\n",
              "      <td>-0.01646</td>\n",
              "      <td>-0.15903</td>\n",
              "      <td>0.22089</td>\n",
              "      <td>-4.76901</td>\n",
              "      <td>-4.44080</td>\n",
              "      <td>-0.21777</td>\n",
              "      <td>2.13244</td>\n",
              "      <td>-0.09346</td>\n",
              "      <td>0.12307</td>\n",
              "    </tr>\n",
              "    <tr>\n",
              "      <th>house_size</th>\n",
              "      <td>-1.95706</td>\n",
              "      <td>-1.49919</td>\n",
              "      <td>-0.11263</td>\n",
              "      <td>-0.01905</td>\n",
              "      <td>-0.00348</td>\n",
              "      <td>0.05082</td>\n",
              "      <td>-1.82779</td>\n",
              "      <td>50.51289</td>\n",
              "      <td>47.18443</td>\n",
              "      <td>-1.67062</td>\n",
              "      <td>-0.09346</td>\n",
              "      <td>4.35891</td>\n",
              "      <td>-0.43205</td>\n",
              "    </tr>\n",
              "    <tr>\n",
              "      <th>Years</th>\n",
              "      <td>-0.14101</td>\n",
              "      <td>1.54067</td>\n",
              "      <td>0.00108</td>\n",
              "      <td>0.96571</td>\n",
              "      <td>-0.18325</td>\n",
              "      <td>-0.63236</td>\n",
              "      <td>3.80325</td>\n",
              "      <td>-7.44141</td>\n",
              "      <td>0.61208</td>\n",
              "      <td>0.31361</td>\n",
              "      <td>0.12307</td>\n",
              "      <td>-0.43205</td>\n",
              "      <td>4.58895</td>\n",
              "    </tr>\n",
              "  </tbody>\n",
              "</table>\n",
              "</div>"
            ],
            "text/plain": [
              "               bedrooms  bathrooms  sqft_lot  ...  sqft_lot15  house_size    Years\n",
              "bedrooms        4.77881   -0.61529   0.04183  ...     0.08341    -1.95706 -0.14101\n",
              "bathrooms      -0.61529    4.12582   0.07234  ...     0.09756    -1.49919  1.54067\n",
              "sqft_lot        0.04183    0.07234   2.08810  ...    -1.48511    -0.11263  0.00108\n",
              "floors          0.28808   -0.84419   0.06650  ...     0.10905    -0.01905  0.96571\n",
              "view            0.11827   -0.03257  -0.01755  ...    -0.01646    -0.00348 -0.18325\n",
              "condition      -0.49321   -0.11670   0.15273  ...    -0.15903     0.05082 -0.63236\n",
              "grade           0.00154   -0.08173   0.21219  ...     0.22089    -1.82779  3.80325\n",
              "lat             4.24213   12.08560  11.90038  ...    -4.76901    50.51289 -7.44141\n",
              "long            6.48522   13.70215  12.27284  ...    -4.44080    47.18443  0.61208\n",
              "sqft_living15   0.33827   -0.03001  -0.01847  ...    -0.21777    -1.67062  0.31361\n",
              "sqft_lot15      0.08341    0.09756  -1.48511  ...     2.13244    -0.09346  0.12307\n",
              "house_size     -1.95706   -1.49919  -0.11263  ...    -0.09346     4.35891 -0.43205\n",
              "Years          -0.14101    1.54067   0.00108  ...     0.12307    -0.43205  4.58895\n",
              "\n",
              "[13 rows x 13 columns]"
            ]
          },
          "metadata": {
            "tags": []
          },
          "execution_count": 642
        }
      ]
    },
    {
      "cell_type": "markdown",
      "metadata": {
        "id": "4luAy8EKByw8"
      },
      "source": [
        "##### 3.1.2.Fitting a Linear Model"
      ]
    },
    {
      "cell_type": "code",
      "metadata": {
        "id": "mQ02BF-uo1mn"
      },
      "source": [
        "#Split the data into train and test set\n",
        "from sklearn.model_selection import train_test_split\n",
        "X_train ,X_test,y_train,y_test = train_test_split(X,y,test_size=0.2,random_state=0)"
      ],
      "execution_count": 643,
      "outputs": []
    },
    {
      "cell_type": "code",
      "metadata": {
        "id": "PUEuDevIol2j"
      },
      "source": [
        "# Scale the data \n",
        "ss = StandardScaler()\n",
        "X_train = ss.fit_transform(X_train)\n",
        "X_test = ss.transform(X_test)"
      ],
      "execution_count": 644,
      "outputs": []
    },
    {
      "cell_type": "code",
      "metadata": {
        "id": "g5G4wn8Ia_1E"
      },
      "source": [
        "# Fitting a Multiple Linear Regression Model\n",
        "regression=LinearRegression()\n",
        "regression = regression.fit(X_train,y_train)\n",
        "y_pred = regression.predict(X_test)\n"
      ],
      "execution_count": 617,
      "outputs": []
    },
    {
      "cell_type": "code",
      "metadata": {
        "colab": {
          "base_uri": "https://localhost:8080/"
        },
        "id": "mHgpr8Yx0T_R",
        "outputId": "94b328f4-2394-41b7-b766-1508ac7f7c93"
      },
      "source": [
        "from sklearn import metrics\n",
        "print('Mean Absolute Error:', metrics.mean_absolute_error(y_test, y_pred))\n",
        "print('Mean Squared Error:', metrics.mean_squared_error(y_test, y_pred))\n",
        "print('Root Mean Squared Error:', np.sqrt(metrics.mean_squared_error(y_test, y_pred)))"
      ],
      "execution_count": 618,
      "outputs": [
        {
          "output_type": "stream",
          "text": [
            "Mean Absolute Error: 0.004794470378121147\n",
            "Mean Squared Error: 9.464332481421115e-05\n",
            "Root Mean Squared Error: 0.009728480087568209\n"
          ],
          "name": "stdout"
        }
      ]
    },
    {
      "cell_type": "code",
      "metadata": {
        "colab": {
          "base_uri": "https://localhost:8080/"
        },
        "id": "bSMam0p0jXWF",
        "outputId": "1560fd5a-53a1-46aa-d850-d9117540f5b7"
      },
      "source": [
        "coef_dict_baseline = {}\n",
        "for coef, feat in zip(regression.coef_,X.columns):\n",
        "    coef_dict_baseline[feat] = coef\n",
        "coef_dict_baseline"
      ],
      "execution_count": 619,
      "outputs": [
        {
          "output_type": "execute_result",
          "data": {
            "text/plain": [
              "{'Years': 0.0004781616602303794,\n",
              " 'bathrooms': -0.0010063609675142239,\n",
              " 'bedrooms': -0.00032583557093912287,\n",
              " 'condition': 0.0015095557154584291,\n",
              " 'floors': -0.001911144493987656,\n",
              " 'house_size': 0.0026740446729408224,\n",
              " 'sqft_living15': 0.002795909149027528,\n",
              " 'sqft_lot': -0.015447300795616412,\n",
              " 'sqft_lot15': -0.009333200337272415,\n",
              " 'view': -0.00023251179407173995}"
            ]
          },
          "metadata": {
            "tags": []
          },
          "execution_count": 619
        }
      ]
    },
    {
      "cell_type": "code",
      "metadata": {
        "colab": {
          "base_uri": "https://localhost:8080/"
        },
        "id": "qrOJubzhcCkK",
        "outputId": "f74965d7-0dec-4377-d3f9-c9bd54ee3252"
      },
      "source": [
        "from sklearn.metrics import r2_score\n",
        "score = r2_score(y_test, y_pred)\n",
        "score"
      ],
      "execution_count": 620,
      "outputs": [
        {
          "output_type": "execute_result",
          "data": {
            "text/plain": [
              "0.8063886460270403"
            ]
          },
          "metadata": {
            "tags": []
          },
          "execution_count": 620
        }
      ]
    },
    {
      "cell_type": "code",
      "metadata": {
        "colab": {
          "base_uri": "https://localhost:8080/",
          "height": 279
        },
        "id": "r2pbZMIOQOpE",
        "outputId": "f27f0ca3-8a04-4009-f275-7e67cf199626"
      },
      "source": [
        "residuals =np.subtract(y_pred,y_test)\n",
        "plt.scatter(y_pred, residuals, color='black')\n",
        "plt.ylabel('residual')\n",
        "plt.xlabel('fitted values')\n",
        "plt.axhline(y= residuals.mean(), color='red', linewidth=1)\n",
        "plt.show()"
      ],
      "execution_count": 621,
      "outputs": [
        {
          "output_type": "display_data",
          "data": {
            "image/png": "[encoded data removed]",
            "text/plain": [
              "<Figure size 432x288 with 1 Axes>"
            ]
          },
          "metadata": {
            "tags": [],
            "needs_background": "light"
          }
        }
      ]
    },
    {
      "cell_type": "code",
      "metadata": {
        "colab": {
          "base_uri": "https://localhost:8080/"
        },
        "id": "zv_rSvrcrzWg",
        "outputId": "f5c13c7b-7ace-4e9e-a988-37016e656ec8"
      },
      "source": [
        "#Checking for Multicollinearity\n",
        "import scipy as sp\n",
        "\n",
        "test_result, p_value = sp.stats.bartlett(y_pred, residual)\n",
        "\n",
        "degree_of_freedom = len(y_pred)-1\n",
        "probability = 1 - p_value\n",
        "\n",
        "critical_value = sp.stats.chi2.ppf(probability, degree_of_freedom)\n",
        "print(test_result,p_value)\n",
        "print(critical_value)"
      ],
      "execution_count": 622,
      "outputs": [
        {
          "output_type": "stream",
          "text": [
            "2568.572020134078 0.0\n",
            "inf\n"
          ],
          "name": "stdout"
        }
      ]
    },
    {
      "cell_type": "markdown",
      "metadata": {
        "id": "sBipKt2yqrX0"
      },
      "source": [
        ">* Testing for Heteroskedasticity of the model using the Barlett test, I noted that the p-value for the model was very low and the "
      ]
    },
    {
      "cell_type": "markdown",
      "metadata": {
        "id": "Eb5Fvsdh_Yyy"
      },
      "source": [
        "### 3.2.Quantile "
      ]
    },
    {
      "cell_type": "markdown",
      "metadata": {
        "id": "o9DDRTSus4a5"
      },
      "source": [
        ">* Quantile Regression works better with data that has Heteroskedasticity , outliers and high skewness.\n",
        ">* The coefficients obtained from this model should differ significantly with those obtained when carrying out Multiple Linear Regression."
      ]
    },
    {
      "cell_type": "markdown",
      "metadata": {
        "id": "eyvHaDIcuU7j"
      },
      "source": [
        ">* 1. Model 1 : The 0.25 Quantile , Median regression model"
      ]
    },
    {
      "cell_type": "code",
      "metadata": {
        "colab": {
          "base_uri": "https://localhost:8080/",
          "height": 578
        },
        "id": "3Ihe8OMJ_YC5",
        "outputId": "748a5955-219a-4ff0-8f0f-09ab42935387"
      },
      "source": [
        "import statsmodels.formula.api as smf\n",
        "mod = smf.quantreg('y ~ X', data= df1,)\n",
        "res = mod.fit(q=0.25)\n",
        "quantile = res.summary()\n",
        "quantile"
      ],
      "execution_count": 645,
      "outputs": [
        {
          "output_type": "stream",
          "text": [
            "/usr/local/lib/python3.6/dist-packages/statsmodels/regression/quantile_regression.py:192: IterationLimitWarning: Maximum number of iterations (1000) reached.\n",
            "  \") reached.\", IterationLimitWarning)\n"
          ],
          "name": "stderr"
        },
        {
          "output_type": "execute_result",
          "data": {
            "text/html": [
              "<table class=\"simpletable\">\n",
              "<caption>QuantReg Regression Results</caption>\n",
              "<tr>\n",
              "  <th>Dep. Variable:</th>         <td>y</td>        <th>  Pseudo R-squared:  </th> <td>  0.4845</td> \n",
              "</tr>\n",
              "<tr>\n",
              "  <th>Model:</th>             <td>QuantReg</td>     <th>  Bandwidth:         </th> <td>0.0003042</td>\n",
              "</tr>\n",
              "<tr>\n",
              "  <th>Method:</th>          <td>Least Squares</td>  <th>  Sparsity:          </th> <td>0.004257</td> \n",
              "</tr>\n",
              "<tr>\n",
              "  <th>Date:</th>          <td>Thu, 03 Dec 2020</td> <th>  No. Observations:  </th>  <td> 21608</td>  \n",
              "</tr>\n",
              "<tr>\n",
              "  <th>Time:</th>              <td>11:36:31</td>     <th>  Df Residuals:      </th>  <td> 21594</td>  \n",
              "</tr>\n",
              "<tr>\n",
              "  <th> </th>                      <td> </td>        <th>  Df Model:          </th>  <td>    13</td>  \n",
              "</tr>\n",
              "</table>\n",
              "<table class=\"simpletable\">\n",
              "<tr>\n",
              "      <td></td>         <th>coef</th>     <th>std err</th>      <th>t</th>      <th>P>|t|</th>  <th>[0.025</th>    <th>0.975]</th>  \n",
              "</tr>\n",
              "<tr>\n",
              "  <th>Intercept</th> <td>    0.9992</td> <td> 4.62e-05</td> <td> 2.16e+04</td> <td> 0.000</td> <td>    0.999</td> <td>    0.999</td>\n",
              "</tr>\n",
              "<tr>\n",
              "  <th>X[0]</th>      <td>  117.1335</td> <td>    7.474</td> <td>   15.673</td> <td> 0.000</td> <td>  102.484</td> <td>  131.783</td>\n",
              "</tr>\n",
              "<tr>\n",
              "  <th>X[1]</th>      <td> -215.5898</td> <td>   11.915</td> <td>  -18.094</td> <td> 0.000</td> <td> -238.944</td> <td> -192.235</td>\n",
              "</tr>\n",
              "<tr>\n",
              "  <th>X[2]</th>      <td>   -0.2010</td> <td>    0.000</td> <td> -420.256</td> <td> 0.000</td> <td>   -0.202</td> <td>   -0.200</td>\n",
              "</tr>\n",
              "<tr>\n",
              "  <th>X[3]</th>      <td> -822.8612</td> <td>   10.940</td> <td>  -75.214</td> <td> 0.000</td> <td> -844.305</td> <td> -801.417</td>\n",
              "</tr>\n",
              "<tr>\n",
              "  <th>X[4]</th>      <td>   -5.4272</td> <td>   26.281</td> <td>   -0.207</td> <td> 0.836</td> <td>  -56.939</td> <td>   46.085</td>\n",
              "</tr>\n",
              "<tr>\n",
              "  <th>X[5]</th>      <td>   90.3477</td> <td>    7.063</td> <td>   12.791</td> <td> 0.000</td> <td>   76.503</td> <td>  104.192</td>\n",
              "</tr>\n",
              "<tr>\n",
              "  <th>X[6]</th>      <td>   62.2076</td> <td>    8.178</td> <td>    7.607</td> <td> 0.000</td> <td>   46.178</td> <td>   78.237</td>\n",
              "</tr>\n",
              "<tr>\n",
              "  <th>X[7]</th>      <td>  136.4095</td> <td>   32.424</td> <td>    4.207</td> <td> 0.000</td> <td>   72.857</td> <td>  199.963</td>\n",
              "</tr>\n",
              "<tr>\n",
              "  <th>X[8]</th>      <td>   43.9375</td> <td>   12.637</td> <td>    3.477</td> <td> 0.001</td> <td>   19.168</td> <td>   68.707</td>\n",
              "</tr>\n",
              "<tr>\n",
              "  <th>X[9]</th>      <td>    0.3748</td> <td>    0.014</td> <td>   26.441</td> <td> 0.000</td> <td>    0.347</td> <td>    0.403</td>\n",
              "</tr>\n",
              "<tr>\n",
              "  <th>X[10]</th>     <td>   -0.1116</td> <td>    0.001</td> <td> -183.067</td> <td> 0.000</td> <td>   -0.113</td> <td>   -0.110</td>\n",
              "</tr>\n",
              "<tr>\n",
              "  <th>X[11]</th>     <td>    0.1848</td> <td>    0.008</td> <td>   24.065</td> <td> 0.000</td> <td>    0.170</td> <td>    0.200</td>\n",
              "</tr>\n",
              "<tr>\n",
              "  <th>X[12]</th>     <td>   -1.4952</td> <td>    0.275</td> <td>   -5.435</td> <td> 0.000</td> <td>   -2.035</td> <td>   -0.956</td>\n",
              "</tr>\n",
              "</table><br/><br/>The condition number is large, 3.14e+06. This might indicate that there are<br/>strong multicollinearity or other numerical problems."
            ],
            "text/plain": [
              "<class 'statsmodels.iolib.summary.Summary'>\n",
              "\"\"\"\n",
              "                         QuantReg Regression Results                          \n",
              "==============================================================================\n",
              "Dep. Variable:                      y   Pseudo R-squared:               0.4845\n",
              "Model:                       QuantReg   Bandwidth:                   0.0003042\n",
              "Method:                 Least Squares   Sparsity:                     0.004257\n",
              "Date:                Thu, 03 Dec 2020   No. Observations:                21608\n",
              "Time:                        11:36:31   Df Residuals:                    21594\n",
              "                                        Df Model:                           13\n",
              "==============================================================================\n",
              "                 coef    std err          t      P>|t|      [0.025      0.975]\n",
              "------------------------------------------------------------------------------\n",
              "Intercept      0.9992   4.62e-05   2.16e+04      0.000       0.999       0.999\n",
              "X[0]         117.1335      7.474     15.673      0.000     102.484     131.783\n",
              "X[1]        -215.5898     11.915    -18.094      0.000    -238.944    -192.235\n",
              "X[2]          -0.2010      0.000   -420.256      0.000      -0.202      -0.200\n",
              "X[3]        -822.8612     10.940    -75.214      0.000    -844.305    -801.417\n",
              "X[4]          -5.4272     26.281     -0.207      0.836     -56.939      46.085\n",
              "X[5]          90.3477      7.063     12.791      0.000      76.503     104.192\n",
              "X[6]          62.2076      8.178      7.607      0.000      46.178      78.237\n",
              "X[7]         136.4095     32.424      4.207      0.000      72.857     199.963\n",
              "X[8]          43.9375     12.637      3.477      0.001      19.168      68.707\n",
              "X[9]           0.3748      0.014     26.441      0.000       0.347       0.403\n",
              "X[10]         -0.1116      0.001   -183.067      0.000      -0.113      -0.110\n",
              "X[11]          0.1848      0.008     24.065      0.000       0.170       0.200\n",
              "X[12]         -1.4952      0.275     -5.435      0.000      -2.035      -0.956\n",
              "==============================================================================\n",
              "\n",
              "The condition number is large, 3.14e+06. This might indicate that there are\n",
              "strong multicollinearity or other numerical problems.\n",
              "\"\"\""
            ]
          },
          "metadata": {
            "tags": []
          },
          "execution_count": 645
        }
      ]
    },
    {
      "cell_type": "markdown",
      "metadata": {
        "id": "Bzkmy_yXTvpz"
      },
      "source": [
        ">* 2. Model 2: The 50th Percentile model."
      ]
    },
    {
      "cell_type": "code",
      "metadata": {
        "colab": {
          "base_uri": "https://localhost:8080/",
          "height": 524
        },
        "id": "rzTaAlaXNTzF",
        "outputId": "78d228ff-413f-4ebd-d9bf-466425232ca1"
      },
      "source": [
        "import statsmodels.formula.api as smf\n",
        "\n",
        "mod = smf.quantreg('y ~ X', data= df1,)\n",
        "res = mod.fit(q=0.5)\n",
        "\n",
        "quantile = res.summary()\n",
        "quantile"
      ],
      "execution_count": 646,
      "outputs": [
        {
          "output_type": "execute_result",
          "data": {
            "text/html": [
              "<table class=\"simpletable\">\n",
              "<caption>QuantReg Regression Results</caption>\n",
              "<tr>\n",
              "  <th>Dep. Variable:</th>         <td>y</td>        <th>  Pseudo R-squared:  </th> <td>  0.3174</td> \n",
              "</tr>\n",
              "<tr>\n",
              "  <th>Model:</th>             <td>QuantReg</td>     <th>  Bandwidth:         </th> <td>0.0001274</td>\n",
              "</tr>\n",
              "<tr>\n",
              "  <th>Method:</th>          <td>Least Squares</td>  <th>  Sparsity:          </th> <td>0.001711</td> \n",
              "</tr>\n",
              "<tr>\n",
              "  <th>Date:</th>          <td>Thu, 03 Dec 2020</td> <th>  No. Observations:  </th>  <td> 21608</td>  \n",
              "</tr>\n",
              "<tr>\n",
              "  <th>Time:</th>              <td>11:36:37</td>     <th>  Df Residuals:      </th>  <td> 21594</td>  \n",
              "</tr>\n",
              "<tr>\n",
              "  <th> </th>                      <td> </td>        <th>  Df Model:          </th>  <td>    13</td>  \n",
              "</tr>\n",
              "</table>\n",
              "<table class=\"simpletable\">\n",
              "<tr>\n",
              "      <td></td>         <th>coef</th>     <th>std err</th>      <th>t</th>      <th>P>|t|</th>  <th>[0.025</th>    <th>0.975]</th>  \n",
              "</tr>\n",
              "<tr>\n",
              "  <th>Intercept</th> <td>    0.9999</td> <td> 2.18e-05</td> <td> 4.58e+04</td> <td> 0.000</td> <td>    1.000</td> <td>    1.000</td>\n",
              "</tr>\n",
              "<tr>\n",
              "  <th>X[0]</th>      <td>   42.2659</td> <td>    3.226</td> <td>   13.100</td> <td> 0.000</td> <td>   35.942</td> <td>   48.590</td>\n",
              "</tr>\n",
              "<tr>\n",
              "  <th>X[1]</th>      <td>  -79.8259</td> <td>    5.506</td> <td>  -14.497</td> <td> 0.000</td> <td>  -90.619</td> <td>  -69.033</td>\n",
              "</tr>\n",
              "<tr>\n",
              "  <th>X[2]</th>      <td>   -0.0979</td> <td>    0.000</td> <td> -670.643</td> <td> 0.000</td> <td>   -0.098</td> <td>   -0.098</td>\n",
              "</tr>\n",
              "<tr>\n",
              "  <th>X[3]</th>      <td> -331.8618</td> <td>    5.564</td> <td>  -59.640</td> <td> 0.000</td> <td> -342.768</td> <td> -320.955</td>\n",
              "</tr>\n",
              "<tr>\n",
              "  <th>X[4]</th>      <td>    4.7647</td> <td>   11.804</td> <td>    0.404</td> <td> 0.686</td> <td>  -18.371</td> <td>   27.900</td>\n",
              "</tr>\n",
              "<tr>\n",
              "  <th>X[5]</th>      <td>   51.1639</td> <td>    3.365</td> <td>   15.203</td> <td> 0.000</td> <td>   44.568</td> <td>   57.760</td>\n",
              "</tr>\n",
              "<tr>\n",
              "  <th>X[6]</th>      <td>   51.1262</td> <td>    3.683</td> <td>   13.880</td> <td> 0.000</td> <td>   43.907</td> <td>   58.346</td>\n",
              "</tr>\n",
              "<tr>\n",
              "  <th>X[7]</th>      <td>  170.2796</td> <td>   16.903</td> <td>   10.074</td> <td> 0.000</td> <td>  137.148</td> <td>  203.411</td>\n",
              "</tr>\n",
              "<tr>\n",
              "  <th>X[8]</th>      <td>   64.0684</td> <td>    6.589</td> <td>    9.724</td> <td> 0.000</td> <td>   51.154</td> <td>   76.983</td>\n",
              "</tr>\n",
              "<tr>\n",
              "  <th>X[9]</th>      <td>    0.1630</td> <td>    0.006</td> <td>   25.262</td> <td> 0.000</td> <td>    0.150</td> <td>    0.176</td>\n",
              "</tr>\n",
              "<tr>\n",
              "  <th>X[10]</th>     <td>   -0.0487</td> <td>    0.000</td> <td> -266.360</td> <td> 0.000</td> <td>   -0.049</td> <td>   -0.048</td>\n",
              "</tr>\n",
              "<tr>\n",
              "  <th>X[11]</th>     <td>    0.0776</td> <td>    0.004</td> <td>   22.078</td> <td> 0.000</td> <td>    0.071</td> <td>    0.085</td>\n",
              "</tr>\n",
              "<tr>\n",
              "  <th>X[12]</th>     <td>   -0.3924</td> <td>    0.116</td> <td>   -3.385</td> <td> 0.001</td> <td>   -0.620</td> <td>   -0.165</td>\n",
              "</tr>\n",
              "</table><br/><br/>The condition number is large, 3.14e+06. This might indicate that there are<br/>strong multicollinearity or other numerical problems."
            ],
            "text/plain": [
              "<class 'statsmodels.iolib.summary.Summary'>\n",
              "\"\"\"\n",
              "                         QuantReg Regression Results                          \n",
              "==============================================================================\n",
              "Dep. Variable:                      y   Pseudo R-squared:               0.3174\n",
              "Model:                       QuantReg   Bandwidth:                   0.0001274\n",
              "Method:                 Least Squares   Sparsity:                     0.001711\n",
              "Date:                Thu, 03 Dec 2020   No. Observations:                21608\n",
              "Time:                        11:36:37   Df Residuals:                    21594\n",
              "                                        Df Model:                           13\n",
              "==============================================================================\n",
              "                 coef    std err          t      P>|t|      [0.025      0.975]\n",
              "------------------------------------------------------------------------------\n",
              "Intercept      0.9999   2.18e-05   4.58e+04      0.000       1.000       1.000\n",
              "X[0]          42.2659      3.226     13.100      0.000      35.942      48.590\n",
              "X[1]         -79.8259      5.506    -14.497      0.000     -90.619     -69.033\n",
              "X[2]          -0.0979      0.000   -670.643      0.000      -0.098      -0.098\n",
              "X[3]        -331.8618      5.564    -59.640      0.000    -342.768    -320.955\n",
              "X[4]           4.7647     11.804      0.404      0.686     -18.371      27.900\n",
              "X[5]          51.1639      3.365     15.203      0.000      44.568      57.760\n",
              "X[6]          51.1262      3.683     13.880      0.000      43.907      58.346\n",
              "X[7]         170.2796     16.903     10.074      0.000     137.148     203.411\n",
              "X[8]          64.0684      6.589      9.724      0.000      51.154      76.983\n",
              "X[9]           0.1630      0.006     25.262      0.000       0.150       0.176\n",
              "X[10]         -0.0487      0.000   -266.360      0.000      -0.049      -0.048\n",
              "X[11]          0.0776      0.004     22.078      0.000       0.071       0.085\n",
              "X[12]         -0.3924      0.116     -3.385      0.001      -0.620      -0.165\n",
              "==============================================================================\n",
              "\n",
              "The condition number is large, 3.14e+06. This might indicate that there are\n",
              "strong multicollinearity or other numerical problems.\n",
              "\"\"\""
            ]
          },
          "metadata": {
            "tags": []
          },
          "execution_count": 646
        }
      ]
    },
    {
      "cell_type": "markdown",
      "metadata": {
        "id": "mmjodXJCT6NW"
      },
      "source": [
        ">* 3. Model 3: The 75th Percentile Model."
      ]
    },
    {
      "cell_type": "code",
      "metadata": {
        "colab": {
          "base_uri": "https://localhost:8080/",
          "height": 524
        },
        "id": "vROnkLxfTjTs",
        "outputId": "6ab6ed66-2e62-48b4-e247-8cb1f84c88e9"
      },
      "source": [
        "import statsmodels.formula.api as smf\n",
        "\n",
        "mod = smf.quantreg('y ~ X', data= df1,)\n",
        "res = mod.fit(q=0.75)\n",
        "\n",
        "quantile = res.summary()\n",
        "quantile"
      ],
      "execution_count": 647,
      "outputs": [
        {
          "output_type": "execute_result",
          "data": {
            "text/html": [
              "<table class=\"simpletable\">\n",
              "<caption>QuantReg Regression Results</caption>\n",
              "<tr>\n",
              "  <th>Dep. Variable:</th>         <td>y</td>        <th>  Pseudo R-squared:  </th> <td>  0.2500</td> \n",
              "</tr>\n",
              "<tr>\n",
              "  <th>Model:</th>             <td>QuantReg</td>     <th>  Bandwidth:         </th> <td>5.061e-05</td>\n",
              "</tr>\n",
              "<tr>\n",
              "  <th>Method:</th>          <td>Least Squares</td>  <th>  Sparsity:          </th> <td>0.001028</td> \n",
              "</tr>\n",
              "<tr>\n",
              "  <th>Date:</th>          <td>Thu, 03 Dec 2020</td> <th>  No. Observations:  </th>  <td> 21608</td>  \n",
              "</tr>\n",
              "<tr>\n",
              "  <th>Time:</th>              <td>11:36:44</td>     <th>  Df Residuals:      </th>  <td> 21594</td>  \n",
              "</tr>\n",
              "<tr>\n",
              "  <th> </th>                      <td> </td>        <th>  Df Model:          </th>  <td>    13</td>  \n",
              "</tr>\n",
              "</table>\n",
              "<table class=\"simpletable\">\n",
              "<tr>\n",
              "      <td></td>         <th>coef</th>     <th>std err</th>      <th>t</th>      <th>P>|t|</th>  <th>[0.025</th>    <th>0.975]</th>  \n",
              "</tr>\n",
              "<tr>\n",
              "  <th>Intercept</th> <td>    1.0004</td> <td> 1.05e-05</td> <td> 9.55e+04</td> <td> 0.000</td> <td>    1.000</td> <td>    1.000</td>\n",
              "</tr>\n",
              "<tr>\n",
              "  <th>X[0]</th>      <td>   13.7479</td> <td>    1.594</td> <td>    8.626</td> <td> 0.000</td> <td>   10.624</td> <td>   16.872</td>\n",
              "</tr>\n",
              "<tr>\n",
              "  <th>X[1]</th>      <td>  -18.4989</td> <td>    2.751</td> <td>   -6.724</td> <td> 0.000</td> <td>  -23.892</td> <td>  -13.106</td>\n",
              "</tr>\n",
              "<tr>\n",
              "  <th>X[2]</th>      <td>   -0.0517</td> <td> 4.61e-05</td> <td>-1122.717</td> <td> 0.000</td> <td>   -0.052</td> <td>   -0.052</td>\n",
              "</tr>\n",
              "<tr>\n",
              "  <th>X[3]</th>      <td> -105.2294</td> <td>    2.893</td> <td>  -36.370</td> <td> 0.000</td> <td> -110.900</td> <td>  -99.558</td>\n",
              "</tr>\n",
              "<tr>\n",
              "  <th>X[4]</th>      <td>    4.8583</td> <td>    6.074</td> <td>    0.800</td> <td> 0.424</td> <td>   -7.048</td> <td>   16.764</td>\n",
              "</tr>\n",
              "<tr>\n",
              "  <th>X[5]</th>      <td>   17.1499</td> <td>    1.684</td> <td>   10.182</td> <td> 0.000</td> <td>   13.849</td> <td>   20.451</td>\n",
              "</tr>\n",
              "<tr>\n",
              "  <th>X[6]</th>      <td>   17.7364</td> <td>    1.781</td> <td>    9.960</td> <td> 0.000</td> <td>   14.246</td> <td>   21.227</td>\n",
              "</tr>\n",
              "<tr>\n",
              "  <th>X[7]</th>      <td>  154.4644</td> <td>    9.155</td> <td>   16.872</td> <td> 0.000</td> <td>  136.520</td> <td>  172.409</td>\n",
              "</tr>\n",
              "<tr>\n",
              "  <th>X[8]</th>      <td>   59.4295</td> <td>    3.568</td> <td>   16.654</td> <td> 0.000</td> <td>   52.435</td> <td>   66.424</td>\n",
              "</tr>\n",
              "<tr>\n",
              "  <th>X[9]</th>      <td>    0.0647</td> <td>    0.003</td> <td>   20.654</td> <td> 0.000</td> <td>    0.059</td> <td>    0.071</td>\n",
              "</tr>\n",
              "<tr>\n",
              "  <th>X[10]</th>     <td>   -0.0323</td> <td>  5.8e-05</td> <td> -556.701</td> <td> 0.000</td> <td>   -0.032</td> <td>   -0.032</td>\n",
              "</tr>\n",
              "<tr>\n",
              "  <th>X[11]</th>     <td>    0.0258</td> <td>    0.002</td> <td>   14.747</td> <td> 0.000</td> <td>    0.022</td> <td>    0.029</td>\n",
              "</tr>\n",
              "<tr>\n",
              "  <th>X[12]</th>     <td>   -0.0956</td> <td>    0.055</td> <td>   -1.744</td> <td> 0.081</td> <td>   -0.203</td> <td>    0.012</td>\n",
              "</tr>\n",
              "</table><br/><br/>The condition number is large, 3.14e+06. This might indicate that there are<br/>strong multicollinearity or other numerical problems."
            ],
            "text/plain": [
              "<class 'statsmodels.iolib.summary.Summary'>\n",
              "\"\"\"\n",
              "                         QuantReg Regression Results                          \n",
              "==============================================================================\n",
              "Dep. Variable:                      y   Pseudo R-squared:               0.2500\n",
              "Model:                       QuantReg   Bandwidth:                   5.061e-05\n",
              "Method:                 Least Squares   Sparsity:                     0.001028\n",
              "Date:                Thu, 03 Dec 2020   No. Observations:                21608\n",
              "Time:                        11:36:44   Df Residuals:                    21594\n",
              "                                        Df Model:                           13\n",
              "==============================================================================\n",
              "                 coef    std err          t      P>|t|      [0.025      0.975]\n",
              "------------------------------------------------------------------------------\n",
              "Intercept      1.0004   1.05e-05   9.55e+04      0.000       1.000       1.000\n",
              "X[0]          13.7479      1.594      8.626      0.000      10.624      16.872\n",
              "X[1]         -18.4989      2.751     -6.724      0.000     -23.892     -13.106\n",
              "X[2]          -0.0517   4.61e-05  -1122.717      0.000      -0.052      -0.052\n",
              "X[3]        -105.2294      2.893    -36.370      0.000    -110.900     -99.558\n",
              "X[4]           4.8583      6.074      0.800      0.424      -7.048      16.764\n",
              "X[5]          17.1499      1.684     10.182      0.000      13.849      20.451\n",
              "X[6]          17.7364      1.781      9.960      0.000      14.246      21.227\n",
              "X[7]         154.4644      9.155     16.872      0.000     136.520     172.409\n",
              "X[8]          59.4295      3.568     16.654      0.000      52.435      66.424\n",
              "X[9]           0.0647      0.003     20.654      0.000       0.059       0.071\n",
              "X[10]         -0.0323    5.8e-05   -556.701      0.000      -0.032      -0.032\n",
              "X[11]          0.0258      0.002     14.747      0.000       0.022       0.029\n",
              "X[12]         -0.0956      0.055     -1.744      0.081      -0.203       0.012\n",
              "==============================================================================\n",
              "\n",
              "The condition number is large, 3.14e+06. This might indicate that there are\n",
              "strong multicollinearity or other numerical problems.\n",
              "\"\"\""
            ]
          },
          "metadata": {
            "tags": []
          },
          "execution_count": 647
        }
      ]
    },
    {
      "cell_type": "markdown",
      "metadata": {
        "id": "2w-o_Gb4UG1S"
      },
      "source": [
        ">* The Quantile Regression models also appear to not be the best models for this Prediction.\n",
        ">* The models have very low R-squared values."
      ]
    },
    {
      "cell_type": "markdown",
      "metadata": {
        "id": "PdKnH3bdszYo"
      },
      "source": [
        "### 3.3.Lasso Regression Model."
      ]
    },
    {
      "cell_type": "markdown",
      "metadata": {
        "id": "cpn3axtyrJ7q"
      },
      "source": [
        ">* The Lasso Regression model also works well with Multicollinearity and is robust on Outliers.\n",
        ">* I therefore did not eliminate the outliers of the Target Variable in my analysis."
      ]
    },
    {
      "cell_type": "markdown",
      "metadata": {
        "id": "DHs6uElmvgTz"
      },
      "source": [
        ">* The Lasso Regression Model penalizes less important features and acts as a shrinkage parameter and also does variable selection.\n",
        ">* Fitting the model we have:"
      ]
    },
    {
      "cell_type": "code",
      "metadata": {
        "colab": {
          "base_uri": "https://localhost:8080/"
        },
        "id": "PFLovp0Us1_f",
        "outputId": "685e2f3b-2d72-4213-d652-72d327f14bbf"
      },
      "source": [
        "#Fitting the model\n",
        "lasso =linear_model.Lasso(alpha=0.001) \n",
        "lasso = lasso.fit(X_train, y_train) \n",
        "y_pred = lasso.predict(X_test) \n",
        "print(\"lasso MSE:\", mean_squared_error(y_test,y_pred)) \n",
        "print('Root Mean Squared Error:', np.sqrt(metrics.mean_squared_error(y_test,y_pred)))\n"
      ],
      "execution_count": 648,
      "outputs": [
        {
          "output_type": "stream",
          "text": [
            "lasso MSE: 9.408042084940052e-05\n",
            "Root Mean Squared Error: 0.009699506216782405\n"
          ],
          "name": "stdout"
        }
      ]
    },
    {
      "cell_type": "code",
      "metadata": {
        "colab": {
          "base_uri": "https://localhost:8080/"
        },
        "id": "0lbjnEr3XkUX",
        "outputId": "88eeeb16-4a82-456b-f4fe-69ced0c8dd6a"
      },
      "source": [
        "coef_dict_baseline = {}\n",
        "for coef, feat in zip(lasso.coef_,X.columns):\n",
        "    coef_dict_baseline[feat] = coef\n",
        "coef_dict_baseline"
      ],
      "execution_count": 649,
      "outputs": [
        {
          "output_type": "execute_result",
          "data": {
            "text/plain": [
              "{'Years': 0.00025386825283194714,\n",
              " 'bathrooms': 0.0,\n",
              " 'bedrooms': 0.0,\n",
              " 'condition': 0.00023716049358548055,\n",
              " 'floors': -0.0,\n",
              " 'grade': 0.0,\n",
              " 'house_size': 0.0009870694645332276,\n",
              " 'lat': 0.0,\n",
              " 'long': -0.0,\n",
              " 'sqft_living15': 0.001607210389275035,\n",
              " 'sqft_lot': -0.014724346957662685,\n",
              " 'sqft_lot15': -0.008330637390839035,\n",
              " 'view': -0.0}"
            ]
          },
          "metadata": {
            "tags": []
          },
          "execution_count": 649
        }
      ]
    },
    {
      "cell_type": "code",
      "metadata": {
        "colab": {
          "base_uri": "https://localhost:8080/"
        },
        "id": "S8RjkALAMhk5",
        "outputId": "1d714d5a-016d-4c59-86eb-17735af74524"
      },
      "source": [
        "from sklearn.metrics import r2_score\n",
        "lasso = lasso.fit(X_train, y_train) \n",
        "y_pred = lasso.predict(X_test)\n",
        "score = r2_score(y_test, y_pred)\n",
        "score"
      ],
      "execution_count": 650,
      "outputs": [
        {
          "output_type": "execute_result",
          "data": {
            "text/plain": [
              "0.8075401757202085"
            ]
          },
          "metadata": {
            "tags": []
          },
          "execution_count": 650
        }
      ]
    },
    {
      "cell_type": "code",
      "metadata": {
        "id": "jwQrZ6v5xfvd",
        "colab": {
          "base_uri": "https://localhost:8080/"
        },
        "outputId": "924f02b3-0f6e-456f-b37a-53881a75f6ee"
      },
      "source": [
        "parameters = {'alpha': np.concatenate((np.arange(0.0001,0.1,0.1), np.arange(2, 5, 0.5), np.arange(5, 1000, 5)))}\n",
        "lasso = linear_model.Lasso(normalize=True ,max_iter=1000000) \n",
        "gridlasso = GridSearchCV(lasso, parameters, scoring ='r2',cv=20) \n",
        "gridlasso.fit(X_train, y_train) \n",
        " \n",
        "print(\"lasso best parameters:\", gridlasso.best_params_) "
      ],
      "execution_count": 651,
      "outputs": [
        {
          "output_type": "stream",
          "text": [
            "lasso best parameters: {'alpha': 0.0001}\n"
          ],
          "name": "stdout"
        }
      ]
    },
    {
      "cell_type": "code",
      "metadata": {
        "colab": {
          "base_uri": "https://localhost:8080/",
          "height": 284
        },
        "id": "NgRGrSVhyW1a",
        "outputId": "79ddbe86-347f-47df-ff5b-21b76fde57ae"
      },
      "source": [
        "\n",
        "lasso = linear_model.Lasso(normalize=True,alpha =0.0001)\n",
        "lasso.fit(X_train, y_train)\n",
        "predicted = lasso.predict(X_test)\n",
        "df2 = pd.DataFrame({'Actual': y_test, 'Predicted': predicted})\n",
        "df2.describe()"
      ],
      "execution_count": 652,
      "outputs": [
        {
          "output_type": "execute_result",
          "data": {
            "text/html": [
              "<div>\n",
              "<style scoped>\n",
              "    .dataframe tbody tr th:only-of-type {\n",
              "        vertical-align: middle;\n",
              "    }\n",
              "\n",
              "    .dataframe tbody tr th {\n",
              "        vertical-align: top;\n",
              "    }\n",
              "\n",
              "    .dataframe thead th {\n",
              "        text-align: right;\n",
              "    }\n",
              "</style>\n",
              "<table border=\"1\" class=\"dataframe\">\n",
              "  <thead>\n",
              "    <tr style=\"text-align: right;\">\n",
              "      <th></th>\n",
              "      <th>Actual</th>\n",
              "      <th>Predicted</th>\n",
              "    </tr>\n",
              "  </thead>\n",
              "  <tbody>\n",
              "    <tr>\n",
              "      <th>count</th>\n",
              "      <td>4322.00000</td>\n",
              "      <td>4322.00000</td>\n",
              "    </tr>\n",
              "    <tr>\n",
              "      <th>mean</th>\n",
              "      <td>0.99631</td>\n",
              "      <td>0.99601</td>\n",
              "    </tr>\n",
              "    <tr>\n",
              "      <th>std</th>\n",
              "      <td>0.02211</td>\n",
              "      <td>0.00809</td>\n",
              "    </tr>\n",
              "    <tr>\n",
              "      <th>min</th>\n",
              "      <td>0.52710</td>\n",
              "      <td>0.88950</td>\n",
              "    </tr>\n",
              "    <tr>\n",
              "      <th>25%</th>\n",
              "      <td>0.99901</td>\n",
              "      <td>0.99594</td>\n",
              "    </tr>\n",
              "    <tr>\n",
              "      <th>50%</th>\n",
              "      <td>0.99966</td>\n",
              "      <td>0.99797</td>\n",
              "    </tr>\n",
              "    <tr>\n",
              "      <th>75%</th>\n",
              "      <td>0.99988</td>\n",
              "      <td>0.99906</td>\n",
              "    </tr>\n",
              "    <tr>\n",
              "      <th>max</th>\n",
              "      <td>0.99999</td>\n",
              "      <td>1.00027</td>\n",
              "    </tr>\n",
              "  </tbody>\n",
              "</table>\n",
              "</div>"
            ],
            "text/plain": [
              "          Actual  Predicted\n",
              "count 4322.00000 4322.00000\n",
              "mean     0.99631    0.99601\n",
              "std      0.02211    0.00809\n",
              "min      0.52710    0.88950\n",
              "25%      0.99901    0.99594\n",
              "50%      0.99966    0.99797\n",
              "75%      0.99988    0.99906\n",
              "max      0.99999    1.00027"
            ]
          },
          "metadata": {
            "tags": []
          },
          "execution_count": 652
        }
      ]
    },
    {
      "cell_type": "markdown",
      "metadata": {
        "id": "_N0ZfW99JeM1"
      },
      "source": [
        "### 3.4.Ridge Regression Model\n",
        "\n"
      ]
    },
    {
      "cell_type": "markdown",
      "metadata": {
        "id": "CkpKCSGxjEO3"
      },
      "source": [
        ">* The Ridge Regression Model works well with Multicollinearity however it performs poorly in the presence of outliers therefore I removed the outliers from my Target Variable."
      ]
    },
    {
      "cell_type": "markdown",
      "metadata": {
        "id": "P8Z-PE5pZCVr"
      },
      "source": [
        ">* The Ridge regression model focuses on the features that contribute more to the overall error.\n",
        ">* It still uses information from the less important features.\n",
        ">* The Ridge regression model uses the l2 regularization applying a penalty to the sum of squared values.\n",
        ">* Its limitation is that it cannot be used for feature selection."
      ]
    },
    {
      "cell_type": "code",
      "metadata": {
        "colab": {
          "base_uri": "https://localhost:8080/"
        },
        "id": "Ecur4X6RZk5M",
        "outputId": "20b93b4a-692f-45f7-e08f-998b125e33f5"
      },
      "source": [
        "ridge = Ridge(normalize=True)\n",
        "search = GridSearchCV(estimator=ridge,param_grid={'alpha':np.logspace(-5,2,10)},scoring='neg_mean_squared_error',n_jobs=1,refit=True,cv=10)\n",
        "search.fit(X_train,y_train)"
      ],
      "execution_count": 653,
      "outputs": [
        {
          "output_type": "execute_result",
          "data": {
            "text/plain": [
              "GridSearchCV(cv=10, error_score=nan,\n",
              "             estimator=Ridge(alpha=1.0, copy_X=True, fit_intercept=True,\n",
              "                             max_iter=None, normalize=True, random_state=None,\n",
              "                             solver='auto', tol=0.001),\n",
              "             iid='deprecated', n_jobs=1,\n",
              "             param_grid={'alpha': array([1.00000000e-05, 5.99484250e-05, 3.59381366e-04, 2.15443469e-03,\n",
              "       1.29154967e-02, 7.74263683e-02, 4.64158883e-01, 2.78255940e+00,\n",
              "       1.66810054e+01, 1.00000000e+02])},\n",
              "             pre_dispatch='2*n_jobs', refit=True, return_train_score=False,\n",
              "             scoring='neg_mean_squared_error', verbose=0)"
            ]
          },
          "metadata": {
            "tags": []
          },
          "execution_count": 653
        }
      ]
    },
    {
      "cell_type": "code",
      "metadata": {
        "colab": {
          "base_uri": "https://localhost:8080/"
        },
        "id": "1BElX-KGZrTo",
        "outputId": "6d15d6bc-4a0d-4da7-c52a-747d1bc40318"
      },
      "source": [
        "\n",
        "search.best_params_"
      ],
      "execution_count": 654,
      "outputs": [
        {
          "output_type": "execute_result",
          "data": {
            "text/plain": [
              "{'alpha': 1e-05}"
            ]
          },
          "metadata": {
            "tags": []
          },
          "execution_count": 654
        }
      ]
    },
    {
      "cell_type": "code",
      "metadata": {
        "colab": {
          "base_uri": "https://localhost:8080/"
        },
        "id": "uG3dn5HpZ49J",
        "outputId": "e2ea31ea-e946-4249-bd63-90a11d366cb4"
      },
      "source": [
        "ridge = Ridge(normalize=True,alpha=1e-05)\n",
        "ridge = ridge.fit(X_train,y_train)\n",
        "y_pred = ridge.predict(X_test)\n",
        "print('Mean squared error',mean_squared_error(y_test,y_pred))\n",
        "print('Root Mean Squared Error:', np.sqrt(mean_squared_error(y_test,y_pred)))\n",
        "\n"
      ],
      "execution_count": 658,
      "outputs": [
        {
          "output_type": "stream",
          "text": [
            "Mean squared error 9.435056861282427e-05\n",
            "Root Mean Squared Error: 0.00971342208558983\n"
          ],
          "name": "stdout"
        }
      ]
    },
    {
      "cell_type": "code",
      "metadata": {
        "colab": {
          "base_uri": "https://localhost:8080/"
        },
        "id": "K2TS5tS85ERm",
        "outputId": "2ba147e8-8697-434e-98e6-894ea3c6ac09"
      },
      "source": [
        "coef_dict_baseline = {}\n",
        "for coef, feat in zip(ridge.coef_,X.columns):\n",
        "    coef_dict_baseline[feat] = coef\n",
        "coef_dict_baseline"
      ],
      "execution_count": 659,
      "outputs": [
        {
          "output_type": "execute_result",
          "data": {
            "text/plain": [
              "{'Years': 0.00010834552614857811,\n",
              " 'bathrooms': -0.001243179115749933,\n",
              " 'bedrooms': -0.000660951910942502,\n",
              " 'condition': 0.0006384931223528269,\n",
              " 'floors': -0.002472893408355719,\n",
              " 'grade': 0.001999829996720745,\n",
              " 'house_size': 0.0028409973142390103,\n",
              " 'lat': 0.04192701384896066,\n",
              " 'long': 0.041416310748458175,\n",
              " 'sqft_living15': 0.0021817637601729595,\n",
              " 'sqft_lot': -0.015432413854847902,\n",
              " 'sqft_lot15': -0.009344794797419087,\n",
              " 'view': -0.0001626088790480866}"
            ]
          },
          "metadata": {
            "tags": []
          },
          "execution_count": 659
        }
      ]
    },
    {
      "cell_type": "code",
      "metadata": {
        "colab": {
          "base_uri": "https://localhost:8080/"
        },
        "id": "G34eS6SVa5_P",
        "outputId": "d684b8bb-1619-41e6-e009-febb41f026b4"
      },
      "source": [
        "from sklearn.metrics import r2_score\n",
        "ridge = ridge.fit(X_train,y_train)\n",
        "y_pred=ridge.predict(X_test)\n",
        "score = r2_score(y_test, y_pred)\n",
        "score"
      ],
      "execution_count": 660,
      "outputs": [
        {
          "output_type": "execute_result",
          "data": {
            "text/plain": [
              "0.8069875358552006"
            ]
          },
          "metadata": {
            "tags": []
          },
          "execution_count": 660
        }
      ]
    },
    {
      "cell_type": "markdown",
      "metadata": {
        "id": "VxpZddUXN3BV"
      },
      "source": [
        ">* After fitting the model and getting the RMSE was still high , the r2_score was 0.587 which was not to low however it could possibly be higher.\n",
        ">* This model also does not give accurate predictions giving the minimum value as a very low figure."
      ]
    },
    {
      "cell_type": "markdown",
      "metadata": {
        "id": "Q0prAVvz8jnJ"
      },
      "source": [
        "### 3.5.ElasticNet Regression Model."
      ]
    },
    {
      "cell_type": "markdown",
      "metadata": {
        "id": "wQYGO9CCnojV"
      },
      "source": [
        ">* The ElasticNet model works well with Multicollinearity and is also robust in the presence of outliers.\n"
      ]
    },
    {
      "cell_type": "markdown",
      "metadata": {
        "id": "Xy9OJokMh2FK"
      },
      "source": [
        "##### 3.5.2.Fitting the Model."
      ]
    },
    {
      "cell_type": "markdown",
      "metadata": {
        "id": "w5vm2T8UYrix"
      },
      "source": [
        ">* The Elasticnet model uses both Li and L2 regularizations,it applies penalties to both the sum of the absolute values and to the sum of the squared values."
      ]
    },
    {
      "cell_type": "code",
      "metadata": {
        "id": "M9QtKGoe8mrJ",
        "colab": {
          "base_uri": "https://localhost:8080/"
        },
        "outputId": "28852ec3-51e2-4a3e-897e-4381d633382b"
      },
      "source": [
        "elastic=ElasticNet(normalize=True)\n",
        "search=GridSearchCV(estimator=elastic,param_grid={'alpha':np.logspace(-5,2,8),'l1_ratio':[.2,.4,.6,.8]},scoring='neg_mean_squared_error',n_jobs=1,refit=True,cv=10)\n",
        "search.fit(X_train,y_train)"
      ],
      "execution_count": 661,
      "outputs": [
        {
          "output_type": "execute_result",
          "data": {
            "text/plain": [
              "GridSearchCV(cv=10, error_score=nan,\n",
              "             estimator=ElasticNet(alpha=1.0, copy_X=True, fit_intercept=True,\n",
              "                                  l1_ratio=0.5, max_iter=1000, normalize=True,\n",
              "                                  positive=False, precompute=False,\n",
              "                                  random_state=None, selection='cyclic',\n",
              "                                  tol=0.0001, warm_start=False),\n",
              "             iid='deprecated', n_jobs=1,\n",
              "             param_grid={'alpha': array([1.e-05, 1.e-04, 1.e-03, 1.e-02, 1.e-01, 1.e+00, 1.e+01, 1.e+02]),\n",
              "                         'l1_ratio': [0.2, 0.4, 0.6, 0.8]},\n",
              "             pre_dispatch='2*n_jobs', refit=True, return_train_score=False,\n",
              "             scoring='neg_mean_squared_error', verbose=0)"
            ]
          },
          "metadata": {
            "tags": []
          },
          "execution_count": 661
        }
      ]
    },
    {
      "cell_type": "code",
      "metadata": {
        "colab": {
          "base_uri": "https://localhost:8080/"
        },
        "id": "7xvyw0kx939S",
        "outputId": "2960c12c-87b0-4723-8d47-caad44112235"
      },
      "source": [
        "search.best_params_"
      ],
      "execution_count": 662,
      "outputs": [
        {
          "output_type": "execute_result",
          "data": {
            "text/plain": [
              "{'alpha': 1e-05, 'l1_ratio': 0.2}"
            ]
          },
          "metadata": {
            "tags": []
          },
          "execution_count": 662
        }
      ]
    },
    {
      "cell_type": "code",
      "metadata": {
        "colab": {
          "base_uri": "https://localhost:8080/"
        },
        "id": "jQImLzAs9fq6",
        "outputId": "ce889552-6028-4902-d215-58d891908783"
      },
      "source": [
        "elastic=ElasticNet(normalize=True,alpha=1e-05,l1_ratio=0.2)\n",
        "elastic = elastic.fit(X_train,y_train)\n",
        "y_pred = elastic.predict(X_test)\n",
        "print('Mean Squared Error :' ,mean_squared_error(y_test,y_pred))\n",
        "print('Root Mean Squared Error:', np.sqrt(metrics.mean_squared_error(y_test, y_pred)))\n"
      ],
      "execution_count": 663,
      "outputs": [
        {
          "output_type": "stream",
          "text": [
            "Mean Squared Error : 9.474124666127609e-05\n",
            "Root Mean Squared Error: 0.009733511527772291\n"
          ],
          "name": "stdout"
        }
      ]
    },
    {
      "cell_type": "code",
      "metadata": {
        "id": "-7u7aB7ftwQT",
        "colab": {
          "base_uri": "https://localhost:8080/"
        },
        "outputId": "44f573b2-33bc-4237-e92c-650d1dc5e3c2"
      },
      "source": [
        "coef_dict_baseline = {}\n",
        "for coef, feat in zip(elastic.coef_,X.columns):\n",
        "    coef_dict_baseline[feat] = coef\n",
        "coef_dict_baseline"
      ],
      "execution_count": 664,
      "outputs": [
        {
          "output_type": "execute_result",
          "data": {
            "text/plain": [
              "{'Years': 0.00044910050564447943,\n",
              " 'bathrooms': -0.0,\n",
              " 'bedrooms': 0.0,\n",
              " 'condition': 0.00042947947186311886,\n",
              " 'floors': -0.0008114647551310293,\n",
              " 'grade': 0.0006697580883779589,\n",
              " 'house_size': 0.0013779626968903826,\n",
              " 'lat': 8.130663921827293e-05,\n",
              " 'long': -6.793300025162839e-05,\n",
              " 'sqft_living15': 0.0014041871496891574,\n",
              " 'sqft_lot': -0.013250711555592256,\n",
              " 'sqft_lot15': -0.00903370146918332,\n",
              " 'view': -0.0}"
            ]
          },
          "metadata": {
            "tags": []
          },
          "execution_count": 664
        }
      ]
    },
    {
      "cell_type": "code",
      "metadata": {
        "colab": {
          "base_uri": "https://localhost:8080/"
        },
        "id": "NtAtJ9NDa3nO",
        "outputId": "68ca1884-5d4a-48a0-971e-faed2a401d59"
      },
      "source": [
        "from sklearn.metrics import r2_score\n",
        "y_pred=elastic.predict(X_test)\n",
        "score = r2_score(y_test, y_pred)\n",
        "score"
      ],
      "execution_count": 665,
      "outputs": [
        {
          "output_type": "execute_result",
          "data": {
            "text/plain": [
              "0.806188327817267"
            ]
          },
          "metadata": {
            "tags": []
          },
          "execution_count": 665
        }
      ]
    }
  ]
}